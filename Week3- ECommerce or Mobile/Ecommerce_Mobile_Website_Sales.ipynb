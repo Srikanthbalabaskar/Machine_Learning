{
 "cells": [
  {
   "cell_type": "code",
   "execution_count": 1,
   "metadata": {},
   "outputs": [
    {
     "data": {
      "text/plain": [
       "\"\\nAuthor: Srikanth\\nTitle: Ecommerce_Mobile_WebSite sales\\nDate:16th June,2020\\nObjective:To read Data in 'Ecommerce_customers' file. Predict the Sales, Error Metrics using Linear Regression.\\nAlso we can perform Normatization, try Lasso and Ridge to see if any of our results vary\\n\""
      ]
     },
     "execution_count": 1,
     "metadata": {},
     "output_type": "execute_result"
    }
   ],
   "source": [
    "'''\n",
    "Author: Srikanth\n",
    "Title: Ecommerce_Mobile_WebSite sales\n",
    "Date:16th June,2020\n",
    "Objective:To read Data in 'Ecommerce_customers' file. Predict the Sales, Error Metrics using Linear Regression.\n",
    "Also we can perform Normatization, try Lasso and Ridge to see if any of our results vary\n",
    "'''"
   ]
  },
  {
   "cell_type": "markdown",
   "metadata": {},
   "source": [
    "# Description of Data Set"
   ]
  },
  {
   "cell_type": "markdown",
   "metadata": {},
   "source": [
    "The data set contains Customer's email addess, Address, his average session length at Store, Time spent in App, Time Spent in Website, Length of Membership and his yearly amount spent.  Customers go to Physical Stores, have some sessions and Order the Items either through Mobile app or Website. "
   ]
  },
  {
   "cell_type": "markdown",
   "metadata": {},
   "source": [
    "# Approach to Data Set"
   ]
  },
  {
   "cell_type": "markdown",
   "metadata": {},
   "source": [
    "We will follow the below approach to this Data Set\n",
    "Step 1: Reading and Cleaning the data\n",
    "Step 2: Linear Regression Without Normalization\n",
    "Step 3: Linear Regression with Normalization\n",
    "Step 4: Linear Regression using Interaction Terms(No Normalization)\n",
    "Step 5: Linear Regression using Interaction Terms(Normalization)\n",
    "Step 6: Linear Regression with Ridge(Alpha Value=0.1)\n",
    "Step 7:Linear Regression with Lasso(Alpha Value=0.1)"
   ]
  },
  {
   "cell_type": "code",
   "execution_count": 2,
   "metadata": {},
   "outputs": [],
   "source": [
    "# Step 1 : Reading and Cleaning Data"
   ]
  },
  {
   "cell_type": "code",
   "execution_count": 3,
   "metadata": {},
   "outputs": [],
   "source": [
    "import pandas as pd\n",
    "import numpy as np\n",
    "import matplotlib.pyplot as plt\n",
    "import seaborn as sns"
   ]
  },
  {
   "cell_type": "code",
   "execution_count": 4,
   "metadata": {},
   "outputs": [],
   "source": [
    "df = pd.read_csv(\"C:/Users\\srika\\OneDrive\\Documents\\Sri\\Course\\Inceptez_DS\\ML\\Day4-Assignment_Mobilevs Store\\Ecommerce_Customers\")"
   ]
  },
  {
   "cell_type": "code",
   "execution_count": 5,
   "metadata": {},
   "outputs": [
    {
     "data": {
      "text/html": [
       "<div>\n",
       "<style scoped>\n",
       "    .dataframe tbody tr th:only-of-type {\n",
       "        vertical-align: middle;\n",
       "    }\n",
       "\n",
       "    .dataframe tbody tr th {\n",
       "        vertical-align: top;\n",
       "    }\n",
       "\n",
       "    .dataframe thead th {\n",
       "        text-align: right;\n",
       "    }\n",
       "</style>\n",
       "<table border=\"1\" class=\"dataframe\">\n",
       "  <thead>\n",
       "    <tr style=\"text-align: right;\">\n",
       "      <th></th>\n",
       "      <th>Email</th>\n",
       "      <th>Address</th>\n",
       "      <th>Avatar</th>\n",
       "      <th>Avg. Session Length</th>\n",
       "      <th>Time on App</th>\n",
       "      <th>Time on Website</th>\n",
       "      <th>Length of Membership</th>\n",
       "      <th>Yearly Amount Spent</th>\n",
       "    </tr>\n",
       "  </thead>\n",
       "  <tbody>\n",
       "    <tr>\n",
       "      <th>0</th>\n",
       "      <td>mstephenson@fernandez.com</td>\n",
       "      <td>835 Frank Tunnel\\nWrightmouth, MI 82180-9605</td>\n",
       "      <td>Violet</td>\n",
       "      <td>34.497268</td>\n",
       "      <td>12.655651</td>\n",
       "      <td>39.577668</td>\n",
       "      <td>4.082621</td>\n",
       "      <td>587.951054</td>\n",
       "    </tr>\n",
       "    <tr>\n",
       "      <th>1</th>\n",
       "      <td>hduke@hotmail.com</td>\n",
       "      <td>4547 Archer Common\\nDiazchester, CA 06566-8576</td>\n",
       "      <td>DarkGreen</td>\n",
       "      <td>31.926272</td>\n",
       "      <td>11.109461</td>\n",
       "      <td>37.268959</td>\n",
       "      <td>2.664034</td>\n",
       "      <td>392.204933</td>\n",
       "    </tr>\n",
       "    <tr>\n",
       "      <th>2</th>\n",
       "      <td>pallen@yahoo.com</td>\n",
       "      <td>24645 Valerie Unions Suite 582\\nCobbborough, D...</td>\n",
       "      <td>Bisque</td>\n",
       "      <td>33.000915</td>\n",
       "      <td>11.330278</td>\n",
       "      <td>37.110597</td>\n",
       "      <td>4.104543</td>\n",
       "      <td>487.547505</td>\n",
       "    </tr>\n",
       "    <tr>\n",
       "      <th>3</th>\n",
       "      <td>riverarebecca@gmail.com</td>\n",
       "      <td>1414 David Throughway\\nPort Jason, OH 22070-1220</td>\n",
       "      <td>SaddleBrown</td>\n",
       "      <td>34.305557</td>\n",
       "      <td>13.717514</td>\n",
       "      <td>36.721283</td>\n",
       "      <td>3.120179</td>\n",
       "      <td>581.852344</td>\n",
       "    </tr>\n",
       "    <tr>\n",
       "      <th>4</th>\n",
       "      <td>mstephens@davidson-herman.com</td>\n",
       "      <td>14023 Rodriguez Passage\\nPort Jacobville, PR 3...</td>\n",
       "      <td>MediumAquaMarine</td>\n",
       "      <td>33.330673</td>\n",
       "      <td>12.795189</td>\n",
       "      <td>37.536653</td>\n",
       "      <td>4.446308</td>\n",
       "      <td>599.406092</td>\n",
       "    </tr>\n",
       "  </tbody>\n",
       "</table>\n",
       "</div>"
      ],
      "text/plain": [
       "                           Email  \\\n",
       "0      mstephenson@fernandez.com   \n",
       "1              hduke@hotmail.com   \n",
       "2               pallen@yahoo.com   \n",
       "3        riverarebecca@gmail.com   \n",
       "4  mstephens@davidson-herman.com   \n",
       "\n",
       "                                             Address            Avatar  \\\n",
       "0       835 Frank Tunnel\\nWrightmouth, MI 82180-9605            Violet   \n",
       "1     4547 Archer Common\\nDiazchester, CA 06566-8576         DarkGreen   \n",
       "2  24645 Valerie Unions Suite 582\\nCobbborough, D...            Bisque   \n",
       "3   1414 David Throughway\\nPort Jason, OH 22070-1220       SaddleBrown   \n",
       "4  14023 Rodriguez Passage\\nPort Jacobville, PR 3...  MediumAquaMarine   \n",
       "\n",
       "   Avg. Session Length  Time on App  Time on Website  Length of Membership  \\\n",
       "0            34.497268    12.655651        39.577668              4.082621   \n",
       "1            31.926272    11.109461        37.268959              2.664034   \n",
       "2            33.000915    11.330278        37.110597              4.104543   \n",
       "3            34.305557    13.717514        36.721283              3.120179   \n",
       "4            33.330673    12.795189        37.536653              4.446308   \n",
       "\n",
       "   Yearly Amount Spent  \n",
       "0           587.951054  \n",
       "1           392.204933  \n",
       "2           487.547505  \n",
       "3           581.852344  \n",
       "4           599.406092  "
      ]
     },
     "execution_count": 5,
     "metadata": {},
     "output_type": "execute_result"
    }
   ],
   "source": [
    "df.head()"
   ]
  },
  {
   "cell_type": "code",
   "execution_count": 6,
   "metadata": {},
   "outputs": [
    {
     "name": "stdout",
     "output_type": "stream",
     "text": [
      "<class 'pandas.core.frame.DataFrame'>\n",
      "RangeIndex: 500 entries, 0 to 499\n",
      "Data columns (total 8 columns):\n",
      " #   Column                Non-Null Count  Dtype  \n",
      "---  ------                --------------  -----  \n",
      " 0   Email                 500 non-null    object \n",
      " 1   Address               500 non-null    object \n",
      " 2   Avatar                500 non-null    object \n",
      " 3   Avg. Session Length   500 non-null    float64\n",
      " 4   Time on App           500 non-null    float64\n",
      " 5   Time on Website       500 non-null    float64\n",
      " 6   Length of Membership  500 non-null    float64\n",
      " 7   Yearly Amount Spent   500 non-null    float64\n",
      "dtypes: float64(5), object(3)\n",
      "memory usage: 31.4+ KB\n"
     ]
    }
   ],
   "source": [
    "df.info()"
   ]
  },
  {
   "cell_type": "markdown",
   "metadata": {},
   "source": [
    "The data does have any null values so we dont need to perform much cleaning"
   ]
  },
  {
   "cell_type": "code",
   "execution_count": 7,
   "metadata": {},
   "outputs": [
    {
     "data": {
      "text/html": [
       "<div>\n",
       "<style scoped>\n",
       "    .dataframe tbody tr th:only-of-type {\n",
       "        vertical-align: middle;\n",
       "    }\n",
       "\n",
       "    .dataframe tbody tr th {\n",
       "        vertical-align: top;\n",
       "    }\n",
       "\n",
       "    .dataframe thead th {\n",
       "        text-align: right;\n",
       "    }\n",
       "</style>\n",
       "<table border=\"1\" class=\"dataframe\">\n",
       "  <thead>\n",
       "    <tr style=\"text-align: right;\">\n",
       "      <th></th>\n",
       "      <th>Avg. Session Length</th>\n",
       "      <th>Time on App</th>\n",
       "      <th>Time on Website</th>\n",
       "      <th>Length of Membership</th>\n",
       "      <th>Yearly Amount Spent</th>\n",
       "    </tr>\n",
       "  </thead>\n",
       "  <tbody>\n",
       "    <tr>\n",
       "      <th>count</th>\n",
       "      <td>500.000000</td>\n",
       "      <td>500.000000</td>\n",
       "      <td>500.000000</td>\n",
       "      <td>500.000000</td>\n",
       "      <td>500.000000</td>\n",
       "    </tr>\n",
       "    <tr>\n",
       "      <th>mean</th>\n",
       "      <td>33.053194</td>\n",
       "      <td>12.052488</td>\n",
       "      <td>37.060445</td>\n",
       "      <td>3.533462</td>\n",
       "      <td>499.314038</td>\n",
       "    </tr>\n",
       "    <tr>\n",
       "      <th>std</th>\n",
       "      <td>0.992563</td>\n",
       "      <td>0.994216</td>\n",
       "      <td>1.010489</td>\n",
       "      <td>0.999278</td>\n",
       "      <td>79.314782</td>\n",
       "    </tr>\n",
       "    <tr>\n",
       "      <th>min</th>\n",
       "      <td>29.532429</td>\n",
       "      <td>8.508152</td>\n",
       "      <td>33.913847</td>\n",
       "      <td>0.269901</td>\n",
       "      <td>256.670582</td>\n",
       "    </tr>\n",
       "    <tr>\n",
       "      <th>25%</th>\n",
       "      <td>32.341822</td>\n",
       "      <td>11.388153</td>\n",
       "      <td>36.349257</td>\n",
       "      <td>2.930450</td>\n",
       "      <td>445.038277</td>\n",
       "    </tr>\n",
       "    <tr>\n",
       "      <th>50%</th>\n",
       "      <td>33.082008</td>\n",
       "      <td>11.983231</td>\n",
       "      <td>37.069367</td>\n",
       "      <td>3.533975</td>\n",
       "      <td>498.887875</td>\n",
       "    </tr>\n",
       "    <tr>\n",
       "      <th>75%</th>\n",
       "      <td>33.711985</td>\n",
       "      <td>12.753850</td>\n",
       "      <td>37.716432</td>\n",
       "      <td>4.126502</td>\n",
       "      <td>549.313828</td>\n",
       "    </tr>\n",
       "    <tr>\n",
       "      <th>max</th>\n",
       "      <td>36.139662</td>\n",
       "      <td>15.126994</td>\n",
       "      <td>40.005182</td>\n",
       "      <td>6.922689</td>\n",
       "      <td>765.518462</td>\n",
       "    </tr>\n",
       "  </tbody>\n",
       "</table>\n",
       "</div>"
      ],
      "text/plain": [
       "       Avg. Session Length  Time on App  Time on Website  \\\n",
       "count           500.000000   500.000000       500.000000   \n",
       "mean             33.053194    12.052488        37.060445   \n",
       "std               0.992563     0.994216         1.010489   \n",
       "min              29.532429     8.508152        33.913847   \n",
       "25%              32.341822    11.388153        36.349257   \n",
       "50%              33.082008    11.983231        37.069367   \n",
       "75%              33.711985    12.753850        37.716432   \n",
       "max              36.139662    15.126994        40.005182   \n",
       "\n",
       "       Length of Membership  Yearly Amount Spent  \n",
       "count            500.000000           500.000000  \n",
       "mean               3.533462           499.314038  \n",
       "std                0.999278            79.314782  \n",
       "min                0.269901           256.670582  \n",
       "25%                2.930450           445.038277  \n",
       "50%                3.533975           498.887875  \n",
       "75%                4.126502           549.313828  \n",
       "max                6.922689           765.518462  "
      ]
     },
     "execution_count": 7,
     "metadata": {},
     "output_type": "execute_result"
    }
   ],
   "source": [
    "df.describe()"
   ]
  },
  {
   "cell_type": "code",
   "execution_count": 8,
   "metadata": {},
   "outputs": [
    {
     "data": {
      "text/plain": [
       "<matplotlib.axes._subplots.AxesSubplot at 0x2418250c208>"
      ]
     },
     "execution_count": 8,
     "metadata": {},
     "output_type": "execute_result"
    },
    {
     "data": {
      "image/png": "[encoded data removed]",
      "text/plain": [
       "<Figure size 432x288 with 1 Axes>"
      ]
     },
     "metadata": {
      "needs_background": "light"
     },
     "output_type": "display_data"
    }
   ],
   "source": [
    "sns.scatterplot(data=df, x='Time on App',y='Time on Website')"
   ]
  },
  {
   "cell_type": "markdown",
   "metadata": {},
   "source": [
    "Inference :Able to see People spend more Time in Website than in Mobile App"
   ]
  },
  {
   "cell_type": "code",
   "execution_count": 9,
   "metadata": {},
   "outputs": [
    {
     "data": {
      "text/html": [
       "<div>\n",
       "<style scoped>\n",
       "    .dataframe tbody tr th:only-of-type {\n",
       "        vertical-align: middle;\n",
       "    }\n",
       "\n",
       "    .dataframe tbody tr th {\n",
       "        vertical-align: top;\n",
       "    }\n",
       "\n",
       "    .dataframe thead th {\n",
       "        text-align: right;\n",
       "    }\n",
       "</style>\n",
       "<table border=\"1\" class=\"dataframe\">\n",
       "  <thead>\n",
       "    <tr style=\"text-align: right;\">\n",
       "      <th></th>\n",
       "      <th>Avg. Session Length</th>\n",
       "      <th>Time on App</th>\n",
       "      <th>Time on Website</th>\n",
       "      <th>Length of Membership</th>\n",
       "      <th>Yearly Amount Spent</th>\n",
       "    </tr>\n",
       "  </thead>\n",
       "  <tbody>\n",
       "    <tr>\n",
       "      <th>Avg. Session Length</th>\n",
       "      <td>1.000000</td>\n",
       "      <td>-0.027826</td>\n",
       "      <td>-0.034987</td>\n",
       "      <td>0.060247</td>\n",
       "      <td>0.355088</td>\n",
       "    </tr>\n",
       "    <tr>\n",
       "      <th>Time on App</th>\n",
       "      <td>-0.027826</td>\n",
       "      <td>1.000000</td>\n",
       "      <td>0.082388</td>\n",
       "      <td>0.029143</td>\n",
       "      <td>0.499328</td>\n",
       "    </tr>\n",
       "    <tr>\n",
       "      <th>Time on Website</th>\n",
       "      <td>-0.034987</td>\n",
       "      <td>0.082388</td>\n",
       "      <td>1.000000</td>\n",
       "      <td>-0.047582</td>\n",
       "      <td>-0.002641</td>\n",
       "    </tr>\n",
       "    <tr>\n",
       "      <th>Length of Membership</th>\n",
       "      <td>0.060247</td>\n",
       "      <td>0.029143</td>\n",
       "      <td>-0.047582</td>\n",
       "      <td>1.000000</td>\n",
       "      <td>0.809084</td>\n",
       "    </tr>\n",
       "    <tr>\n",
       "      <th>Yearly Amount Spent</th>\n",
       "      <td>0.355088</td>\n",
       "      <td>0.499328</td>\n",
       "      <td>-0.002641</td>\n",
       "      <td>0.809084</td>\n",
       "      <td>1.000000</td>\n",
       "    </tr>\n",
       "  </tbody>\n",
       "</table>\n",
       "</div>"
      ],
      "text/plain": [
       "                      Avg. Session Length  Time on App  Time on Website  \\\n",
       "Avg. Session Length              1.000000    -0.027826        -0.034987   \n",
       "Time on App                     -0.027826     1.000000         0.082388   \n",
       "Time on Website                 -0.034987     0.082388         1.000000   \n",
       "Length of Membership             0.060247     0.029143        -0.047582   \n",
       "Yearly Amount Spent              0.355088     0.499328        -0.002641   \n",
       "\n",
       "                      Length of Membership  Yearly Amount Spent  \n",
       "Avg. Session Length               0.060247             0.355088  \n",
       "Time on App                       0.029143             0.499328  \n",
       "Time on Website                  -0.047582            -0.002641  \n",
       "Length of Membership              1.000000             0.809084  \n",
       "Yearly Amount Spent               0.809084             1.000000  "
      ]
     },
     "execution_count": 9,
     "metadata": {},
     "output_type": "execute_result"
    }
   ],
   "source": [
    "df.corr()"
   ]
  },
  {
   "cell_type": "markdown",
   "metadata": {},
   "source": [
    "Don't see any of the independt Variables highly corelated"
   ]
  },
  {
   "cell_type": "code",
   "execution_count": 10,
   "metadata": {},
   "outputs": [
    {
     "data": {
      "text/plain": [
       "<matplotlib.axes._subplots.AxesSubplot at 0x24182cdc8c8>"
      ]
     },
     "execution_count": 10,
     "metadata": {},
     "output_type": "execute_result"
    },
    {
     "data": {
      "image/png": "[encoded data removed]",
      "text/plain": [
       "<Figure size 432x288 with 2 Axes>"
      ]
     },
     "metadata": {
      "needs_background": "light"
     },
     "output_type": "display_data"
    }
   ],
   "source": [
    "sns.heatmap(df.corr())"
   ]
  },
  {
   "cell_type": "markdown",
   "metadata": {},
   "source": [
    "# Step 2: Linear Regression Without Normalization "
   ]
  },
  {
   "cell_type": "markdown",
   "metadata": {},
   "source": [
    "Lets assign only Numerical Columns to X and drop Email, Address and Avatar and Since 'Yealy Amount Spent' is our Target lets assign to y"
   ]
  },
  {
   "cell_type": "code",
   "execution_count": 11,
   "metadata": {},
   "outputs": [],
   "source": [
    "X= df.drop(['Email','Address','Avatar','Yearly Amount Spent'],axis=1)\n",
    "y=df['Yearly Amount Spent']"
   ]
  },
  {
   "cell_type": "code",
   "execution_count": 12,
   "metadata": {},
   "outputs": [],
   "source": [
    "from sklearn.model_selection import train_test_split"
   ]
  },
  {
   "cell_type": "code",
   "execution_count": 13,
   "metadata": {},
   "outputs": [],
   "source": [
    "#Split our Train and Test Data\n",
    "X_train,X_test,y_train,y_test=train_test_split(X,y,test_size=0.25,random_state=101)"
   ]
  },
  {
   "cell_type": "code",
   "execution_count": 14,
   "metadata": {},
   "outputs": [
    {
     "name": "stdout",
     "output_type": "stream",
     "text": [
      "Xtrain shape: (375, 4)\n",
      "Xtest shape: (125, 4)\n",
      "ytrain shape: (375,)\n",
      "ytest shape: (125,)\n"
     ]
    }
   ],
   "source": [
    "print('Xtrain shape:',X_train.shape)\n",
    "print('Xtest shape:',X_test.shape)\n",
    "print('ytrain shape:',y_train.shape)\n",
    "print('ytest shape:',y_test.shape)"
   ]
  },
  {
   "cell_type": "markdown",
   "metadata": {},
   "source": [
    "##### Fitting X & Y Train Data into our Linear Regression Model"
   ]
  },
  {
   "cell_type": "code",
   "execution_count": 15,
   "metadata": {},
   "outputs": [],
   "source": [
    "from sklearn.linear_model import LinearRegression"
   ]
  },
  {
   "cell_type": "code",
   "execution_count": 16,
   "metadata": {},
   "outputs": [],
   "source": [
    "lr=LinearRegression()"
   ]
  },
  {
   "cell_type": "code",
   "execution_count": 17,
   "metadata": {},
   "outputs": [
    {
     "data": {
      "text/plain": [
       "LinearRegression(copy_X=True, fit_intercept=True, n_jobs=None, normalize=False)"
      ]
     },
     "execution_count": 17,
     "metadata": {},
     "output_type": "execute_result"
    }
   ],
   "source": [
    "lr.fit(X_train,y_train)"
   ]
  },
  {
   "cell_type": "code",
   "execution_count": 18,
   "metadata": {},
   "outputs": [
    {
     "name": "stdout",
     "output_type": "stream",
     "text": [
      "Learnt Coeff:\n",
      " [26.06944865 38.67556383  0.2518291  61.31057149]\n",
      "Intercept: -1054.2756810438827\n"
     ]
    }
   ],
   "source": [
    "print('Learnt Coeff:\\n',lr.coef_)\n",
    "print('Intercept:',lr.intercept_)"
   ]
  },
  {
   "cell_type": "markdown",
   "metadata": {},
   "source": [
    "#### Performing Predictions"
   ]
  },
  {
   "cell_type": "code",
   "execution_count": 19,
   "metadata": {},
   "outputs": [],
   "source": [
    "predictions= lr.predict(X_test)"
   ]
  },
  {
   "cell_type": "markdown",
   "metadata": {},
   "source": [
    "#### Error Metrics for LR without Normalization"
   ]
  },
  {
   "cell_type": "code",
   "execution_count": 20,
   "metadata": {},
   "outputs": [],
   "source": [
    "from sklearn.metrics import mean_absolute_error, mean_squared_error, r2_score"
   ]
  },
  {
   "cell_type": "code",
   "execution_count": 21,
   "metadata": {},
   "outputs": [
    {
     "name": "stdout",
     "output_type": "stream",
     "text": [
      "Mean Absolute Error: 7.419686968689805\n",
      "Mean Squared Error: 83.47418226288592\n",
      "Root Mean Absolute Error: 9.136420648311127\n",
      "r2 Square: 0.9889411290595321\n"
     ]
    }
   ],
   "source": [
    "print('Mean Absolute Error:',mean_absolute_error(y_test,predictions))\n",
    "print('Mean Squared Error:',mean_squared_error(y_test,predictions))\n",
    "print('Root Mean Absolute Error:',np.sqrt(mean_squared_error(y_test,predictions)))\n",
    "print('r2 Square:',r2_score(y_test,predictions))"
   ]
  },
  {
   "cell_type": "markdown",
   "metadata": {},
   "source": [
    "predictions is a numpy array"
   ]
  },
  {
   "cell_type": "markdown",
   "metadata": {},
   "source": [
    "#### Creating Dummy test Data to compare the actual and predicted Values"
   ]
  },
  {
   "cell_type": "code",
   "execution_count": 63,
   "metadata": {},
   "outputs": [
    {
     "data": {
      "text/html": [
       "<div>\n",
       "<style scoped>\n",
       "    .dataframe tbody tr th:only-of-type {\n",
       "        vertical-align: middle;\n",
       "    }\n",
       "\n",
       "    .dataframe tbody tr th {\n",
       "        vertical-align: top;\n",
       "    }\n",
       "\n",
       "    .dataframe thead th {\n",
       "        text-align: right;\n",
       "    }\n",
       "</style>\n",
       "<table border=\"1\" class=\"dataframe\">\n",
       "  <thead>\n",
       "    <tr style=\"text-align: right;\">\n",
       "      <th></th>\n",
       "      <th>Avg. Session Length</th>\n",
       "      <th>Time on App</th>\n",
       "      <th>Time on Website</th>\n",
       "      <th>Length of Membership</th>\n",
       "    </tr>\n",
       "  </thead>\n",
       "  <tbody>\n",
       "    <tr>\n",
       "      <th>18</th>\n",
       "      <td>32.187812</td>\n",
       "      <td>14.715388</td>\n",
       "      <td>38.244115</td>\n",
       "      <td>1.516576</td>\n",
       "    </tr>\n",
       "    <tr>\n",
       "      <th>361</th>\n",
       "      <td>32.077590</td>\n",
       "      <td>10.347877</td>\n",
       "      <td>39.045156</td>\n",
       "      <td>3.434560</td>\n",
       "    </tr>\n",
       "    <tr>\n",
       "      <th>104</th>\n",
       "      <td>31.389585</td>\n",
       "      <td>10.994224</td>\n",
       "      <td>38.074452</td>\n",
       "      <td>3.428860</td>\n",
       "    </tr>\n",
       "    <tr>\n",
       "      <th>4</th>\n",
       "      <td>33.330673</td>\n",
       "      <td>12.795189</td>\n",
       "      <td>37.536653</td>\n",
       "      <td>4.446308</td>\n",
       "    </tr>\n",
       "    <tr>\n",
       "      <th>156</th>\n",
       "      <td>32.294642</td>\n",
       "      <td>12.443048</td>\n",
       "      <td>37.327848</td>\n",
       "      <td>5.084861</td>\n",
       "    </tr>\n",
       "    <tr>\n",
       "      <th>...</th>\n",
       "      <td>...</td>\n",
       "      <td>...</td>\n",
       "      <td>...</td>\n",
       "      <td>...</td>\n",
       "    </tr>\n",
       "    <tr>\n",
       "      <th>143</th>\n",
       "      <td>32.115119</td>\n",
       "      <td>11.919242</td>\n",
       "      <td>39.294043</td>\n",
       "      <td>1.443515</td>\n",
       "    </tr>\n",
       "    <tr>\n",
       "      <th>271</th>\n",
       "      <td>33.540479</td>\n",
       "      <td>12.884125</td>\n",
       "      <td>36.226042</td>\n",
       "      <td>5.007272</td>\n",
       "    </tr>\n",
       "    <tr>\n",
       "      <th>56</th>\n",
       "      <td>32.688229</td>\n",
       "      <td>13.761533</td>\n",
       "      <td>39.252931</td>\n",
       "      <td>2.995761</td>\n",
       "    </tr>\n",
       "    <tr>\n",
       "      <th>475</th>\n",
       "      <td>33.811733</td>\n",
       "      <td>11.186809</td>\n",
       "      <td>36.298893</td>\n",
       "      <td>4.301996</td>\n",
       "    </tr>\n",
       "    <tr>\n",
       "      <th>272</th>\n",
       "      <td>34.436426</td>\n",
       "      <td>13.325469</td>\n",
       "      <td>36.768603</td>\n",
       "      <td>3.371258</td>\n",
       "    </tr>\n",
       "  </tbody>\n",
       "</table>\n",
       "<p>125 rows × 4 columns</p>\n",
       "</div>"
      ],
      "text/plain": [
       "     Avg. Session Length  Time on App  Time on Website  Length of Membership\n",
       "18             32.187812    14.715388        38.244115              1.516576\n",
       "361            32.077590    10.347877        39.045156              3.434560\n",
       "104            31.389585    10.994224        38.074452              3.428860\n",
       "4              33.330673    12.795189        37.536653              4.446308\n",
       "156            32.294642    12.443048        37.327848              5.084861\n",
       "..                   ...          ...              ...                   ...\n",
       "143            32.115119    11.919242        39.294043              1.443515\n",
       "271            33.540479    12.884125        36.226042              5.007272\n",
       "56             32.688229    13.761533        39.252931              2.995761\n",
       "475            33.811733    11.186809        36.298893              4.301996\n",
       "272            34.436426    13.325469        36.768603              3.371258\n",
       "\n",
       "[125 rows x 4 columns]"
      ]
     },
     "execution_count": 63,
     "metadata": {},
     "output_type": "execute_result"
    }
   ],
   "source": [
    "X_test"
   ]
  },
  {
   "cell_type": "code",
   "execution_count": 60,
   "metadata": {},
   "outputs": [],
   "source": [
    "X_dummy= df.drop(['Email','Address','Avatar'],axis=1)\n",
    "y_dummy=df['Yearly Amount Spent']"
   ]
  },
  {
   "cell_type": "code",
   "execution_count": 61,
   "metadata": {},
   "outputs": [],
   "source": [
    "X_train_dum,X_test_dum,y_train_dum,y_test_dum=train_test_split(X_dummy,y_dummy,test_size=0.25,random_state=101)"
   ]
  },
  {
   "cell_type": "code",
   "execution_count": 62,
   "metadata": {},
   "outputs": [
    {
     "data": {
      "text/html": [
       "<div>\n",
       "<style scoped>\n",
       "    .dataframe tbody tr th:only-of-type {\n",
       "        vertical-align: middle;\n",
       "    }\n",
       "\n",
       "    .dataframe tbody tr th {\n",
       "        vertical-align: top;\n",
       "    }\n",
       "\n",
       "    .dataframe thead th {\n",
       "        text-align: right;\n",
       "    }\n",
       "</style>\n",
       "<table border=\"1\" class=\"dataframe\">\n",
       "  <thead>\n",
       "    <tr style=\"text-align: right;\">\n",
       "      <th></th>\n",
       "      <th>Avg. Session Length</th>\n",
       "      <th>Time on App</th>\n",
       "      <th>Time on Website</th>\n",
       "      <th>Length of Membership</th>\n",
       "      <th>Yearly Amount Spent</th>\n",
       "    </tr>\n",
       "  </thead>\n",
       "  <tbody>\n",
       "    <tr>\n",
       "      <th>18</th>\n",
       "      <td>32.187812</td>\n",
       "      <td>14.715388</td>\n",
       "      <td>38.244115</td>\n",
       "      <td>1.516576</td>\n",
       "      <td>452.315675</td>\n",
       "    </tr>\n",
       "    <tr>\n",
       "      <th>361</th>\n",
       "      <td>32.077590</td>\n",
       "      <td>10.347877</td>\n",
       "      <td>39.045156</td>\n",
       "      <td>3.434560</td>\n",
       "      <td>401.033135</td>\n",
       "    </tr>\n",
       "    <tr>\n",
       "      <th>104</th>\n",
       "      <td>31.389585</td>\n",
       "      <td>10.994224</td>\n",
       "      <td>38.074452</td>\n",
       "      <td>3.428860</td>\n",
       "      <td>410.069611</td>\n",
       "    </tr>\n",
       "    <tr>\n",
       "      <th>4</th>\n",
       "      <td>33.330673</td>\n",
       "      <td>12.795189</td>\n",
       "      <td>37.536653</td>\n",
       "      <td>4.446308</td>\n",
       "      <td>599.406092</td>\n",
       "    </tr>\n",
       "    <tr>\n",
       "      <th>156</th>\n",
       "      <td>32.294642</td>\n",
       "      <td>12.443048</td>\n",
       "      <td>37.327848</td>\n",
       "      <td>5.084861</td>\n",
       "      <td>586.155870</td>\n",
       "    </tr>\n",
       "    <tr>\n",
       "      <th>...</th>\n",
       "      <td>...</td>\n",
       "      <td>...</td>\n",
       "      <td>...</td>\n",
       "      <td>...</td>\n",
       "      <td>...</td>\n",
       "    </tr>\n",
       "    <tr>\n",
       "      <th>143</th>\n",
       "      <td>32.115119</td>\n",
       "      <td>11.919242</td>\n",
       "      <td>39.294043</td>\n",
       "      <td>1.443515</td>\n",
       "      <td>350.058200</td>\n",
       "    </tr>\n",
       "    <tr>\n",
       "      <th>271</th>\n",
       "      <td>33.540479</td>\n",
       "      <td>12.884125</td>\n",
       "      <td>36.226042</td>\n",
       "      <td>5.007272</td>\n",
       "      <td>628.047804</td>\n",
       "    </tr>\n",
       "    <tr>\n",
       "      <th>56</th>\n",
       "      <td>32.688229</td>\n",
       "      <td>13.761533</td>\n",
       "      <td>39.252931</td>\n",
       "      <td>2.995761</td>\n",
       "      <td>520.898794</td>\n",
       "    </tr>\n",
       "    <tr>\n",
       "      <th>475</th>\n",
       "      <td>33.811733</td>\n",
       "      <td>11.186809</td>\n",
       "      <td>36.298893</td>\n",
       "      <td>4.301996</td>\n",
       "      <td>535.321610</td>\n",
       "    </tr>\n",
       "    <tr>\n",
       "      <th>272</th>\n",
       "      <td>34.436426</td>\n",
       "      <td>13.325469</td>\n",
       "      <td>36.768603</td>\n",
       "      <td>3.371258</td>\n",
       "      <td>582.491924</td>\n",
       "    </tr>\n",
       "  </tbody>\n",
       "</table>\n",
       "<p>125 rows × 5 columns</p>\n",
       "</div>"
      ],
      "text/plain": [
       "     Avg. Session Length  Time on App  Time on Website  Length of Membership  \\\n",
       "18             32.187812    14.715388        38.244115              1.516576   \n",
       "361            32.077590    10.347877        39.045156              3.434560   \n",
       "104            31.389585    10.994224        38.074452              3.428860   \n",
       "4              33.330673    12.795189        37.536653              4.446308   \n",
       "156            32.294642    12.443048        37.327848              5.084861   \n",
       "..                   ...          ...              ...                   ...   \n",
       "143            32.115119    11.919242        39.294043              1.443515   \n",
       "271            33.540479    12.884125        36.226042              5.007272   \n",
       "56             32.688229    13.761533        39.252931              2.995761   \n",
       "475            33.811733    11.186809        36.298893              4.301996   \n",
       "272            34.436426    13.325469        36.768603              3.371258   \n",
       "\n",
       "     Yearly Amount Spent  \n",
       "18            452.315675  \n",
       "361           401.033135  \n",
       "104           410.069611  \n",
       "4             599.406092  \n",
       "156           586.155870  \n",
       "..                   ...  \n",
       "143           350.058200  \n",
       "271           628.047804  \n",
       "56            520.898794  \n",
       "475           535.321610  \n",
       "272           582.491924  \n",
       "\n",
       "[125 rows x 5 columns]"
      ]
     },
     "execution_count": 62,
     "metadata": {},
     "output_type": "execute_result"
    }
   ],
   "source": [
    "X_test_dum"
   ]
  },
  {
   "cell_type": "code",
   "execution_count": 64,
   "metadata": {},
   "outputs": [
    {
     "name": "stderr",
     "output_type": "stream",
     "text": [
      "C:\\Users\\srika\\anaconda3\\lib\\site-packages\\ipykernel_launcher.py:1: SettingWithCopyWarning: \n",
      "A value is trying to be set on a copy of a slice from a DataFrame.\n",
      "Try using .loc[row_indexer,col_indexer] = value instead\n",
      "\n",
      "See the caveats in the documentation: https://pandas.pydata.org/pandas-docs/stable/user_guide/indexing.html#returning-a-view-versus-a-copy\n",
      "  \"\"\"Entry point for launching an IPython kernel.\n"
     ]
    }
   ],
   "source": [
    "X_test_dum['Prediction-Yearly Amount Spent']=predictions"
   ]
  },
  {
   "cell_type": "code",
   "execution_count": 66,
   "metadata": {},
   "outputs": [
    {
     "data": {
      "text/html": [
       "<div>\n",
       "<style scoped>\n",
       "    .dataframe tbody tr th:only-of-type {\n",
       "        vertical-align: middle;\n",
       "    }\n",
       "\n",
       "    .dataframe tbody tr th {\n",
       "        vertical-align: top;\n",
       "    }\n",
       "\n",
       "    .dataframe thead th {\n",
       "        text-align: right;\n",
       "    }\n",
       "</style>\n",
       "<table border=\"1\" class=\"dataframe\">\n",
       "  <thead>\n",
       "    <tr style=\"text-align: right;\">\n",
       "      <th></th>\n",
       "      <th>Avg. Session Length</th>\n",
       "      <th>Time on App</th>\n",
       "      <th>Time on Website</th>\n",
       "      <th>Length of Membership</th>\n",
       "      <th>Yearly Amount Spent</th>\n",
       "      <th>Prediction-Yearly Amount Spent</th>\n",
       "    </tr>\n",
       "  </thead>\n",
       "  <tbody>\n",
       "    <tr>\n",
       "      <th>18</th>\n",
       "      <td>32.187812</td>\n",
       "      <td>14.715388</td>\n",
       "      <td>38.244115</td>\n",
       "      <td>1.516576</td>\n",
       "      <td>452.315675</td>\n",
       "      <td>456.581839</td>\n",
       "    </tr>\n",
       "    <tr>\n",
       "      <th>361</th>\n",
       "      <td>32.077590</td>\n",
       "      <td>10.347877</td>\n",
       "      <td>39.045156</td>\n",
       "      <td>3.434560</td>\n",
       "      <td>401.033135</td>\n",
       "      <td>402.586906</td>\n",
       "    </tr>\n",
       "    <tr>\n",
       "      <th>104</th>\n",
       "      <td>31.389585</td>\n",
       "      <td>10.994224</td>\n",
       "      <td>38.074452</td>\n",
       "      <td>3.428860</td>\n",
       "      <td>410.069611</td>\n",
       "      <td>409.054930</td>\n",
       "    </tr>\n",
       "    <tr>\n",
       "      <th>4</th>\n",
       "      <td>33.330673</td>\n",
       "      <td>12.795189</td>\n",
       "      <td>37.536653</td>\n",
       "      <td>4.446308</td>\n",
       "      <td>599.406092</td>\n",
       "      <td>591.556232</td>\n",
       "    </tr>\n",
       "    <tr>\n",
       "      <th>156</th>\n",
       "      <td>32.294642</td>\n",
       "      <td>12.443048</td>\n",
       "      <td>37.327848</td>\n",
       "      <td>5.084861</td>\n",
       "      <td>586.155870</td>\n",
       "      <td>590.025702</td>\n",
       "    </tr>\n",
       "    <tr>\n",
       "      <th>...</th>\n",
       "      <td>...</td>\n",
       "      <td>...</td>\n",
       "      <td>...</td>\n",
       "      <td>...</td>\n",
       "      <td>...</td>\n",
       "      <td>...</td>\n",
       "    </tr>\n",
       "    <tr>\n",
       "      <th>143</th>\n",
       "      <td>32.115119</td>\n",
       "      <td>11.919242</td>\n",
       "      <td>39.294043</td>\n",
       "      <td>1.443515</td>\n",
       "      <td>350.058200</td>\n",
       "      <td>342.329304</td>\n",
       "    </tr>\n",
       "    <tr>\n",
       "      <th>271</th>\n",
       "      <td>33.540479</td>\n",
       "      <td>12.884125</td>\n",
       "      <td>36.226042</td>\n",
       "      <td>5.007272</td>\n",
       "      <td>628.047804</td>\n",
       "      <td>634.528378</td>\n",
       "    </tr>\n",
       "    <tr>\n",
       "      <th>56</th>\n",
       "      <td>32.688229</td>\n",
       "      <td>13.761533</td>\n",
       "      <td>39.252931</td>\n",
       "      <td>2.995761</td>\n",
       "      <td>520.898794</td>\n",
       "      <td>523.680336</td>\n",
       "    </tr>\n",
       "    <tr>\n",
       "      <th>475</th>\n",
       "      <td>33.811733</td>\n",
       "      <td>11.186809</td>\n",
       "      <td>36.298893</td>\n",
       "      <td>4.301996</td>\n",
       "      <td>535.321610</td>\n",
       "      <td>532.732683</td>\n",
       "    </tr>\n",
       "    <tr>\n",
       "      <th>272</th>\n",
       "      <td>34.436426</td>\n",
       "      <td>13.325469</td>\n",
       "      <td>36.768603</td>\n",
       "      <td>3.371258</td>\n",
       "      <td>582.491924</td>\n",
       "      <td>574.786150</td>\n",
       "    </tr>\n",
       "  </tbody>\n",
       "</table>\n",
       "<p>125 rows × 6 columns</p>\n",
       "</div>"
      ],
      "text/plain": [
       "     Avg. Session Length  Time on App  Time on Website  Length of Membership  \\\n",
       "18             32.187812    14.715388        38.244115              1.516576   \n",
       "361            32.077590    10.347877        39.045156              3.434560   \n",
       "104            31.389585    10.994224        38.074452              3.428860   \n",
       "4              33.330673    12.795189        37.536653              4.446308   \n",
       "156            32.294642    12.443048        37.327848              5.084861   \n",
       "..                   ...          ...              ...                   ...   \n",
       "143            32.115119    11.919242        39.294043              1.443515   \n",
       "271            33.540479    12.884125        36.226042              5.007272   \n",
       "56             32.688229    13.761533        39.252931              2.995761   \n",
       "475            33.811733    11.186809        36.298893              4.301996   \n",
       "272            34.436426    13.325469        36.768603              3.371258   \n",
       "\n",
       "     Yearly Amount Spent  Prediction-Yearly Amount Spent  \n",
       "18            452.315675                      456.581839  \n",
       "361           401.033135                      402.586906  \n",
       "104           410.069611                      409.054930  \n",
       "4             599.406092                      591.556232  \n",
       "156           586.155870                      590.025702  \n",
       "..                   ...                             ...  \n",
       "143           350.058200                      342.329304  \n",
       "271           628.047804                      634.528378  \n",
       "56            520.898794                      523.680336  \n",
       "475           535.321610                      532.732683  \n",
       "272           582.491924                      574.786150  \n",
       "\n",
       "[125 rows x 6 columns]"
      ]
     },
     "execution_count": 66,
     "metadata": {},
     "output_type": "execute_result"
    }
   ],
   "source": [
    "X_test_dum"
   ]
  },
  {
   "cell_type": "markdown",
   "metadata": {},
   "source": [
    "We are able to compare the Actual Amount and Predicted Amount"
   ]
  },
  {
   "cell_type": "markdown",
   "metadata": {},
   "source": [
    "# Step 3: Linear Regression with Normalization"
   ]
  },
  {
   "cell_type": "code",
   "execution_count": 24,
   "metadata": {},
   "outputs": [],
   "source": [
    "from sklearn.preprocessing import StandardScaler"
   ]
  },
  {
   "cell_type": "code",
   "execution_count": 25,
   "metadata": {},
   "outputs": [],
   "source": [
    "scx=StandardScaler()"
   ]
  },
  {
   "cell_type": "code",
   "execution_count": 26,
   "metadata": {},
   "outputs": [],
   "source": [
    "X_train_std= scx.fit_transform(X_train)"
   ]
  },
  {
   "cell_type": "code",
   "execution_count": 27,
   "metadata": {},
   "outputs": [
    {
     "data": {
      "text/plain": [
       "array([[ 1.21702711, -0.19482655, -0.7919552 , -1.44538451],\n",
       "       [ 3.04092114,  0.04354193, -0.11739626,  0.34830113],\n",
       "       [ 1.80517499,  1.10957299, -0.40895763, -1.64725192],\n",
       "       ...,\n",
       "       [-1.18385159,  0.4739653 ,  0.36887018, -0.56535977],\n",
       "       [ 0.82618043, -0.44408265,  0.01550904,  0.19263957],\n",
       "       [-0.82928005, -0.65150815,  1.16504694,  1.31670807]])"
      ]
     },
     "execution_count": 27,
     "metadata": {},
     "output_type": "execute_result"
    }
   ],
   "source": [
    "X_train_std"
   ]
  },
  {
   "cell_type": "code",
   "execution_count": 28,
   "metadata": {},
   "outputs": [],
   "source": [
    "lr_std=LinearRegression()"
   ]
  },
  {
   "cell_type": "code",
   "execution_count": 29,
   "metadata": {},
   "outputs": [
    {
     "data": {
      "text/plain": [
       "LinearRegression(copy_X=True, fit_intercept=True, n_jobs=None, normalize=False)"
      ]
     },
     "execution_count": 29,
     "metadata": {},
     "output_type": "execute_result"
    }
   ],
   "source": [
    "lr_std.fit(X_train_std,y_train)"
   ]
  },
  {
   "cell_type": "code",
   "execution_count": 30,
   "metadata": {},
   "outputs": [
    {
     "name": "stdout",
     "output_type": "stream",
     "text": [
      "Learnt Coeff:\n",
      " [26.60574121 36.91951939  0.24307052 59.73113914]\n",
      "Intercept: 496.8912119778404\n"
     ]
    }
   ],
   "source": [
    "print('Learnt Coeff:\\n',lr_std.coef_)\n",
    "print('Intercept:',lr_std.intercept_)"
   ]
  },
  {
   "cell_type": "code",
   "execution_count": 31,
   "metadata": {},
   "outputs": [],
   "source": [
    "X_test_std=scx.transform(X_test)"
   ]
  },
  {
   "cell_type": "markdown",
   "metadata": {},
   "source": [
    "#### Performing Predictions"
   ]
  },
  {
   "cell_type": "code",
   "execution_count": 32,
   "metadata": {},
   "outputs": [],
   "source": [
    "predictions_std= lr_std.predict(X_test_std)"
   ]
  },
  {
   "cell_type": "markdown",
   "metadata": {},
   "source": [
    "#### Error Metrics for LR with Normalization\n"
   ]
  },
  {
   "cell_type": "code",
   "execution_count": 33,
   "metadata": {},
   "outputs": [
    {
     "name": "stdout",
     "output_type": "stream",
     "text": [
      "Mean Absolute Error: 7.419686968689804\n",
      "Mean Squared Error: 83.47418226288619\n",
      "Root Mean Absolute Error: 9.136420648311143\n",
      "r2 Square: 0.9889411290595321\n"
     ]
    }
   ],
   "source": [
    "print('Mean Absolute Error:',mean_absolute_error(y_test,predictions_std))\n",
    "print('Mean Squared Error:',mean_squared_error(y_test,predictions_std))\n",
    "print('Root Mean Absolute Error:',np.sqrt(mean_squared_error(y_test,predictions_std)))\n",
    "print('r2 Square:',r2_score(y_test,predictions_std))"
   ]
  },
  {
   "cell_type": "markdown",
   "metadata": {},
   "source": [
    "# Step 4: Linear Regression Using Interaction Terms(No Normalization)"
   ]
  },
  {
   "cell_type": "markdown",
   "metadata": {},
   "source": [
    "Why Interaction Terms?- Since Session Time or Time on App or Time on Website alone does not determine how much amount is spent yearly. Lets try to combine Session time * Time on App, Session Time * Time on Website , Session Time * Time on App * Time on Website"
   ]
  },
  {
   "cell_type": "code",
   "execution_count": 34,
   "metadata": {},
   "outputs": [],
   "source": [
    "df_interact=df.copy()"
   ]
  },
  {
   "cell_type": "code",
   "execution_count": 35,
   "metadata": {},
   "outputs": [],
   "source": [
    "df_interact['Session&App']=df_interact['Avg. Session Length']*df_interact['Time on App']\n",
    "df_interact['Session&Web']=df_interact['Avg. Session Length']*df_interact['Time on Website']\n",
    "df_interact['SessionApp&Web']=df_interact['Avg. Session Length']*df_interact['Time on Website']*df_interact['Time on App']"
   ]
  },
  {
   "cell_type": "code",
   "execution_count": 36,
   "metadata": {},
   "outputs": [
    {
     "data": {
      "text/html": [
       "<div>\n",
       "<style scoped>\n",
       "    .dataframe tbody tr th:only-of-type {\n",
       "        vertical-align: middle;\n",
       "    }\n",
       "\n",
       "    .dataframe tbody tr th {\n",
       "        vertical-align: top;\n",
       "    }\n",
       "\n",
       "    .dataframe thead th {\n",
       "        text-align: right;\n",
       "    }\n",
       "</style>\n",
       "<table border=\"1\" class=\"dataframe\">\n",
       "  <thead>\n",
       "    <tr style=\"text-align: right;\">\n",
       "      <th></th>\n",
       "      <th>Email</th>\n",
       "      <th>Address</th>\n",
       "      <th>Avatar</th>\n",
       "      <th>Avg. Session Length</th>\n",
       "      <th>Time on App</th>\n",
       "      <th>Time on Website</th>\n",
       "      <th>Length of Membership</th>\n",
       "      <th>Yearly Amount Spent</th>\n",
       "      <th>Session&amp;App</th>\n",
       "      <th>Session&amp;Web</th>\n",
       "      <th>SessionApp&amp;Web</th>\n",
       "    </tr>\n",
       "  </thead>\n",
       "  <tbody>\n",
       "    <tr>\n",
       "      <th>0</th>\n",
       "      <td>mstephenson@fernandez.com</td>\n",
       "      <td>835 Frank Tunnel\\nWrightmouth, MI 82180-9605</td>\n",
       "      <td>Violet</td>\n",
       "      <td>34.497268</td>\n",
       "      <td>12.655651</td>\n",
       "      <td>39.577668</td>\n",
       "      <td>4.082621</td>\n",
       "      <td>587.951054</td>\n",
       "      <td>436.585386</td>\n",
       "      <td>1365.321410</td>\n",
       "      <td>17279.031466</td>\n",
       "    </tr>\n",
       "    <tr>\n",
       "      <th>1</th>\n",
       "      <td>hduke@hotmail.com</td>\n",
       "      <td>4547 Archer Common\\nDiazchester, CA 06566-8576</td>\n",
       "      <td>DarkGreen</td>\n",
       "      <td>31.926272</td>\n",
       "      <td>11.109461</td>\n",
       "      <td>37.268959</td>\n",
       "      <td>2.664034</td>\n",
       "      <td>392.204933</td>\n",
       "      <td>354.683665</td>\n",
       "      <td>1189.858919</td>\n",
       "      <td>13218.690933</td>\n",
       "    </tr>\n",
       "    <tr>\n",
       "      <th>2</th>\n",
       "      <td>pallen@yahoo.com</td>\n",
       "      <td>24645 Valerie Unions Suite 582\\nCobbborough, D...</td>\n",
       "      <td>Bisque</td>\n",
       "      <td>33.000915</td>\n",
       "      <td>11.330278</td>\n",
       "      <td>37.110597</td>\n",
       "      <td>4.104543</td>\n",
       "      <td>487.547505</td>\n",
       "      <td>373.909540</td>\n",
       "      <td>1224.683663</td>\n",
       "      <td>13876.006431</td>\n",
       "    </tr>\n",
       "    <tr>\n",
       "      <th>3</th>\n",
       "      <td>riverarebecca@gmail.com</td>\n",
       "      <td>1414 David Throughway\\nPort Jason, OH 22070-1220</td>\n",
       "      <td>SaddleBrown</td>\n",
       "      <td>34.305557</td>\n",
       "      <td>13.717514</td>\n",
       "      <td>36.721283</td>\n",
       "      <td>3.120179</td>\n",
       "      <td>581.852344</td>\n",
       "      <td>470.586942</td>\n",
       "      <td>1259.744042</td>\n",
       "      <td>17280.556117</td>\n",
       "    </tr>\n",
       "    <tr>\n",
       "      <th>4</th>\n",
       "      <td>mstephens@davidson-herman.com</td>\n",
       "      <td>14023 Rodriguez Passage\\nPort Jacobville, PR 3...</td>\n",
       "      <td>MediumAquaMarine</td>\n",
       "      <td>33.330673</td>\n",
       "      <td>12.795189</td>\n",
       "      <td>37.536653</td>\n",
       "      <td>4.446308</td>\n",
       "      <td>599.406092</td>\n",
       "      <td>426.472239</td>\n",
       "      <td>1251.121899</td>\n",
       "      <td>16008.340595</td>\n",
       "    </tr>\n",
       "    <tr>\n",
       "      <th>...</th>\n",
       "      <td>...</td>\n",
       "      <td>...</td>\n",
       "      <td>...</td>\n",
       "      <td>...</td>\n",
       "      <td>...</td>\n",
       "      <td>...</td>\n",
       "      <td>...</td>\n",
       "      <td>...</td>\n",
       "      <td>...</td>\n",
       "      <td>...</td>\n",
       "      <td>...</td>\n",
       "    </tr>\n",
       "    <tr>\n",
       "      <th>495</th>\n",
       "      <td>lewisjessica@craig-evans.com</td>\n",
       "      <td>4483 Jones Motorway Suite 872\\nLake Jamiefurt,...</td>\n",
       "      <td>Tan</td>\n",
       "      <td>33.237660</td>\n",
       "      <td>13.566160</td>\n",
       "      <td>36.417985</td>\n",
       "      <td>3.746573</td>\n",
       "      <td>573.847438</td>\n",
       "      <td>450.907401</td>\n",
       "      <td>1210.448596</td>\n",
       "      <td>16421.138856</td>\n",
       "    </tr>\n",
       "    <tr>\n",
       "      <th>496</th>\n",
       "      <td>katrina56@gmail.com</td>\n",
       "      <td>172 Owen Divide Suite 497\\nWest Richard, CA 19320</td>\n",
       "      <td>PaleVioletRed</td>\n",
       "      <td>34.702529</td>\n",
       "      <td>11.695736</td>\n",
       "      <td>37.190268</td>\n",
       "      <td>3.576526</td>\n",
       "      <td>529.049004</td>\n",
       "      <td>405.871628</td>\n",
       "      <td>1290.596343</td>\n",
       "      <td>15094.474486</td>\n",
       "    </tr>\n",
       "    <tr>\n",
       "      <th>497</th>\n",
       "      <td>dale88@hotmail.com</td>\n",
       "      <td>0787 Andrews Ranch Apt. 633\\nSouth Chadburgh, ...</td>\n",
       "      <td>Cornsilk</td>\n",
       "      <td>32.646777</td>\n",
       "      <td>11.499409</td>\n",
       "      <td>38.332576</td>\n",
       "      <td>4.958264</td>\n",
       "      <td>551.620145</td>\n",
       "      <td>375.418640</td>\n",
       "      <td>1251.435059</td>\n",
       "      <td>14390.763658</td>\n",
       "    </tr>\n",
       "    <tr>\n",
       "      <th>498</th>\n",
       "      <td>cwilson@hotmail.com</td>\n",
       "      <td>680 Jennifer Lodge Apt. 808\\nBrendachester, TX...</td>\n",
       "      <td>Teal</td>\n",
       "      <td>33.322501</td>\n",
       "      <td>12.391423</td>\n",
       "      <td>36.840086</td>\n",
       "      <td>2.336485</td>\n",
       "      <td>456.469510</td>\n",
       "      <td>412.913206</td>\n",
       "      <td>1227.603795</td>\n",
       "      <td>15211.757895</td>\n",
       "    </tr>\n",
       "    <tr>\n",
       "      <th>499</th>\n",
       "      <td>hannahwilson@davidson.com</td>\n",
       "      <td>49791 Rachel Heights Apt. 898\\nEast Drewboroug...</td>\n",
       "      <td>DarkMagenta</td>\n",
       "      <td>33.715981</td>\n",
       "      <td>12.418808</td>\n",
       "      <td>35.771016</td>\n",
       "      <td>2.735160</td>\n",
       "      <td>497.778642</td>\n",
       "      <td>418.712305</td>\n",
       "      <td>1206.054899</td>\n",
       "      <td>14977.764624</td>\n",
       "    </tr>\n",
       "  </tbody>\n",
       "</table>\n",
       "<p>500 rows × 11 columns</p>\n",
       "</div>"
      ],
      "text/plain": [
       "                             Email  \\\n",
       "0        mstephenson@fernandez.com   \n",
       "1                hduke@hotmail.com   \n",
       "2                 pallen@yahoo.com   \n",
       "3          riverarebecca@gmail.com   \n",
       "4    mstephens@davidson-herman.com   \n",
       "..                             ...   \n",
       "495   lewisjessica@craig-evans.com   \n",
       "496            katrina56@gmail.com   \n",
       "497             dale88@hotmail.com   \n",
       "498            cwilson@hotmail.com   \n",
       "499      hannahwilson@davidson.com   \n",
       "\n",
       "                                               Address            Avatar  \\\n",
       "0         835 Frank Tunnel\\nWrightmouth, MI 82180-9605            Violet   \n",
       "1       4547 Archer Common\\nDiazchester, CA 06566-8576         DarkGreen   \n",
       "2    24645 Valerie Unions Suite 582\\nCobbborough, D...            Bisque   \n",
       "3     1414 David Throughway\\nPort Jason, OH 22070-1220       SaddleBrown   \n",
       "4    14023 Rodriguez Passage\\nPort Jacobville, PR 3...  MediumAquaMarine   \n",
       "..                                                 ...               ...   \n",
       "495  4483 Jones Motorway Suite 872\\nLake Jamiefurt,...               Tan   \n",
       "496  172 Owen Divide Suite 497\\nWest Richard, CA 19320     PaleVioletRed   \n",
       "497  0787 Andrews Ranch Apt. 633\\nSouth Chadburgh, ...          Cornsilk   \n",
       "498  680 Jennifer Lodge Apt. 808\\nBrendachester, TX...              Teal   \n",
       "499  49791 Rachel Heights Apt. 898\\nEast Drewboroug...       DarkMagenta   \n",
       "\n",
       "     Avg. Session Length  Time on App  Time on Website  Length of Membership  \\\n",
       "0              34.497268    12.655651        39.577668              4.082621   \n",
       "1              31.926272    11.109461        37.268959              2.664034   \n",
       "2              33.000915    11.330278        37.110597              4.104543   \n",
       "3              34.305557    13.717514        36.721283              3.120179   \n",
       "4              33.330673    12.795189        37.536653              4.446308   \n",
       "..                   ...          ...              ...                   ...   \n",
       "495            33.237660    13.566160        36.417985              3.746573   \n",
       "496            34.702529    11.695736        37.190268              3.576526   \n",
       "497            32.646777    11.499409        38.332576              4.958264   \n",
       "498            33.322501    12.391423        36.840086              2.336485   \n",
       "499            33.715981    12.418808        35.771016              2.735160   \n",
       "\n",
       "     Yearly Amount Spent  Session&App  Session&Web  SessionApp&Web  \n",
       "0             587.951054   436.585386  1365.321410    17279.031466  \n",
       "1             392.204933   354.683665  1189.858919    13218.690933  \n",
       "2             487.547505   373.909540  1224.683663    13876.006431  \n",
       "3             581.852344   470.586942  1259.744042    17280.556117  \n",
       "4             599.406092   426.472239  1251.121899    16008.340595  \n",
       "..                   ...          ...          ...             ...  \n",
       "495           573.847438   450.907401  1210.448596    16421.138856  \n",
       "496           529.049004   405.871628  1290.596343    15094.474486  \n",
       "497           551.620145   375.418640  1251.435059    14390.763658  \n",
       "498           456.469510   412.913206  1227.603795    15211.757895  \n",
       "499           497.778642   418.712305  1206.054899    14977.764624  \n",
       "\n",
       "[500 rows x 11 columns]"
      ]
     },
     "execution_count": 36,
     "metadata": {},
     "output_type": "execute_result"
    }
   ],
   "source": [
    "df_interact"
   ]
  },
  {
   "cell_type": "code",
   "execution_count": 37,
   "metadata": {},
   "outputs": [],
   "source": [
    "X_int=df_interact.drop(['Email','Address','Avatar','Yearly Amount Spent'],axis=1)\n",
    "y_int=df_interact['Yearly Amount Spent']"
   ]
  },
  {
   "cell_type": "code",
   "execution_count": 38,
   "metadata": {},
   "outputs": [],
   "source": [
    "X_train_int,X_test_int,y_train_int,y_test_int= train_test_split(X_int,y_int,test_size=0.25,random_state=101)"
   ]
  },
  {
   "cell_type": "code",
   "execution_count": 39,
   "metadata": {},
   "outputs": [
    {
     "name": "stdout",
     "output_type": "stream",
     "text": [
      "Xtrain shape: (375, 7)\n",
      "Xtest shape: (125, 7)\n",
      "ytrain shape: (375,)\n",
      "ytest shape: (125,)\n"
     ]
    }
   ],
   "source": [
    "print('Xtrain shape:',X_train_int.shape)\n",
    "print('Xtest shape:',X_test_int.shape)\n",
    "print('ytrain shape:',y_train_int.shape)\n",
    "print('ytest shape:',y_test_int.shape)"
   ]
  },
  {
   "cell_type": "markdown",
   "metadata": {},
   "source": [
    "#### Fitting our X & Y Train into LR Model"
   ]
  },
  {
   "cell_type": "code",
   "execution_count": 40,
   "metadata": {},
   "outputs": [],
   "source": [
    "lr_int=LinearRegression()"
   ]
  },
  {
   "cell_type": "code",
   "execution_count": 41,
   "metadata": {},
   "outputs": [
    {
     "data": {
      "text/plain": [
       "LinearRegression(copy_X=True, fit_intercept=True, n_jobs=None, normalize=False)"
      ]
     },
     "execution_count": 41,
     "metadata": {},
     "output_type": "execute_result"
    }
   ],
   "source": [
    "lr_int.fit(X_train_int,y_train_int)"
   ]
  },
  {
   "cell_type": "code",
   "execution_count": 42,
   "metadata": {},
   "outputs": [
    {
     "name": "stdout",
     "output_type": "stream",
     "text": [
      "Learnt Coeff:\n",
      " [ 2.84576833e+01  3.73564050e+01  4.32919086e+00  6.13072762e+01\n",
      "  1.80691340e-01 -7.74814370e-02 -3.79686015e-03]\n",
      "Intercept: -1189.4101616012422\n"
     ]
    }
   ],
   "source": [
    "print('Learnt Coeff:\\n',lr_int.coef_)\n",
    "print('Intercept:',lr_int.intercept_)"
   ]
  },
  {
   "cell_type": "markdown",
   "metadata": {},
   "source": [
    "#### Pedictions"
   ]
  },
  {
   "cell_type": "code",
   "execution_count": 43,
   "metadata": {},
   "outputs": [],
   "source": [
    "predictions_int=lr_int.predict(X_test_int)"
   ]
  },
  {
   "cell_type": "markdown",
   "metadata": {},
   "source": [
    "#### Error Metrics"
   ]
  },
  {
   "cell_type": "code",
   "execution_count": 44,
   "metadata": {},
   "outputs": [
    {
     "name": "stdout",
     "output_type": "stream",
     "text": [
      "Mean Absolute Error: 7.400914673248972\n",
      "Mean Squared Error: 83.22227578193579\n",
      "Root Mean Absolute Error: 9.122624391146212\n",
      "r2 Square: 0.9889745022677071\n"
     ]
    }
   ],
   "source": [
    "print('Mean Absolute Error:',mean_absolute_error(y_test_int,predictions_int))\n",
    "print('Mean Squared Error:',mean_squared_error(y_test_int,predictions_int))\n",
    "print('Root Mean Absolute Error:',np.sqrt(mean_squared_error(y_test_int,predictions_int)))\n",
    "print('r2 Square:',r2_score(y_test_int,predictions_int))"
   ]
  },
  {
   "cell_type": "markdown",
   "metadata": {},
   "source": [
    "# Step 5: Linear Regression Using Interaction Variables(Normalization)"
   ]
  },
  {
   "cell_type": "code",
   "execution_count": 45,
   "metadata": {},
   "outputs": [],
   "source": [
    "#Standardizing with Interaction terms \n",
    "snx_int = StandardScaler()"
   ]
  },
  {
   "cell_type": "code",
   "execution_count": 46,
   "metadata": {},
   "outputs": [],
   "source": [
    "X_train_int_std=snx_int.fit_transform(X_train_int)\n",
    "X_test_int_std=snx_int.transform(X_test_int)"
   ]
  },
  {
   "cell_type": "code",
   "execution_count": 47,
   "metadata": {},
   "outputs": [],
   "source": [
    "lr_int_std=LinearRegression()"
   ]
  },
  {
   "cell_type": "code",
   "execution_count": 48,
   "metadata": {},
   "outputs": [
    {
     "data": {
      "text/plain": [
       "LinearRegression(copy_X=True, fit_intercept=True, n_jobs=None, normalize=False)"
      ]
     },
     "execution_count": 48,
     "metadata": {},
     "output_type": "execute_result"
    }
   ],
   "source": [
    "lr_int_std.fit(X_train_int_std,y_train_int)"
   ]
  },
  {
   "cell_type": "code",
   "execution_count": 49,
   "metadata": {},
   "outputs": [
    {
     "name": "stdout",
     "output_type": "stream",
     "text": [
      "Learnt Coeff:\n",
      " [29.04310588 35.66025625  4.17862238 59.7279287   5.99354546 -3.89417165\n",
      " -5.02422069]\n",
      "Intercept: 496.8912119778404\n"
     ]
    }
   ],
   "source": [
    "print('Learnt Coeff:\\n',lr_int_std.coef_)\n",
    "print('Intercept:',lr_int_std.intercept_)"
   ]
  },
  {
   "cell_type": "markdown",
   "metadata": {},
   "source": [
    "#### Predictions "
   ]
  },
  {
   "cell_type": "code",
   "execution_count": 50,
   "metadata": {},
   "outputs": [],
   "source": [
    "predictions_int_std=lr_int_std.predict(X_test_int_std)"
   ]
  },
  {
   "cell_type": "markdown",
   "metadata": {},
   "source": [
    "#### Error Metrics "
   ]
  },
  {
   "cell_type": "code",
   "execution_count": 51,
   "metadata": {},
   "outputs": [
    {
     "name": "stdout",
     "output_type": "stream",
     "text": [
      "Mean Absolute Error: 7.400914673249354\n",
      "Mean Squared Error: 83.22227578193313\n",
      "Root Mean Absolute Error: 9.122624391146067\n",
      "r2 Square: 0.9889745022677074\n"
     ]
    }
   ],
   "source": [
    "print('Mean Absolute Error:',mean_absolute_error(y_test_int,predictions_int_std))\n",
    "print('Mean Squared Error:',mean_squared_error(y_test_int,predictions_int_std))\n",
    "print('Root Mean Absolute Error:',np.sqrt(mean_squared_error(y_test_int,predictions_int_std)))\n",
    "print('r2 Square:',r2_score(y_test_int,predictions_int_std))"
   ]
  },
  {
   "cell_type": "markdown",
   "metadata": {},
   "source": [
    "# Step 6: Linear Regression Using Ridge"
   ]
  },
  {
   "cell_type": "code",
   "execution_count": 52,
   "metadata": {},
   "outputs": [],
   "source": [
    "from sklearn.linear_model import Ridge"
   ]
  },
  {
   "cell_type": "code",
   "execution_count": 53,
   "metadata": {},
   "outputs": [
    {
     "name": "stdout",
     "output_type": "stream",
     "text": [
      "Ridge Coeff 10\n",
      " [25.90841246 35.94358052  0.28970038 58.22719771]\n",
      "Mean Absolute Error: 7.716075445769959\n",
      "Mean Squared Error: 89.96187005903812\n",
      "Root Mean Absolute Error: 9.4848231432662\n",
      "r2 Square: 0.9880816237598726\n",
      "-------------------------------------\n",
      "Ridge Coeff 100\n",
      " [20.96958515 29.04326049  0.53492358 47.46493697]\n",
      "Mean Absolute Error: 16.047794494611704\n",
      "Mean Squared Error: 422.60795509290784\n",
      "Root Mean Absolute Error: 20.55743065397298\n",
      "r2 Square: 0.9440118284828597\n",
      "-------------------------------------\n",
      "Ridge Coeff 1000\n",
      " [ 7.23334823  9.96936879  0.46207294 16.64886858]\n",
      "Mean Absolute Error: 49.3218222428603\n",
      "Mean Squared Error: 4067.1460342158357\n",
      "Root Mean Absolute Error: 63.774179996420465\n",
      "r2 Square: 0.4611741993856405\n",
      "-------------------------------------\n",
      "Ridge Coeff 10000\n",
      " [0.95903365 1.31873604 0.0773938  2.22123992]\n",
      "Mean Absolute Error: 65.13738099868118\n",
      "Mean Squared Error: 7101.309694035588\n",
      "Root Mean Absolute Error: 84.26926897769785\n",
      "r2 Square: 0.059200518223590404\n",
      "-------------------------------------\n",
      "Ridge Coeff 100000\n",
      " [0.09913841 0.13627858 0.00822564 0.22979944]\n",
      "Mean Absolute Error: 67.31544364697965\n",
      "Mean Squared Error: 7585.234059562064\n",
      "Root Mean Absolute Error: 87.09324921922516\n",
      "r2 Square: -0.004911006540450735\n",
      "-------------------------------------\n",
      "Ridge Coeff 1000000\n",
      " [0.0099474  0.01367354 0.00082769 0.02305962]\n",
      "Mean Absolute Error: 67.54145608287885\n",
      "Mean Squared Error: 7636.371992905397\n",
      "Root Mean Absolute Error: 87.38633756432064\n",
      "r2 Square: -0.011685889380574022\n",
      "-------------------------------------\n"
     ]
    }
   ],
   "source": [
    "for i in [10,100,1000,10000,100000,1000000]:\n",
    "    ridge= Ridge(alpha=i)\n",
    "    ridge.fit(X_train_std,y_train)\n",
    "    print('Ridge Coeff ' +str(i)+'\\n',ridge.coef_)\n",
    "    predictions_ridge=ridge.predict(X_test_std)\n",
    "    print('Mean Absolute Error:',mean_absolute_error(y_test,predictions_ridge))\n",
    "    print('Mean Squared Error:',mean_squared_error(y_test,predictions_ridge))\n",
    "    print('Root Mean Absolute Error:',np.sqrt(mean_squared_error(y_test,predictions_ridge)))\n",
    "    print('r2 Square:',r2_score(y_test,predictions_ridge))\n",
    "    print('-------------------------------------')"
   ]
  },
  {
   "cell_type": "code",
   "execution_count": 54,
   "metadata": {},
   "outputs": [
    {
     "name": "stdout",
     "output_type": "stream",
     "text": [
      "Ridge Coeff 0.01\n",
      " [26.60502499 36.91851681  0.24311996 59.72959651]\n",
      "Mean Absolute Error: 7.419572630325453\n",
      "Mean Squared Error: 83.47575795459147\n",
      "Root Mean Absolute Error: 9.136506879250486\n",
      "r2 Square: 0.9889409203079069\n",
      "-------------------------------------\n"
     ]
    }
   ],
   "source": [
    "for i in [0.01]:\n",
    "    ridge= Ridge(alpha=i)\n",
    "    ridge.fit(X_train_std,y_train)\n",
    "    print('Ridge Coeff ' +str(i)+'\\n',ridge.coef_)\n",
    "    predictions_ridge=ridge.predict(X_test_std)\n",
    "    print('Mean Absolute Error:',mean_absolute_error(y_test,predictions_ridge))\n",
    "    print('Mean Squared Error:',mean_squared_error(y_test,predictions_ridge))\n",
    "    print('Root Mean Absolute Error:',np.sqrt(mean_squared_error(y_test,predictions_ridge)))\n",
    "    print('r2 Square:',r2_score(y_test,predictions_ridge))\n",
    "    print('-------------------------------------')"
   ]
  },
  {
   "cell_type": "markdown",
   "metadata": {},
   "source": [
    "# Step 7: Linear Regression Using Lasso\n"
   ]
  },
  {
   "cell_type": "code",
   "execution_count": 55,
   "metadata": {},
   "outputs": [],
   "source": [
    "from sklearn.linear_model import Lasso"
   ]
  },
  {
   "cell_type": "code",
   "execution_count": 56,
   "metadata": {},
   "outputs": [
    {
     "name": "stdout",
     "output_type": "stream",
     "text": [
      "Lasso Coeff 10\n",
      " [16.30325299 26.47405469  0.         50.33679453]\n",
      "Mean Absolute Error: 16.991976385382365\n",
      "Mean Squared Error: 468.79654910349643\n",
      "Root Mean Absolute Error: 21.65171007342137\n",
      "r2 Square: 0.9378926466443828\n",
      "-------------------------------------\n",
      "Lasso Coeff 100\n",
      " [0. 0. 0. 0.]\n",
      "Mean Absolute Error: 67.5666641867513\n",
      "Mean Squared Error: 7642.086367003199\n",
      "Root Mean Absolute Error: 87.41902748831743\n",
      "r2 Square: -0.012442944124208655\n",
      "-------------------------------------\n"
     ]
    }
   ],
   "source": [
    "for i in[10,100]:\n",
    "    lasso=Lasso(alpha=i)\n",
    "    lasso.fit(X_train_std,y_train)\n",
    "    print('Lasso Coeff ' +str(i)+'\\n',lasso.coef_)\n",
    "    predictions_lasso=lasso.predict(X_test_std)\n",
    "    print('Mean Absolute Error:',mean_absolute_error(y_test,predictions_lasso))\n",
    "    print('Mean Squared Error:',mean_squared_error(y_test,predictions_lasso))\n",
    "    print('Root Mean Absolute Error:',np.sqrt(mean_squared_error(y_test,predictions_lasso)))\n",
    "    print('r2 Square:',r2_score(y_test,predictions_lasso))\n",
    "    print('-------------------------------------')\n",
    "    "
   ]
  },
  {
   "cell_type": "code",
   "execution_count": 57,
   "metadata": {},
   "outputs": [
    {
     "name": "stdout",
     "output_type": "stream",
     "text": [
      "Lasso Coeff 0.001\n",
      " [26.60475645 36.91855903  0.24215068 59.73016528]\n",
      "Mean Absolute Error: 7.419524988477723\n",
      "Mean Squared Error: 83.4754975756006\n",
      "Root Mean Absolute Error: 9.136492629866266\n",
      "r2 Square: 0.9889409548035747\n",
      "-------------------------------------\n"
     ]
    }
   ],
   "source": [
    "for i in[0.001]:\n",
    "    lasso=Lasso(alpha=i)\n",
    "    lasso.fit(X_train_std,y_train)\n",
    "    print('Lasso Coeff ' +str(i)+'\\n',lasso.coef_)\n",
    "    predictions_lasso=lasso.predict(X_test_std)\n",
    "    print('Mean Absolute Error:',mean_absolute_error(y_test,predictions_lasso))\n",
    "    print('Mean Squared Error:',mean_squared_error(y_test,predictions_lasso))\n",
    "    print('Root Mean Absolute Error:',np.sqrt(mean_squared_error(y_test,predictions_lasso)))\n",
    "    print('r2 Square:',r2_score(y_test,predictions_lasso))\n",
    "    print('-------------------------------------')"
   ]
  },
  {
   "cell_type": "markdown",
   "metadata": {},
   "source": [
    "#### All Error Metrics at One Place"
   ]
  },
  {
   "cell_type": "code",
   "execution_count": null,
   "metadata": {},
   "outputs": [],
   "source": [
    "#Linear Regression Without Normalization\n",
    "Mean Absolute Error: 7.419686968689805\n",
    "Mean Squared Error: 83.47418226288592\n",
    "Root Mean Absolute Error: 9.136420648311127\n",
    "r2 Square: 0.9889411290595321\n",
    "# Linear Regression with Normalization\n",
    "Mean Absolute Error: 7.419686968689804\n",
    "Mean Squared Error: 83.47418226288619\n",
    "Root Mean Absolute Error: 9.136420648311143\n",
    "r2 Square: 0.9889411290595321\n",
    "#Linear Regression using Interaction Terms(No Normalization)\n",
    "Mean Absolute Error: 7.400914673248972\n",
    "Mean Squared Error: 83.22227578193579\n",
    "Root Mean Absolute Error: 9.122624391146212\n",
    "r2 Square: 0.9889745022677071\n",
    "#Linear Regression using Interaction Terms(Normalization)\n",
    "Mean Absolute Error: 7.400914673249354\n",
    "Mean Squared Error: 83.22227578193313\n",
    "Root Mean Absolute Error: 9.122624391146067\n",
    "r2 Square: 0.9889745022677074\n",
    "#Linear Regression with Ridge(Alpha Value=0.01)\n",
    "Mean Absolute Error: 13.465217571330102\n",
    "Mean Squared Error: 265.5432834069069\n",
    "Root Mean Absolute Error: 16.295498869531638\n",
    "r2 Square: 0.9648201537206227\n",
    "#Linear Regression with Lasso(Alpha Value=0.001)\n",
    "Mean Absolute Error: 13.465217571330102\n",
    "Mean Squared Error: 265.5432834069069\n",
    "Root Mean Absolute Error: 16.295498869531638\n",
    "r2 Square: 0.9648201537206227"
   ]
  },
  {
   "cell_type": "markdown",
   "metadata": {},
   "source": [
    "# Conclusion"
   ]
  },
  {
   "cell_type": "markdown",
   "metadata": {},
   "source": [
    "In this notebook, we captured error metrics of our model using different ways such as Linear Regression Without Normalization,\n",
    "Linear Regression with Normalization,Linear Regression using Interaction Terms(No Normalization),Linear Regression using Interaction Terms(Normalization),Linear Regression with Ridge(Alpha Value=0.01) and Linear Regression with Lasso(Alpha Value=0.001). Also we predicted the Yearly Amount Spent using Linear Regression.\n",
    "\n",
    "When we used with and without Normalization with Interaction terms the r2 square is 0.9889745022677074 and \n",
    "with and without Normalization without  Interaction terms the r2 square is 0.9889411290595321\n",
    "Also using Lasso we are not able to eliminate any variable as the alpha value needed very minute fine tuning  and Ridge also did not make much difference to our prediction"
   ]
  }
 ],
 "metadata": {
  "kernelspec": {
   "display_name": "Python 3",
   "language": "python",
   "name": "python3"
  },
  "language_info": {
   "codemirror_mode": {
    "name": "ipython",
    "version": 3
   },
   "file_extension": ".py",
   "mimetype": "text/x-python",
   "name": "python",
   "nbconvert_exporter": "python",
   "pygments_lexer": "ipython3",
   "version": "3.7.7"
  }
 },
 "nbformat": 4,
 "nbformat_minor": 4
}
