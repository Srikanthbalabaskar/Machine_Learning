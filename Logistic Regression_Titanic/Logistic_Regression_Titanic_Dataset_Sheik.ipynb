{
 "cells": [
  {
   "cell_type": "code",
   "execution_count": 1,
   "metadata": {},
   "outputs": [],
   "source": [
    "import pandas as pd\n",
    "import numpy as np\n",
    "import matplotlib.pyplot as plt\n",
    "%matplotlib inline\n",
    "import seaborn as sns"
   ]
  },
  {
   "cell_type": "code",
   "execution_count": 2,
   "metadata": {},
   "outputs": [],
   "source": [
    "train = pd.read_csv('titanic_train.csv')"
   ]
  },
  {
   "cell_type": "code",
   "execution_count": 3,
   "metadata": {
    "scrolled": true
   },
   "outputs": [
    {
     "data": {
      "text/html": [
       "<div>\n",
       "<style scoped>\n",
       "    .dataframe tbody tr th:only-of-type {\n",
       "        vertical-align: middle;\n",
       "    }\n",
       "\n",
       "    .dataframe tbody tr th {\n",
       "        vertical-align: top;\n",
       "    }\n",
       "\n",
       "    .dataframe thead th {\n",
       "        text-align: right;\n",
       "    }\n",
       "</style>\n",
       "<table border=\"1\" class=\"dataframe\">\n",
       "  <thead>\n",
       "    <tr style=\"text-align: right;\">\n",
       "      <th></th>\n",
       "      <th>PassengerId</th>\n",
       "      <th>Survived</th>\n",
       "      <th>Pclass</th>\n",
       "      <th>Name</th>\n",
       "      <th>Sex</th>\n",
       "      <th>Age</th>\n",
       "      <th>SibSp</th>\n",
       "      <th>Parch</th>\n",
       "      <th>Ticket</th>\n",
       "      <th>Fare</th>\n",
       "      <th>Cabin</th>\n",
       "      <th>Embarked</th>\n",
       "    </tr>\n",
       "  </thead>\n",
       "  <tbody>\n",
       "    <tr>\n",
       "      <th>0</th>\n",
       "      <td>1</td>\n",
       "      <td>0</td>\n",
       "      <td>3</td>\n",
       "      <td>Braund, Mr. Owen Harris</td>\n",
       "      <td>male</td>\n",
       "      <td>22.0</td>\n",
       "      <td>1</td>\n",
       "      <td>0</td>\n",
       "      <td>A/5 21171</td>\n",
       "      <td>7.2500</td>\n",
       "      <td>NaN</td>\n",
       "      <td>S</td>\n",
       "    </tr>\n",
       "    <tr>\n",
       "      <th>1</th>\n",
       "      <td>2</td>\n",
       "      <td>1</td>\n",
       "      <td>1</td>\n",
       "      <td>Cumings, Mrs. John Bradley (Florence Briggs Th...</td>\n",
       "      <td>female</td>\n",
       "      <td>38.0</td>\n",
       "      <td>1</td>\n",
       "      <td>0</td>\n",
       "      <td>PC 17599</td>\n",
       "      <td>71.2833</td>\n",
       "      <td>C85</td>\n",
       "      <td>C</td>\n",
       "    </tr>\n",
       "    <tr>\n",
       "      <th>2</th>\n",
       "      <td>3</td>\n",
       "      <td>1</td>\n",
       "      <td>3</td>\n",
       "      <td>Heikkinen, Miss. Laina</td>\n",
       "      <td>female</td>\n",
       "      <td>26.0</td>\n",
       "      <td>0</td>\n",
       "      <td>0</td>\n",
       "      <td>STON/O2. 3101282</td>\n",
       "      <td>7.9250</td>\n",
       "      <td>NaN</td>\n",
       "      <td>S</td>\n",
       "    </tr>\n",
       "    <tr>\n",
       "      <th>3</th>\n",
       "      <td>4</td>\n",
       "      <td>1</td>\n",
       "      <td>1</td>\n",
       "      <td>Futrelle, Mrs. Jacques Heath (Lily May Peel)</td>\n",
       "      <td>female</td>\n",
       "      <td>35.0</td>\n",
       "      <td>1</td>\n",
       "      <td>0</td>\n",
       "      <td>113803</td>\n",
       "      <td>53.1000</td>\n",
       "      <td>C123</td>\n",
       "      <td>S</td>\n",
       "    </tr>\n",
       "    <tr>\n",
       "      <th>4</th>\n",
       "      <td>5</td>\n",
       "      <td>0</td>\n",
       "      <td>3</td>\n",
       "      <td>Allen, Mr. William Henry</td>\n",
       "      <td>male</td>\n",
       "      <td>35.0</td>\n",
       "      <td>0</td>\n",
       "      <td>0</td>\n",
       "      <td>373450</td>\n",
       "      <td>8.0500</td>\n",
       "      <td>NaN</td>\n",
       "      <td>S</td>\n",
       "    </tr>\n",
       "  </tbody>\n",
       "</table>\n",
       "</div>"
      ],
      "text/plain": [
       "   PassengerId  Survived  Pclass  \\\n",
       "0            1         0       3   \n",
       "1            2         1       1   \n",
       "2            3         1       3   \n",
       "3            4         1       1   \n",
       "4            5         0       3   \n",
       "\n",
       "                                                Name     Sex   Age  SibSp  \\\n",
       "0                            Braund, Mr. Owen Harris    male  22.0      1   \n",
       "1  Cumings, Mrs. John Bradley (Florence Briggs Th...  female  38.0      1   \n",
       "2                             Heikkinen, Miss. Laina  female  26.0      0   \n",
       "3       Futrelle, Mrs. Jacques Heath (Lily May Peel)  female  35.0      1   \n",
       "4                           Allen, Mr. William Henry    male  35.0      0   \n",
       "\n",
       "   Parch            Ticket     Fare Cabin Embarked  \n",
       "0      0         A/5 21171   7.2500   NaN        S  \n",
       "1      0          PC 17599  71.2833   C85        C  \n",
       "2      0  STON/O2. 3101282   7.9250   NaN        S  \n",
       "3      0            113803  53.1000  C123        S  \n",
       "4      0            373450   8.0500   NaN        S  "
      ]
     },
     "execution_count": 3,
     "metadata": {},
     "output_type": "execute_result"
    }
   ],
   "source": [
    "train.head()"
   ]
  },
  {
   "cell_type": "code",
   "execution_count": 4,
   "metadata": {
    "scrolled": true
   },
   "outputs": [
    {
     "name": "stdout",
     "output_type": "stream",
     "text": [
      "<class 'pandas.core.frame.DataFrame'>\n",
      "RangeIndex: 891 entries, 0 to 890\n",
      "Data columns (total 12 columns):\n",
      "PassengerId    891 non-null int64\n",
      "Survived       891 non-null int64\n",
      "Pclass         891 non-null int64\n",
      "Name           891 non-null object\n",
      "Sex            891 non-null object\n",
      "Age            714 non-null float64\n",
      "SibSp          891 non-null int64\n",
      "Parch          891 non-null int64\n",
      "Ticket         891 non-null object\n",
      "Fare           891 non-null float64\n",
      "Cabin          204 non-null object\n",
      "Embarked       889 non-null object\n",
      "dtypes: float64(2), int64(5), object(5)\n",
      "memory usage: 83.6+ KB\n"
     ]
    }
   ],
   "source": [
    "train.info()"
   ]
  },
  {
   "cell_type": "code",
   "execution_count": 6,
   "metadata": {
    "scrolled": true
   },
   "outputs": [
    {
     "data": {
      "text/plain": [
       "<matplotlib.axes._subplots.AxesSubplot at 0x1f50574ab70>"
      ]
     },
     "execution_count": 6,
     "metadata": {},
     "output_type": "execute_result"
    },
    {
     "data": {
      "image/png": "[encoded data removed]",
      "text/plain": [
       "<Figure size 432x288 with 1 Axes>"
      ]
     },
     "metadata": {},
     "output_type": "display_data"
    }
   ],
   "source": [
    "sns.countplot(x='Survived',hue='Sex',data=train)"
   ]
  },
  {
   "cell_type": "code",
   "execution_count": 15,
   "metadata": {
    "scrolled": true
   },
   "outputs": [
    {
     "data": {
      "text/plain": [
       "<matplotlib.axes._subplots.AxesSubplot at 0x1f505e95ba8>"
      ]
     },
     "execution_count": 15,
     "metadata": {},
     "output_type": "execute_result"
    },
    {
     "data": {
      "image/png": "[encoded data removed]",
      "text/plain": [
       "<Figure size 432x288 with 1 Axes>"
      ]
     },
     "metadata": {},
     "output_type": "display_data"
    }
   ],
   "source": [
    "sns.countplot(x='Pclass',hue='Survived',data=train)"
   ]
  },
  {
   "cell_type": "code",
   "execution_count": 9,
   "metadata": {
    "scrolled": true
   },
   "outputs": [
    {
     "data": {
      "text/plain": [
       "0    678\n",
       "1    118\n",
       "2     80\n",
       "5      5\n",
       "3      5\n",
       "4      4\n",
       "6      1\n",
       "Name: Parch, dtype: int64"
      ]
     },
     "execution_count": 9,
     "metadata": {},
     "output_type": "execute_result"
    }
   ],
   "source": [
    "train['Parch'].value_counts()"
   ]
  },
  {
   "cell_type": "code",
   "execution_count": 10,
   "metadata": {
    "scrolled": true
   },
   "outputs": [
    {
     "data": {
      "text/plain": [
       "PassengerId      0\n",
       "Survived         0\n",
       "Pclass           0\n",
       "Name             0\n",
       "Sex              0\n",
       "Age            177\n",
       "SibSp            0\n",
       "Parch            0\n",
       "Ticket           0\n",
       "Fare             0\n",
       "Cabin          687\n",
       "Embarked         2\n",
       "dtype: int64"
      ]
     },
     "execution_count": 10,
     "metadata": {},
     "output_type": "execute_result"
    }
   ],
   "source": [
    "train.isnull().sum()"
   ]
  },
  {
   "cell_type": "code",
   "execution_count": 17,
   "metadata": {
    "scrolled": true
   },
   "outputs": [
    {
     "data": {
      "text/plain": [
       "<matplotlib.axes._subplots.AxesSubplot at 0x1f505fb27b8>"
      ]
     },
     "execution_count": 17,
     "metadata": {},
     "output_type": "execute_result"
    },
    {
     "data": {
      "image/png": "[encoded data removed]",
      "text/plain": [
       "<Figure size 432x288 with 1 Axes>"
      ]
     },
     "metadata": {},
     "output_type": "display_data"
    }
   ],
   "source": [
    "sns.boxplot(x='Pclass',y='Age',data=train)"
   ]
  },
  {
   "cell_type": "code",
   "execution_count": 13,
   "metadata": {
    "scrolled": true
   },
   "outputs": [
    {
     "data": {
      "text/plain": [
       "<matplotlib.axes._subplots.AxesSubplot at 0x1f505d8ac50>"
      ]
     },
     "execution_count": 13,
     "metadata": {},
     "output_type": "execute_result"
    },
    {
     "data": {
      "image/png": "[encoded data removed]",
      "text/plain": [
       "<Figure size 432x288 with 1 Axes>"
      ]
     },
     "metadata": {},
     "output_type": "display_data"
    }
   ],
   "source": [
    "train['Fare'].hist(bins=30)"
   ]
  },
  {
   "cell_type": "code",
   "execution_count": 18,
   "metadata": {},
   "outputs": [],
   "source": [
    "def imputeage(cols):\n",
    "    Age = cols[0]\n",
    "    pclass = cols[1]\n",
    "    if pd.isnull(Age):\n",
    "        if pclass==1:\n",
    "            return 37\n",
    "        elif pclass==2:\n",
    "            return 29\n",
    "        else:\n",
    "            return 27\n",
    "    else:\n",
    "        return Age"
   ]
  },
  {
   "cell_type": "code",
   "execution_count": 19,
   "metadata": {},
   "outputs": [],
   "source": [
    "train['Age']= train[['Age','Pclass']].apply(imputeage,axis=1)"
   ]
  },
  {
   "cell_type": "code",
   "execution_count": 22,
   "metadata": {
    "scrolled": true
   },
   "outputs": [
    {
     "name": "stdout",
     "output_type": "stream",
     "text": [
      "<class 'pandas.core.frame.DataFrame'>\n",
      "RangeIndex: 891 entries, 0 to 890\n",
      "Data columns (total 11 columns):\n",
      "PassengerId    891 non-null int64\n",
      "Survived       891 non-null int64\n",
      "Pclass         891 non-null int64\n",
      "Name           891 non-null object\n",
      "Sex            891 non-null object\n",
      "Age            891 non-null float64\n",
      "SibSp          891 non-null int64\n",
      "Parch          891 non-null int64\n",
      "Ticket         891 non-null object\n",
      "Fare           891 non-null float64\n",
      "Embarked       889 non-null object\n",
      "dtypes: float64(2), int64(5), object(4)\n",
      "memory usage: 76.6+ KB\n"
     ]
    }
   ],
   "source": [
    "train.info()"
   ]
  },
  {
   "cell_type": "code",
   "execution_count": 21,
   "metadata": {},
   "outputs": [],
   "source": [
    "train.drop('Cabin',axis=1,inplace=True)"
   ]
  },
  {
   "cell_type": "code",
   "execution_count": 23,
   "metadata": {},
   "outputs": [],
   "source": [
    "train.dropna(inplace=True)"
   ]
  },
  {
   "cell_type": "code",
   "execution_count": 24,
   "metadata": {
    "scrolled": false
   },
   "outputs": [
    {
     "name": "stdout",
     "output_type": "stream",
     "text": [
      "<class 'pandas.core.frame.DataFrame'>\n",
      "Int64Index: 889 entries, 0 to 890\n",
      "Data columns (total 11 columns):\n",
      "PassengerId    889 non-null int64\n",
      "Survived       889 non-null int64\n",
      "Pclass         889 non-null int64\n",
      "Name           889 non-null object\n",
      "Sex            889 non-null object\n",
      "Age            889 non-null float64\n",
      "SibSp          889 non-null int64\n",
      "Parch          889 non-null int64\n",
      "Ticket         889 non-null object\n",
      "Fare           889 non-null float64\n",
      "Embarked       889 non-null object\n",
      "dtypes: float64(2), int64(5), object(4)\n",
      "memory usage: 83.3+ KB\n"
     ]
    }
   ],
   "source": [
    "train.info()"
   ]
  },
  {
   "cell_type": "code",
   "execution_count": 49,
   "metadata": {},
   "outputs": [
    {
     "data": {
      "text/plain": [
       "PassengerId    0\n",
       "Survived       0\n",
       "Pclass         0\n",
       "Name           0\n",
       "Sex            0\n",
       "Age            0\n",
       "SibSp          0\n",
       "Parch          0\n",
       "Ticket         0\n",
       "Fare           0\n",
       "Embarked       0\n",
       "dtype: int64"
      ]
     },
     "execution_count": 49,
     "metadata": {},
     "output_type": "execute_result"
    }
   ],
   "source": [
    "train.isnull().sum()"
   ]
  },
  {
   "cell_type": "code",
   "execution_count": 31,
   "metadata": {
    "scrolled": true
   },
   "outputs": [
    {
     "data": {
      "text/plain": [
       "0    606\n",
       "1    209\n",
       "2     28\n",
       "4     18\n",
       "3     16\n",
       "8      7\n",
       "5      5\n",
       "Name: SibSp, dtype: int64"
      ]
     },
     "execution_count": 31,
     "metadata": {},
     "output_type": "execute_result"
    }
   ],
   "source": [
    "train['SibSp'].value_counts()"
   ]
  },
  {
   "cell_type": "code",
   "execution_count": 32,
   "metadata": {},
   "outputs": [
    {
     "data": {
      "text/plain": [
       "0    676\n",
       "1    118\n",
       "2     80\n",
       "5      5\n",
       "3      5\n",
       "4      4\n",
       "6      1\n",
       "Name: Parch, dtype: int64"
      ]
     },
     "execution_count": 32,
     "metadata": {},
     "output_type": "execute_result"
    }
   ],
   "source": [
    "train['Parch'].value_counts()"
   ]
  },
  {
   "cell_type": "code",
   "execution_count": 35,
   "metadata": {},
   "outputs": [],
   "source": [
    "train['SibSp']=train['SibSp'].astype('category')\n",
    "train['Parch']=train['Parch'].astype('category')"
   ]
  },
  {
   "cell_type": "code",
   "execution_count": 37,
   "metadata": {
    "scrolled": true
   },
   "outputs": [],
   "source": [
    "encodedDF = pd.get_dummies(train[['Embarked','Sex','SibSp','Parch']])"
   ]
  },
  {
   "cell_type": "code",
   "execution_count": 39,
   "metadata": {},
   "outputs": [],
   "source": [
    "X = pd.concat([encodedDF,train.drop(['PassengerId','Name','Ticket','Survived','Embarked','Sex','SibSp','Parch'],axis=1)],axis=1)"
   ]
  },
  {
   "cell_type": "code",
   "execution_count": 41,
   "metadata": {},
   "outputs": [],
   "source": [
    "#X = train.drop(['PassengerId','Name','Ticket','Survived'],axis=1)\n",
    "y= train['Survived']"
   ]
  },
  {
   "cell_type": "code",
   "execution_count": 42,
   "metadata": {},
   "outputs": [],
   "source": [
    "from sklearn.model_selection import train_test_split"
   ]
  },
  {
   "cell_type": "code",
   "execution_count": 43,
   "metadata": {},
   "outputs": [],
   "source": [
    "X_train, X_test, y_train, y_test = train_test_split(\n",
    "     X, y, test_size=0.2, random_state=101)"
   ]
  },
  {
   "cell_type": "code",
   "execution_count": 44,
   "metadata": {},
   "outputs": [],
   "source": [
    "from sklearn.linear_model import LogisticRegression"
   ]
  },
  {
   "cell_type": "code",
   "execution_count": 45,
   "metadata": {},
   "outputs": [],
   "source": [
    "log = LogisticRegression()"
   ]
  },
  {
   "cell_type": "code",
   "execution_count": 46,
   "metadata": {
    "scrolled": true
   },
   "outputs": [
    {
     "name": "stderr",
     "output_type": "stream",
     "text": [
      "C:\\Users\\Sheik\\Anaconda3\\lib\\site-packages\\sklearn\\linear_model\\logistic.py:433: FutureWarning: Default solver will be changed to 'lbfgs' in 0.22. Specify a solver to silence this warning.\n",
      "  FutureWarning)\n"
     ]
    },
    {
     "data": {
      "text/plain": [
       "LogisticRegression(C=1.0, class_weight=None, dual=False, fit_intercept=True,\n",
       "          intercept_scaling=1, max_iter=100, multi_class='warn',\n",
       "          n_jobs=None, penalty='l2', random_state=None, solver='warn',\n",
       "          tol=0.0001, verbose=0, warm_start=False)"
      ]
     },
     "execution_count": 46,
     "metadata": {},
     "output_type": "execute_result"
    }
   ],
   "source": [
    "log.fit(X_train,y_train)"
   ]
  },
  {
   "cell_type": "code",
   "execution_count": 47,
   "metadata": {
    "scrolled": true
   },
   "outputs": [
    {
     "data": {
      "text/plain": [
       "array([0.86192713])"
      ]
     },
     "execution_count": 47,
     "metadata": {},
     "output_type": "execute_result"
    }
   ],
   "source": [
    "log.intercept_"
   ]
  },
  {
   "cell_type": "code",
   "execution_count": 48,
   "metadata": {
    "scrolled": true
   },
   "outputs": [
    {
     "data": {
      "text/plain": [
       "array([[ 0.347909  ,  0.49189147,  0.02212667,  1.70973371, -0.84780658,\n",
       "         0.91081611,  0.89657385,  0.49497287, -0.53911164, -0.00290907,\n",
       "        -0.40060966, -0.49780532,  0.49987625,  0.71359687,  0.19264465,\n",
       "         0.44595252, -0.64432985, -0.3458133 ,  0.        , -0.96899212,\n",
       "        -0.02908452,  0.00176929]])"
      ]
     },
     "execution_count": 48,
     "metadata": {},
     "output_type": "execute_result"
    }
   ],
   "source": [
    "log.coef_"
   ]
  },
  {
   "cell_type": "code",
   "execution_count": 50,
   "metadata": {},
   "outputs": [],
   "source": [
    "predict = log.predict(X_test)"
   ]
  },
  {
   "cell_type": "code",
   "execution_count": 51,
   "metadata": {},
   "outputs": [],
   "source": [
    "from sklearn.metrics import accuracy_score, classification_report, confusion_matrix,roc_auc_score"
   ]
  },
  {
   "cell_type": "code",
   "execution_count": 52,
   "metadata": {
    "scrolled": false
   },
   "outputs": [
    {
     "name": "stdout",
     "output_type": "stream",
     "text": [
      "0.8146067415730337\n"
     ]
    }
   ],
   "source": [
    "print(accuracy_score(y_test,predict))"
   ]
  },
  {
   "cell_type": "code",
   "execution_count": 53,
   "metadata": {
    "scrolled": true
   },
   "outputs": [
    {
     "name": "stdout",
     "output_type": "stream",
     "text": [
      "[[98  9]\n",
      " [24 47]]\n"
     ]
    }
   ],
   "source": [
    "print(confusion_matrix(y_test,predict))"
   ]
  },
  {
   "cell_type": "code",
   "execution_count": 54,
   "metadata": {
    "scrolled": true
   },
   "outputs": [
    {
     "name": "stdout",
     "output_type": "stream",
     "text": [
      "              precision    recall  f1-score   support\n",
      "\n",
      "           0       0.80      0.92      0.86       107\n",
      "           1       0.84      0.66      0.74        71\n",
      "\n",
      "   micro avg       0.81      0.81      0.81       178\n",
      "   macro avg       0.82      0.79      0.80       178\n",
      "weighted avg       0.82      0.81      0.81       178\n",
      "\n"
     ]
    }
   ],
   "source": [
    "print(classification_report(y_test,predict))"
   ]
  },
  {
   "cell_type": "code",
   "execution_count": 55,
   "metadata": {
    "scrolled": true
   },
   "outputs": [
    {
     "name": "stdout",
     "output_type": "stream",
     "text": [
      "0.7889298407266027\n"
     ]
    }
   ],
   "source": [
    "print(roc_auc_score(y_test,predict))"
   ]
  },
  {
   "cell_type": "code",
   "execution_count": 79,
   "metadata": {},
   "outputs": [],
   "source": [
    "pred_prob = log.predict_proba(X_test)"
   ]
  },
  {
   "cell_type": "code",
   "execution_count": 81,
   "metadata": {},
   "outputs": [
    {
     "data": {
      "text/plain": [
       "array([0.90300564, 0.8534402 , 0.23830461, 0.08265761, 0.85171678,\n",
       "       0.95521164, 0.89523453, 0.79258521, 0.92156131, 0.31106006,\n",
       "       0.22847172, 0.04947405, 0.90302953, 0.29379143, 0.90278071,\n",
       "       0.8836883 , 0.09470417, 0.12842687, 0.39812684, 0.90302953,\n",
       "       0.90291068, 0.90240474, 0.62473974, 0.68933708, 0.9629408 ,\n",
       "       0.55666246, 0.43885043, 0.29661569, 0.93802963, 0.73595957,\n",
       "       0.85448047, 0.64204926, 0.97891985, 0.89785495, 0.89518213,\n",
       "       0.81587028, 0.20968064, 0.9351149 , 0.8451314 , 0.87239132,\n",
       "       0.40849995, 0.87120248, 0.88665859, 0.0977787 , 0.39112608,\n",
       "       0.87872793, 0.40846115, 0.16768606, 0.89793117, 0.76243433,\n",
       "       0.57186012, 0.21730672, 0.80971494, 0.88332563, 0.90316049,\n",
       "       0.92765935, 0.56510608, 0.91501755, 0.89548097, 0.07377222,\n",
       "       0.31106006, 0.08741148, 0.10382717, 0.89509004, 0.85497822,\n",
       "       0.94784742, 0.88963997, 0.62093071, 0.94027935, 0.85350652,\n",
       "       0.66334905, 0.87065312, 0.38450465, 0.10316677, 0.89608694,\n",
       "       0.31099223, 0.91963642, 0.87065312, 0.89872575, 0.731227  ,\n",
       "       0.67213515, 0.60917107, 0.60733112, 0.8836883 , 0.67746628,\n",
       "       0.34731843, 0.92589671, 0.12635206, 0.89456497, 0.07085804,\n",
       "       0.44021378, 0.49382832, 0.91503475, 0.92018159, 0.65774239,\n",
       "       0.08980686, 0.2162601 , 0.5758397 , 0.87052024, 0.15743688,\n",
       "       0.89523453, 0.12796502, 0.8534402 , 0.78912851, 0.41150518,\n",
       "       0.90304824, 0.05809345, 0.70659996, 0.75097347, 0.6307347 ,\n",
       "       0.93193189, 0.59725258, 0.10974108, 0.25220431, 0.90302953,\n",
       "       0.10492834, 0.87749001, 0.86740194, 0.23888688, 0.14993695,\n",
       "       0.58281281, 0.87425841, 0.90291068, 0.8598277 , 0.88663192,\n",
       "       0.71456933, 0.22558283, 0.41246684, 0.11670021, 0.33353753,\n",
       "       0.79331142, 0.6128294 , 0.08102125, 0.47486846, 0.92958365,\n",
       "       0.90931206, 0.91621869, 0.85363742, 0.44435155, 0.87085962,\n",
       "       0.92775971, 0.88365269, 0.77208976, 0.88016561, 0.62788683,\n",
       "       0.36712936, 0.88654149, 0.71308108, 0.69648692, 0.18629017,\n",
       "       0.90304824, 0.25243026, 0.37025112, 0.21420016, 0.77432067,\n",
       "       0.74416645, 0.56797878, 0.92370668, 0.10062227, 0.69159483,\n",
       "       0.85361715, 0.90302953, 0.91705712, 0.53153008, 0.90530365,\n",
       "       0.68376034, 0.78850178, 0.93146713, 0.7577317 , 0.76665616,\n",
       "       0.31094643, 0.64605323, 0.13778318, 0.58837761, 0.85941787,\n",
       "       0.90556183, 0.686516  , 0.78254808])"
      ]
     },
     "execution_count": 81,
     "metadata": {},
     "output_type": "execute_result"
    }
   ],
   "source": [
    "pred_prob[::,0]"
   ]
  },
  {
   "cell_type": "code",
   "execution_count": 76,
   "metadata": {
    "scrolled": true
   },
   "outputs": [
    {
     "data": {
      "text/plain": [
       "array([0, 0, 1, 1, 0, 0, 0, 0, 0, 1, 1, 1, 0, 1, 0, 0, 1, 1, 1, 0, 0, 0,\n",
       "       0, 0, 0, 0, 1, 1, 0, 0, 0, 0, 0, 0, 0, 0, 1, 0, 0, 0, 1, 0, 0, 1,\n",
       "       1, 0, 1, 1, 0, 0, 0, 1, 0, 0, 0, 0, 0, 0, 0, 1, 1, 1, 1, 0, 0, 0,\n",
       "       0, 0, 0, 0, 0, 0, 1, 1, 0, 1, 0, 0, 0, 0, 0, 0, 0, 0, 0, 1, 0, 1,\n",
       "       0, 1, 1, 1, 0, 0, 0, 1, 1, 0, 0, 1, 0, 1, 0, 0, 1, 0, 1, 0, 0, 0,\n",
       "       0, 0, 1, 1, 0, 1, 0, 0, 1, 1, 0, 0, 0, 0, 0, 0, 1, 1, 1, 1, 0, 0,\n",
       "       1, 1, 0, 0, 0, 0, 1, 0, 0, 0, 0, 0, 0, 1, 0, 0, 0, 1, 0, 1, 1, 1,\n",
       "       0, 0, 0, 0, 1, 0, 0, 0, 0, 0, 0, 0, 0, 0, 0, 0, 1, 0, 1, 0, 0, 0,\n",
       "       0, 0], dtype=int64)"
      ]
     },
     "execution_count": 76,
     "metadata": {},
     "output_type": "execute_result"
    }
   ],
   "source": [
    "predict"
   ]
  },
  {
   "cell_type": "code",
   "execution_count": 84,
   "metadata": {},
   "outputs": [
    {
     "data": {
      "text/plain": [
       "array([[0.90300564, 0.09699436],\n",
       "       [0.8534402 , 0.1465598 ],\n",
       "       [0.23830461, 0.76169539],\n",
       "       [0.08265761, 0.91734239],\n",
       "       [0.85171678, 0.14828322],\n",
       "       [0.95521164, 0.04478836],\n",
       "       [0.89523453, 0.10476547],\n",
       "       [0.79258521, 0.20741479],\n",
       "       [0.92156131, 0.07843869],\n",
       "       [0.31106006, 0.68893994],\n",
       "       [0.22847172, 0.77152828],\n",
       "       [0.04947405, 0.95052595],\n",
       "       [0.90302953, 0.09697047],\n",
       "       [0.29379143, 0.70620857],\n",
       "       [0.90278071, 0.09721929],\n",
       "       [0.8836883 , 0.1163117 ],\n",
       "       [0.09470417, 0.90529583],\n",
       "       [0.12842687, 0.87157313],\n",
       "       [0.39812684, 0.60187316],\n",
       "       [0.90302953, 0.09697047],\n",
       "       [0.90291068, 0.09708932],\n",
       "       [0.90240474, 0.09759526],\n",
       "       [0.62473974, 0.37526026],\n",
       "       [0.68933708, 0.31066292],\n",
       "       [0.9629408 , 0.0370592 ],\n",
       "       [0.55666246, 0.44333754],\n",
       "       [0.43885043, 0.56114957],\n",
       "       [0.29661569, 0.70338431],\n",
       "       [0.93802963, 0.06197037],\n",
       "       [0.73595957, 0.26404043],\n",
       "       [0.85448047, 0.14551953],\n",
       "       [0.64204926, 0.35795074],\n",
       "       [0.97891985, 0.02108015],\n",
       "       [0.89785495, 0.10214505],\n",
       "       [0.89518213, 0.10481787],\n",
       "       [0.81587028, 0.18412972],\n",
       "       [0.20968064, 0.79031936],\n",
       "       [0.9351149 , 0.0648851 ],\n",
       "       [0.8451314 , 0.1548686 ],\n",
       "       [0.87239132, 0.12760868],\n",
       "       [0.40849995, 0.59150005],\n",
       "       [0.87120248, 0.12879752],\n",
       "       [0.88665859, 0.11334141],\n",
       "       [0.0977787 , 0.9022213 ],\n",
       "       [0.39112608, 0.60887392],\n",
       "       [0.87872793, 0.12127207],\n",
       "       [0.40846115, 0.59153885],\n",
       "       [0.16768606, 0.83231394],\n",
       "       [0.89793117, 0.10206883],\n",
       "       [0.76243433, 0.23756567],\n",
       "       [0.57186012, 0.42813988],\n",
       "       [0.21730672, 0.78269328],\n",
       "       [0.80971494, 0.19028506],\n",
       "       [0.88332563, 0.11667437],\n",
       "       [0.90316049, 0.09683951],\n",
       "       [0.92765935, 0.07234065],\n",
       "       [0.56510608, 0.43489392],\n",
       "       [0.91501755, 0.08498245],\n",
       "       [0.89548097, 0.10451903],\n",
       "       [0.07377222, 0.92622778],\n",
       "       [0.31106006, 0.68893994],\n",
       "       [0.08741148, 0.91258852],\n",
       "       [0.10382717, 0.89617283],\n",
       "       [0.89509004, 0.10490996],\n",
       "       [0.85497822, 0.14502178],\n",
       "       [0.94784742, 0.05215258],\n",
       "       [0.88963997, 0.11036003],\n",
       "       [0.62093071, 0.37906929],\n",
       "       [0.94027935, 0.05972065],\n",
       "       [0.85350652, 0.14649348],\n",
       "       [0.66334905, 0.33665095],\n",
       "       [0.87065312, 0.12934688],\n",
       "       [0.38450465, 0.61549535],\n",
       "       [0.10316677, 0.89683323],\n",
       "       [0.89608694, 0.10391306],\n",
       "       [0.31099223, 0.68900777],\n",
       "       [0.91963642, 0.08036358],\n",
       "       [0.87065312, 0.12934688],\n",
       "       [0.89872575, 0.10127425],\n",
       "       [0.731227  , 0.268773  ],\n",
       "       [0.67213515, 0.32786485],\n",
       "       [0.60917107, 0.39082893],\n",
       "       [0.60733112, 0.39266888],\n",
       "       [0.8836883 , 0.1163117 ],\n",
       "       [0.67746628, 0.32253372],\n",
       "       [0.34731843, 0.65268157],\n",
       "       [0.92589671, 0.07410329],\n",
       "       [0.12635206, 0.87364794],\n",
       "       [0.89456497, 0.10543503],\n",
       "       [0.07085804, 0.92914196],\n",
       "       [0.44021378, 0.55978622],\n",
       "       [0.49382832, 0.50617168],\n",
       "       [0.91503475, 0.08496525],\n",
       "       [0.92018159, 0.07981841],\n",
       "       [0.65774239, 0.34225761],\n",
       "       [0.08980686, 0.91019314],\n",
       "       [0.2162601 , 0.7837399 ],\n",
       "       [0.5758397 , 0.4241603 ],\n",
       "       [0.87052024, 0.12947976],\n",
       "       [0.15743688, 0.84256312],\n",
       "       [0.89523453, 0.10476547],\n",
       "       [0.12796502, 0.87203498],\n",
       "       [0.8534402 , 0.1465598 ],\n",
       "       [0.78912851, 0.21087149],\n",
       "       [0.41150518, 0.58849482],\n",
       "       [0.90304824, 0.09695176],\n",
       "       [0.05809345, 0.94190655],\n",
       "       [0.70659996, 0.29340004],\n",
       "       [0.75097347, 0.24902653],\n",
       "       [0.6307347 , 0.3692653 ],\n",
       "       [0.93193189, 0.06806811],\n",
       "       [0.59725258, 0.40274742],\n",
       "       [0.10974108, 0.89025892],\n",
       "       [0.25220431, 0.74779569],\n",
       "       [0.90302953, 0.09697047],\n",
       "       [0.10492834, 0.89507166],\n",
       "       [0.87749001, 0.12250999],\n",
       "       [0.86740194, 0.13259806],\n",
       "       [0.23888688, 0.76111312],\n",
       "       [0.14993695, 0.85006305],\n",
       "       [0.58281281, 0.41718719],\n",
       "       [0.87425841, 0.12574159],\n",
       "       [0.90291068, 0.09708932],\n",
       "       [0.8598277 , 0.1401723 ],\n",
       "       [0.88663192, 0.11336808],\n",
       "       [0.71456933, 0.28543067],\n",
       "       [0.22558283, 0.77441717],\n",
       "       [0.41246684, 0.58753316],\n",
       "       [0.11670021, 0.88329979],\n",
       "       [0.33353753, 0.66646247],\n",
       "       [0.79331142, 0.20668858],\n",
       "       [0.6128294 , 0.3871706 ],\n",
       "       [0.08102125, 0.91897875],\n",
       "       [0.47486846, 0.52513154],\n",
       "       [0.92958365, 0.07041635],\n",
       "       [0.90931206, 0.09068794],\n",
       "       [0.91621869, 0.08378131],\n",
       "       [0.85363742, 0.14636258],\n",
       "       [0.44435155, 0.55564845],\n",
       "       [0.87085962, 0.12914038],\n",
       "       [0.92775971, 0.07224029],\n",
       "       [0.88365269, 0.11634731],\n",
       "       [0.77208976, 0.22791024],\n",
       "       [0.88016561, 0.11983439],\n",
       "       [0.62788683, 0.37211317],\n",
       "       [0.36712936, 0.63287064],\n",
       "       [0.88654149, 0.11345851],\n",
       "       [0.71308108, 0.28691892],\n",
       "       [0.69648692, 0.30351308],\n",
       "       [0.18629017, 0.81370983],\n",
       "       [0.90304824, 0.09695176],\n",
       "       [0.25243026, 0.74756974],\n",
       "       [0.37025112, 0.62974888],\n",
       "       [0.21420016, 0.78579984],\n",
       "       [0.77432067, 0.22567933],\n",
       "       [0.74416645, 0.25583355],\n",
       "       [0.56797878, 0.43202122],\n",
       "       [0.92370668, 0.07629332],\n",
       "       [0.10062227, 0.89937773],\n",
       "       [0.69159483, 0.30840517],\n",
       "       [0.85361715, 0.14638285],\n",
       "       [0.90302953, 0.09697047],\n",
       "       [0.91705712, 0.08294288],\n",
       "       [0.53153008, 0.46846992],\n",
       "       [0.90530365, 0.09469635],\n",
       "       [0.68376034, 0.31623966],\n",
       "       [0.78850178, 0.21149822],\n",
       "       [0.93146713, 0.06853287],\n",
       "       [0.7577317 , 0.2422683 ],\n",
       "       [0.76665616, 0.23334384],\n",
       "       [0.31094643, 0.68905357],\n",
       "       [0.64605323, 0.35394677],\n",
       "       [0.13778318, 0.86221682],\n",
       "       [0.58837761, 0.41162239],\n",
       "       [0.85941787, 0.14058213],\n",
       "       [0.90556183, 0.09443817],\n",
       "       [0.686516  , 0.313484  ],\n",
       "       [0.78254808, 0.21745192]])"
      ]
     },
     "execution_count": 84,
     "metadata": {},
     "output_type": "execute_result"
    }
   ],
   "source": [
    "pred_prob"
   ]
  },
  {
   "cell_type": "code",
   "execution_count": 82,
   "metadata": {
    "scrolled": true
   },
   "outputs": [],
   "source": [
    "pred_DB = np.where(pred_prob[:,0]>=0.5,0,1)"
   ]
  }
 ],
 "metadata": {
  "kernelspec": {
   "display_name": "Python 3",
   "language": "python",
   "name": "python3"
  },
  "language_info": {
   "codemirror_mode": {
    "name": "ipython",
    "version": 3
   },
   "file_extension": ".py",
   "mimetype": "text/x-python",
   "name": "python",
   "nbconvert_exporter": "python",
   "pygments_lexer": "ipython3",
   "version": "3.7.7"
  }
 },
 "nbformat": 4,
 "nbformat_minor": 2
}
