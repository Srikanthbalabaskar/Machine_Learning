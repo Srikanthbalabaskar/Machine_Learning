{
 "cells": [
  {
   "cell_type": "code",
   "execution_count": null,
   "metadata": {},
   "outputs": [],
   "source": [
    "'''\n",
    "Title: US_Census\n",
    "Date:20th June,2020\n",
    "Objective: To Read adult.csv, clean the data and predict the income range(Classification)\n",
    "Author: Srikanth\n",
    "'''"
   ]
  },
  {
   "cell_type": "code",
   "execution_count": 259,
   "metadata": {},
   "outputs": [],
   "source": [
    "import pandas as pd\n",
    "import numpy as np\n",
    "import seaborn as sns"
   ]
  },
  {
   "cell_type": "markdown",
   "metadata": {},
   "source": [
    "# 1. Data Cleaning"
   ]
  },
  {
   "cell_type": "code",
   "execution_count": 270,
   "metadata": {},
   "outputs": [],
   "source": [
    "census=pd.read_csv(\"adult.csv\")"
   ]
  },
  {
   "cell_type": "code",
   "execution_count": 158,
   "metadata": {},
   "outputs": [
    {
     "data": {
      "text/html": [
       "<div>\n",
       "<style scoped>\n",
       "    .dataframe tbody tr th:only-of-type {\n",
       "        vertical-align: middle;\n",
       "    }\n",
       "\n",
       "    .dataframe tbody tr th {\n",
       "        vertical-align: top;\n",
       "    }\n",
       "\n",
       "    .dataframe thead th {\n",
       "        text-align: right;\n",
       "    }\n",
       "</style>\n",
       "<table border=\"1\" class=\"dataframe\">\n",
       "  <thead>\n",
       "    <tr style=\"text-align: right;\">\n",
       "      <th></th>\n",
       "      <th>age</th>\n",
       "      <th>workclass</th>\n",
       "      <th>fnlwgt</th>\n",
       "      <th>education</th>\n",
       "      <th>education_num</th>\n",
       "      <th>marital_status</th>\n",
       "      <th>occupation</th>\n",
       "      <th>relationship</th>\n",
       "      <th>race</th>\n",
       "      <th>sex</th>\n",
       "      <th>capital_gain</th>\n",
       "      <th>capital_loss</th>\n",
       "      <th>hours_per_week</th>\n",
       "      <th>native_country</th>\n",
       "      <th>income</th>\n",
       "    </tr>\n",
       "  </thead>\n",
       "  <tbody>\n",
       "    <tr>\n",
       "      <th>0</th>\n",
       "      <td>39</td>\n",
       "      <td>State-gov</td>\n",
       "      <td>77516</td>\n",
       "      <td>Bachelors</td>\n",
       "      <td>13</td>\n",
       "      <td>Never-married</td>\n",
       "      <td>Adm-clerical</td>\n",
       "      <td>Not-in-family</td>\n",
       "      <td>White</td>\n",
       "      <td>Male</td>\n",
       "      <td>2174</td>\n",
       "      <td>0</td>\n",
       "      <td>40</td>\n",
       "      <td>United-States</td>\n",
       "      <td>&lt;=50K</td>\n",
       "    </tr>\n",
       "    <tr>\n",
       "      <th>1</th>\n",
       "      <td>50</td>\n",
       "      <td>Self-emp-not-inc</td>\n",
       "      <td>83311</td>\n",
       "      <td>Bachelors</td>\n",
       "      <td>13</td>\n",
       "      <td>Married-civ-spouse</td>\n",
       "      <td>Exec-managerial</td>\n",
       "      <td>Husband</td>\n",
       "      <td>White</td>\n",
       "      <td>Male</td>\n",
       "      <td>0</td>\n",
       "      <td>0</td>\n",
       "      <td>13</td>\n",
       "      <td>United-States</td>\n",
       "      <td>&lt;=50K</td>\n",
       "    </tr>\n",
       "    <tr>\n",
       "      <th>2</th>\n",
       "      <td>38</td>\n",
       "      <td>Private</td>\n",
       "      <td>215646</td>\n",
       "      <td>HS-grad</td>\n",
       "      <td>9</td>\n",
       "      <td>Divorced</td>\n",
       "      <td>Handlers-cleaners</td>\n",
       "      <td>Not-in-family</td>\n",
       "      <td>White</td>\n",
       "      <td>Male</td>\n",
       "      <td>0</td>\n",
       "      <td>0</td>\n",
       "      <td>40</td>\n",
       "      <td>United-States</td>\n",
       "      <td>&lt;=50K</td>\n",
       "    </tr>\n",
       "    <tr>\n",
       "      <th>3</th>\n",
       "      <td>53</td>\n",
       "      <td>Private</td>\n",
       "      <td>234721</td>\n",
       "      <td>11th</td>\n",
       "      <td>7</td>\n",
       "      <td>Married-civ-spouse</td>\n",
       "      <td>Handlers-cleaners</td>\n",
       "      <td>Husband</td>\n",
       "      <td>Black</td>\n",
       "      <td>#NAME?</td>\n",
       "      <td>0</td>\n",
       "      <td>0</td>\n",
       "      <td>40</td>\n",
       "      <td>United-States</td>\n",
       "      <td>&lt;=50K</td>\n",
       "    </tr>\n",
       "    <tr>\n",
       "      <th>4</th>\n",
       "      <td>28</td>\n",
       "      <td>Private</td>\n",
       "      <td>338409</td>\n",
       "      <td>Bachelors</td>\n",
       "      <td>13</td>\n",
       "      <td>Married-civ-spouse</td>\n",
       "      <td>Prof-specialty</td>\n",
       "      <td>Wife</td>\n",
       "      <td>Black</td>\n",
       "      <td>Female</td>\n",
       "      <td>0</td>\n",
       "      <td>0</td>\n",
       "      <td>40</td>\n",
       "      <td>Cuba</td>\n",
       "      <td>&lt;=50K</td>\n",
       "    </tr>\n",
       "  </tbody>\n",
       "</table>\n",
       "</div>"
      ],
      "text/plain": [
       "  age         workclass  fnlwgt  education education_num      marital_status  \\\n",
       "0  39         State-gov   77516  Bachelors            13       Never-married   \n",
       "1  50  Self-emp-not-inc   83311  Bachelors            13  Married-civ-spouse   \n",
       "2  38           Private  215646    HS-grad             9            Divorced   \n",
       "3  53           Private  234721       11th             7  Married-civ-spouse   \n",
       "4  28           Private  338409  Bachelors            13  Married-civ-spouse   \n",
       "\n",
       "          occupation   relationship   race     sex  capital_gain  \\\n",
       "0       Adm-clerical  Not-in-family  White    Male          2174   \n",
       "1    Exec-managerial        Husband  White    Male             0   \n",
       "2  Handlers-cleaners  Not-in-family  White    Male             0   \n",
       "3  Handlers-cleaners        Husband  Black  #NAME?             0   \n",
       "4     Prof-specialty           Wife  Black  Female             0   \n",
       "\n",
       "   capital_loss  hours_per_week native_country income  \n",
       "0             0              40  United-States  <=50K  \n",
       "1             0              13  United-States  <=50K  \n",
       "2             0              40  United-States  <=50K  \n",
       "3             0              40  United-States  <=50K  \n",
       "4             0              40           Cuba  <=50K  "
      ]
     },
     "execution_count": 158,
     "metadata": {},
     "output_type": "execute_result"
    }
   ],
   "source": [
    "census.head()"
   ]
  },
  {
   "cell_type": "code",
   "execution_count": 4,
   "metadata": {},
   "outputs": [
    {
     "data": {
      "text/plain": [
       "(5000, 15)"
      ]
     },
     "execution_count": 4,
     "metadata": {},
     "output_type": "execute_result"
    }
   ],
   "source": [
    "census.shape"
   ]
  },
  {
   "cell_type": "code",
   "execution_count": 5,
   "metadata": {},
   "outputs": [
    {
     "data": {
      "text/plain": [
       "age               0\n",
       "workclass         0\n",
       "fnlwgt            0\n",
       "education         0\n",
       "education_num     0\n",
       "marital_status    0\n",
       "occupation        0\n",
       "relationship      0\n",
       "race              0\n",
       "sex               0\n",
       "capital_gain      0\n",
       "capital_loss      0\n",
       "hours_per_week    0\n",
       "native_country    0\n",
       "income            0\n",
       "dtype: int64"
      ]
     },
     "execution_count": 5,
     "metadata": {},
     "output_type": "execute_result"
    }
   ],
   "source": [
    "census.isna().sum()"
   ]
  },
  {
   "cell_type": "code",
   "execution_count": 6,
   "metadata": {},
   "outputs": [
    {
     "name": "stdout",
     "output_type": "stream",
     "text": [
      "<class 'pandas.core.frame.DataFrame'>\n",
      "RangeIndex: 5000 entries, 0 to 4999\n",
      "Data columns (total 15 columns):\n",
      " #   Column          Non-Null Count  Dtype \n",
      "---  ------          --------------  ----- \n",
      " 0   age             5000 non-null   object\n",
      " 1   workclass       5000 non-null   object\n",
      " 2   fnlwgt          5000 non-null   object\n",
      " 3   education       5000 non-null   object\n",
      " 4   education_num   5000 non-null   object\n",
      " 5   marital_status  5000 non-null   object\n",
      " 6   occupation      5000 non-null   object\n",
      " 7   relationship    5000 non-null   object\n",
      " 8   race            5000 non-null   object\n",
      " 9   sex             5000 non-null   object\n",
      " 10  capital_gain    5000 non-null   int64 \n",
      " 11  capital_loss    5000 non-null   int64 \n",
      " 12  hours_per_week  5000 non-null   int64 \n",
      " 13  native_country  5000 non-null   object\n",
      " 14  income          5000 non-null   object\n",
      "dtypes: int64(3), object(12)\n",
      "memory usage: 586.1+ KB\n"
     ]
    }
   ],
   "source": [
    "census.info()"
   ]
  },
  {
   "cell_type": "code",
   "execution_count": 10,
   "metadata": {},
   "outputs": [
    {
     "data": {
      "text/html": [
       "<div>\n",
       "<style scoped>\n",
       "    .dataframe tbody tr th:only-of-type {\n",
       "        vertical-align: middle;\n",
       "    }\n",
       "\n",
       "    .dataframe tbody tr th {\n",
       "        vertical-align: top;\n",
       "    }\n",
       "\n",
       "    .dataframe thead th {\n",
       "        text-align: right;\n",
       "    }\n",
       "</style>\n",
       "<table border=\"1\" class=\"dataframe\">\n",
       "  <thead>\n",
       "    <tr style=\"text-align: right;\">\n",
       "      <th></th>\n",
       "      <th>capital_gain</th>\n",
       "      <th>capital_loss</th>\n",
       "      <th>hours_per_week</th>\n",
       "    </tr>\n",
       "  </thead>\n",
       "  <tbody>\n",
       "    <tr>\n",
       "      <th>count</th>\n",
       "      <td>5000.000000</td>\n",
       "      <td>5000.000000</td>\n",
       "      <td>5000.000000</td>\n",
       "    </tr>\n",
       "    <tr>\n",
       "      <th>mean</th>\n",
       "      <td>1033.640200</td>\n",
       "      <td>93.696800</td>\n",
       "      <td>40.519000</td>\n",
       "    </tr>\n",
       "    <tr>\n",
       "      <th>std</th>\n",
       "      <td>7051.802077</td>\n",
       "      <td>410.801418</td>\n",
       "      <td>12.109193</td>\n",
       "    </tr>\n",
       "    <tr>\n",
       "      <th>min</th>\n",
       "      <td>0.000000</td>\n",
       "      <td>0.000000</td>\n",
       "      <td>1.000000</td>\n",
       "    </tr>\n",
       "    <tr>\n",
       "      <th>25%</th>\n",
       "      <td>0.000000</td>\n",
       "      <td>0.000000</td>\n",
       "      <td>40.000000</td>\n",
       "    </tr>\n",
       "    <tr>\n",
       "      <th>50%</th>\n",
       "      <td>0.000000</td>\n",
       "      <td>0.000000</td>\n",
       "      <td>40.000000</td>\n",
       "    </tr>\n",
       "    <tr>\n",
       "      <th>75%</th>\n",
       "      <td>0.000000</td>\n",
       "      <td>0.000000</td>\n",
       "      <td>45.000000</td>\n",
       "    </tr>\n",
       "    <tr>\n",
       "      <th>max</th>\n",
       "      <td>99999.000000</td>\n",
       "      <td>2547.000000</td>\n",
       "      <td>99.000000</td>\n",
       "    </tr>\n",
       "  </tbody>\n",
       "</table>\n",
       "</div>"
      ],
      "text/plain": [
       "       capital_gain  capital_loss  hours_per_week\n",
       "count   5000.000000   5000.000000     5000.000000\n",
       "mean    1033.640200     93.696800       40.519000\n",
       "std     7051.802077    410.801418       12.109193\n",
       "min        0.000000      0.000000        1.000000\n",
       "25%        0.000000      0.000000       40.000000\n",
       "50%        0.000000      0.000000       40.000000\n",
       "75%        0.000000      0.000000       45.000000\n",
       "max    99999.000000   2547.000000       99.000000"
      ]
     },
     "execution_count": 10,
     "metadata": {},
     "output_type": "execute_result"
    }
   ],
   "source": [
    "census.describe()"
   ]
  },
  {
   "cell_type": "code",
   "execution_count": null,
   "metadata": {},
   "outputs": [],
   "source": [
    "'''pd.DataFrame(np.where(census=='State-gov'))\n",
    "dum=pd.DataFrame(np.where((census == '#NAME?'),np.nan,census))\n",
    "dum.isna().sum()\n",
    "dum=pd.DataFrame(np.where((dum == '?'),np.nan,dum))\n",
    "dum.isna().sum()\n",
    "'''"
   ]
  },
  {
   "cell_type": "code",
   "execution_count": 17,
   "metadata": {},
   "outputs": [
    {
     "name": "stdout",
     "output_type": "stream",
     "text": [
      "Age \n",
      " ['39' '50' '38' '53' '28' '37' '49' '52' '31' '42' '30' '23' '32' '40'\n",
      " '34' '#NAME?' '43' '54' '35' '59' '56' '19' '20' '45' '22' '48' '21' '24'\n",
      " '25' '57' '44' '41' '29' '18' '47' '46' '36' '79' '27' '67' '33' '76'\n",
      " '17' '55' '61' '70' '64' '71' '68' '66' '51' '58' '26' '60' '90' '75'\n",
      " '65' '77' '62' '63' '80' '72' '74' '69' '73' '81' '78' '88' '82']\n"
     ]
    }
   ],
   "source": [
    "print('Age \\n',census['age'].unique())"
   ]
  },
  {
   "cell_type": "code",
   "execution_count": 30,
   "metadata": {},
   "outputs": [
    {
     "name": "stdout",
     "output_type": "stream",
     "text": [
      "Age \n",
      " #NAME?     48\n",
      "17         60\n",
      "18         76\n",
      "19        109\n",
      "20        128\n",
      "         ... \n",
      "80          3\n",
      "81          4\n",
      "82          1\n",
      "88          1\n",
      "90          7\n",
      "Name: age, Length: 69, dtype: int64\n"
     ]
    }
   ],
   "source": [
    "print('Age \\n',census['age'].value_counts().sort_index())"
   ]
  },
  {
   "cell_type": "code",
   "execution_count": 20,
   "metadata": {},
   "outputs": [
    {
     "name": "stdout",
     "output_type": "stream",
     "text": [
      "workclass \n",
      " Private             3435\n",
      "Self-emp-not-inc     383\n",
      "?                    331\n",
      "Local-gov            329\n",
      "State-gov            193\n",
      "Self-emp-inc         182\n",
      "Federal-gov          146\n",
      "Without-pay            1\n",
      "Name: workclass, dtype: int64\n",
      "fnlwgt           \n",
      " #NAME?    107\n",
      "123983      5\n",
      "163003      4\n",
      "94235       4\n",
      "111567      4\n",
      "         ... \n",
      "291429      1\n",
      "198632      1\n",
      "189346      1\n",
      "292472      1\n",
      "154165      1\n",
      "Name: fnlwgt, Length: 4507, dtype: int64\n",
      "education        \n",
      " HS-grad         1597\n",
      "Some-college    1114\n",
      "Bachelors        819\n",
      "Masters          251\n",
      "Assoc-voc        215\n",
      "11th             198\n",
      "Assoc-acdm       163\n",
      "10th             144\n",
      "7th-8th           98\n",
      "Prof-school       88\n",
      "9th               74\n",
      "?                 57\n",
      "Doctorate         55\n",
      "12th              55\n",
      "5th-6th           43\n",
      "1st-4th           22\n",
      "Preschool          7\n",
      "Name: education, dtype: int64\n"
     ]
    }
   ],
   "source": [
    "print('workclass \\n',census['workclass'].value_counts())\n",
    "print('fnlwgt           \\n',census['fnlwgt'].value_counts())\n",
    "print('education        \\n',census['education'].value_counts())\n"
   ]
  },
  {
   "cell_type": "code",
   "execution_count": 24,
   "metadata": {},
   "outputs": [
    {
     "name": "stdout",
     "output_type": "stream",
     "text": [
      "education_num \n",
      " 9         1597\n",
      "10        1114\n",
      "13         819\n",
      "14         251\n",
      "11         215\n",
      "7          198\n",
      "12         163\n",
      "6          144\n",
      "4           98\n",
      "15          88\n",
      "5           74\n",
      "#NAME?      57\n",
      "16          55\n",
      "8           55\n",
      "3           43\n",
      "2           22\n",
      "1            7\n",
      "Name: education_num, dtype: int64\n",
      "marital_status           \n",
      " Married-civ-spouse       2270\n",
      "Never-married            1659\n",
      "Divorced                  682\n",
      "Widowed                   160\n",
      "Separated                 158\n",
      "Married-spouse-absent      66\n",
      "Married-AF-spouse           5\n",
      "Name: marital_status, dtype: int64\n",
      "Occupation        \n",
      " Prof-specialty       625\n",
      "Craft-repair         619\n",
      "Exec-managerial      618\n",
      "Sales                588\n",
      "Adm-clerical         576\n",
      "Other-service        495\n",
      "?                    331\n",
      "Machine-op-inspct    312\n",
      "Transport-moving     247\n",
      "Handlers-cleaners    196\n",
      "Farming-fishing      143\n",
      "Tech-support         140\n",
      "Protective-serv       90\n",
      "Priv-house-serv       18\n",
      "Armed-Forces           2\n",
      "Name: occupation, dtype: int64\n"
     ]
    }
   ],
   "source": [
    "print('education_num \\n',census['education_num'].value_counts())\n",
    "print('marital_status           \\n',census['marital_status'].value_counts())\n",
    "print('Occupation        \\n',census['occupation'].value_counts())"
   ]
  },
  {
   "cell_type": "code",
   "execution_count": 23,
   "metadata": {},
   "outputs": [
    {
     "name": "stdout",
     "output_type": "stream",
     "text": [
      "relationship     \n",
      " Husband           2001\n",
      "Not-in-family     1292\n",
      "Own-child          770\n",
      "Unmarried          544\n",
      "Wife               245\n",
      "Other-relative     148\n",
      "Name: relationship, dtype: int64\n",
      "race           \n",
      " White                 4021\n",
      "Black                  493\n",
      "#NAME?                 264\n",
      "Asian-Pac-Islander     145\n",
      "Amer-Indian-Eskimo      48\n",
      "Other                   29\n",
      "Name: race, dtype: int64\n",
      "sex        \n",
      " Male      3332\n",
      "Female    1621\n",
      "#NAME?      47\n",
      "Name: sex, dtype: int64\n"
     ]
    }
   ],
   "source": [
    "print('relationship     \\n',census['relationship'].value_counts())\n",
    "print('race           \\n',census['race'].value_counts())\n",
    "print('sex        \\n',census['sex'].value_counts())"
   ]
  },
  {
   "cell_type": "code",
   "execution_count": 26,
   "metadata": {},
   "outputs": [
    {
     "name": "stdout",
     "output_type": "stream",
     "text": [
      "capital_gain         \n",
      " 0        4579\n",
      "15024      65\n",
      "7688       48\n",
      "7298       36\n",
      "99999      22\n",
      "         ... \n",
      "4416        1\n",
      "114         1\n",
      "5455        1\n",
      "4931        1\n",
      "6497        1\n",
      "Name: capital_gain, Length: 83, dtype: int64\n",
      "capital_loss           \n",
      " 0       4745\n",
      "1902      40\n",
      "1977      30\n",
      "1887      24\n",
      "2415      10\n",
      "1485       9\n",
      "1848       9\n",
      "1590       7\n",
      "1741       7\n",
      "1762       6\n",
      "1719       6\n",
      "1876       6\n",
      "1672       6\n",
      "1564       6\n",
      "1669       5\n",
      "1628       5\n",
      "1980       5\n",
      "1740       5\n",
      "2392       4\n",
      "2002       4\n",
      "1408       4\n",
      "2339       4\n",
      "2001       3\n",
      "2179       3\n",
      "1579       3\n",
      "2258       3\n",
      "1340       3\n",
      "625        2\n",
      "2352       2\n",
      "1721       2\n",
      "1504       2\n",
      "2051       2\n",
      "1380       2\n",
      "1602       2\n",
      "2377       2\n",
      "2206       2\n",
      "1816       2\n",
      "1668       1\n",
      "1092       1\n",
      "880        1\n",
      "2205       1\n",
      "1539       1\n",
      "213        1\n",
      "2444       1\n",
      "653        1\n",
      "419        1\n",
      "1651       1\n",
      "2547       1\n",
      "1138       1\n",
      "1594       1\n",
      "1726       1\n",
      "2042       1\n",
      "2174       1\n",
      "2238       1\n",
      "1573       1\n",
      "Name: capital_loss, dtype: int64\n",
      "hours_per_week          \n",
      " 1      3\n",
      "2      6\n",
      "3      8\n",
      "4      3\n",
      "5     15\n",
      "      ..\n",
      "84    10\n",
      "85     2\n",
      "90     4\n",
      "98     2\n",
      "99     7\n",
      "Name: hours_per_week, Length: 74, dtype: int64\n"
     ]
    }
   ],
   "source": [
    "print('capital_gain         \\n',census['capital_gain'].value_counts())\n",
    "print('capital_loss           \\n',census['capital_loss'].value_counts())\n",
    "print('hours_per_week          \\n',census['hours_per_week'].value_counts().sort_index())"
   ]
  },
  {
   "cell_type": "code",
   "execution_count": 27,
   "metadata": {},
   "outputs": [
    {
     "name": "stdout",
     "output_type": "stream",
     "text": [
      "native_country       \n",
      " United-States                 4465\n",
      "Mexico                         104\n",
      "?                               97\n",
      "Canada                          28\n",
      "Philippines                     22\n",
      "Germany                         22\n",
      "Puerto-Rico                     16\n",
      "England                         16\n",
      "El-Salvador                     16\n",
      "Jamaica                         15\n",
      "China                           15\n",
      "Cuba                            14\n",
      "Dominican-Republic              13\n",
      "Italy                           12\n",
      "India                           12\n",
      "Iran                            11\n",
      "Guatemala                       10\n",
      "Vietnam                         10\n",
      "Taiwan                          10\n",
      "Poland                           9\n",
      "Japan                            9\n",
      "South                            9\n",
      "Portugal                         7\n",
      "Haiti                            6\n",
      "Greece                           6\n",
      "Columbia                         5\n",
      "Nicaragua                        5\n",
      "Trinadad&Tobago                  4\n",
      "Ecuador                          4\n",
      "Ireland                          4\n",
      "Cambodia                         4\n",
      "France                           3\n",
      "Outlying-US(Guam-USVI-etc)       3\n",
      "Honduras                         3\n",
      "Peru                             3\n",
      "Yugoslavia                       2\n",
      "Laos                             2\n",
      "Thailand                         2\n",
      "Scotland                         1\n",
      "Hong                             1\n",
      "Name: native_country, dtype: int64\n",
      "income           \n",
      " <=50K    3779\n",
      ">50K     1221\n",
      "Name: income, dtype: int64\n"
     ]
    }
   ],
   "source": [
    "print('native_country       \\n',census['native_country'].value_counts())\n",
    "print('income           \\n',census['income'].value_counts())"
   ]
  },
  {
   "cell_type": "code",
   "execution_count": null,
   "metadata": {},
   "outputs": [],
   "source": [
    "Native Country: ? - 48\n",
    "race: #NAME?  - 264\n",
    "sex:#NAME?    - 47\n",
    "occupation:? 331\n",
    "education_num:  #NAME?- 57\n",
    "    education ? - 57\n",
    "  fnlwgt-#NAME? -107\n",
    "workclass- ? -331\n",
    "Age - #NAME?- 48"
   ]
  },
  {
   "cell_type": "code",
   "execution_count": 271,
   "metadata": {},
   "outputs": [],
   "source": [
    "census=census.replace('?',np.nan)"
   ]
  },
  {
   "cell_type": "code",
   "execution_count": 272,
   "metadata": {},
   "outputs": [],
   "source": [
    "census.replace('#NAME?',np.nan,inplace=True)"
   ]
  },
  {
   "cell_type": "code",
   "execution_count": 273,
   "metadata": {},
   "outputs": [
    {
     "data": {
      "text/plain": [
       "age                48\n",
       "workclass         331\n",
       "fnlwgt            107\n",
       "education          57\n",
       "education_num      57\n",
       "marital_status      0\n",
       "occupation        331\n",
       "relationship        0\n",
       "race              264\n",
       "sex                47\n",
       "capital_gain        0\n",
       "capital_loss        0\n",
       "hours_per_week      0\n",
       "native_country     97\n",
       "income              0\n",
       "dtype: int64"
      ]
     },
     "execution_count": 273,
     "metadata": {},
     "output_type": "execute_result"
    }
   ],
   "source": [
    "census.isna().sum()"
   ]
  },
  {
   "cell_type": "code",
   "execution_count": 51,
   "metadata": {},
   "outputs": [
    {
     "data": {
      "text/plain": [
       "<seaborn.axisgrid.PairGrid at 0x1e7b88d7b48>"
      ]
     },
     "execution_count": 51,
     "metadata": {},
     "output_type": "execute_result"
    },
    {
     "data": {
      "image/png": "[encoded data removed]",
      "text/plain": [
       "<Figure size 1080x1080 with 42 Axes>"
      ]
     },
     "metadata": {
      "needs_background": "light"
     },
     "output_type": "display_data"
    }
   ],
   "source": [
    "sns.pairplot(census)"
   ]
  },
  {
   "cell_type": "code",
   "execution_count": 52,
   "metadata": {},
   "outputs": [
    {
     "data": {
      "text/html": [
       "<div>\n",
       "<style scoped>\n",
       "    .dataframe tbody tr th:only-of-type {\n",
       "        vertical-align: middle;\n",
       "    }\n",
       "\n",
       "    .dataframe tbody tr th {\n",
       "        vertical-align: top;\n",
       "    }\n",
       "\n",
       "    .dataframe thead th {\n",
       "        text-align: right;\n",
       "    }\n",
       "</style>\n",
       "<table border=\"1\" class=\"dataframe\">\n",
       "  <thead>\n",
       "    <tr style=\"text-align: right;\">\n",
       "      <th></th>\n",
       "      <th>age</th>\n",
       "      <th>workclass</th>\n",
       "      <th>fnlwgt</th>\n",
       "      <th>education</th>\n",
       "      <th>education_num</th>\n",
       "      <th>marital_status</th>\n",
       "      <th>occupation</th>\n",
       "      <th>relationship</th>\n",
       "      <th>race</th>\n",
       "      <th>sex</th>\n",
       "      <th>capital_gain</th>\n",
       "      <th>capital_loss</th>\n",
       "      <th>hours_per_week</th>\n",
       "      <th>native_country</th>\n",
       "      <th>income</th>\n",
       "    </tr>\n",
       "  </thead>\n",
       "  <tbody>\n",
       "    <tr>\n",
       "      <th>0</th>\n",
       "      <td>39</td>\n",
       "      <td>State-gov</td>\n",
       "      <td>77516</td>\n",
       "      <td>Bachelors</td>\n",
       "      <td>13</td>\n",
       "      <td>Never-married</td>\n",
       "      <td>Adm-clerical</td>\n",
       "      <td>Not-in-family</td>\n",
       "      <td>White</td>\n",
       "      <td>Male</td>\n",
       "      <td>2174</td>\n",
       "      <td>0</td>\n",
       "      <td>40</td>\n",
       "      <td>United-States</td>\n",
       "      <td>&lt;=50K</td>\n",
       "    </tr>\n",
       "    <tr>\n",
       "      <th>1</th>\n",
       "      <td>50</td>\n",
       "      <td>Self-emp-not-inc</td>\n",
       "      <td>83311</td>\n",
       "      <td>Bachelors</td>\n",
       "      <td>13</td>\n",
       "      <td>Married-civ-spouse</td>\n",
       "      <td>Exec-managerial</td>\n",
       "      <td>Husband</td>\n",
       "      <td>White</td>\n",
       "      <td>Male</td>\n",
       "      <td>0</td>\n",
       "      <td>0</td>\n",
       "      <td>13</td>\n",
       "      <td>United-States</td>\n",
       "      <td>&lt;=50K</td>\n",
       "    </tr>\n",
       "    <tr>\n",
       "      <th>2</th>\n",
       "      <td>38</td>\n",
       "      <td>Private</td>\n",
       "      <td>215646</td>\n",
       "      <td>HS-grad</td>\n",
       "      <td>9</td>\n",
       "      <td>Divorced</td>\n",
       "      <td>Handlers-cleaners</td>\n",
       "      <td>Not-in-family</td>\n",
       "      <td>White</td>\n",
       "      <td>Male</td>\n",
       "      <td>0</td>\n",
       "      <td>0</td>\n",
       "      <td>40</td>\n",
       "      <td>United-States</td>\n",
       "      <td>&lt;=50K</td>\n",
       "    </tr>\n",
       "    <tr>\n",
       "      <th>3</th>\n",
       "      <td>53</td>\n",
       "      <td>Private</td>\n",
       "      <td>234721</td>\n",
       "      <td>11th</td>\n",
       "      <td>7</td>\n",
       "      <td>Married-civ-spouse</td>\n",
       "      <td>Handlers-cleaners</td>\n",
       "      <td>Husband</td>\n",
       "      <td>Black</td>\n",
       "      <td>NaN</td>\n",
       "      <td>0</td>\n",
       "      <td>0</td>\n",
       "      <td>40</td>\n",
       "      <td>United-States</td>\n",
       "      <td>&lt;=50K</td>\n",
       "    </tr>\n",
       "    <tr>\n",
       "      <th>4</th>\n",
       "      <td>28</td>\n",
       "      <td>Private</td>\n",
       "      <td>338409</td>\n",
       "      <td>Bachelors</td>\n",
       "      <td>13</td>\n",
       "      <td>Married-civ-spouse</td>\n",
       "      <td>Prof-specialty</td>\n",
       "      <td>Wife</td>\n",
       "      <td>Black</td>\n",
       "      <td>Female</td>\n",
       "      <td>0</td>\n",
       "      <td>0</td>\n",
       "      <td>40</td>\n",
       "      <td>Cuba</td>\n",
       "      <td>&lt;=50K</td>\n",
       "    </tr>\n",
       "  </tbody>\n",
       "</table>\n",
       "</div>"
      ],
      "text/plain": [
       "  age         workclass  fnlwgt  education education_num      marital_status  \\\n",
       "0  39         State-gov   77516  Bachelors            13       Never-married   \n",
       "1  50  Self-emp-not-inc   83311  Bachelors            13  Married-civ-spouse   \n",
       "2  38           Private  215646    HS-grad             9            Divorced   \n",
       "3  53           Private  234721       11th             7  Married-civ-spouse   \n",
       "4  28           Private  338409  Bachelors            13  Married-civ-spouse   \n",
       "\n",
       "          occupation   relationship   race     sex  capital_gain  \\\n",
       "0       Adm-clerical  Not-in-family  White    Male          2174   \n",
       "1    Exec-managerial        Husband  White    Male             0   \n",
       "2  Handlers-cleaners  Not-in-family  White    Male             0   \n",
       "3  Handlers-cleaners        Husband  Black     NaN             0   \n",
       "4     Prof-specialty           Wife  Black  Female             0   \n",
       "\n",
       "   capital_loss  hours_per_week native_country income  \n",
       "0             0              40  United-States  <=50K  \n",
       "1             0              13  United-States  <=50K  \n",
       "2             0              40  United-States  <=50K  \n",
       "3             0              40  United-States  <=50K  \n",
       "4             0              40           Cuba  <=50K  "
      ]
     },
     "execution_count": 52,
     "metadata": {},
     "output_type": "execute_result"
    }
   ],
   "source": [
    "census.head()"
   ]
  },
  {
   "cell_type": "code",
   "execution_count": 206,
   "metadata": {
    "scrolled": true
   },
   "outputs": [
    {
     "data": {
      "text/html": [
       "<div>\n",
       "<style scoped>\n",
       "    .dataframe tbody tr th:only-of-type {\n",
       "        vertical-align: middle;\n",
       "    }\n",
       "\n",
       "    .dataframe tbody tr th {\n",
       "        vertical-align: top;\n",
       "    }\n",
       "\n",
       "    .dataframe thead th {\n",
       "        text-align: right;\n",
       "    }\n",
       "</style>\n",
       "<table border=\"1\" class=\"dataframe\">\n",
       "  <thead>\n",
       "    <tr style=\"text-align: right;\">\n",
       "      <th></th>\n",
       "      <th>age</th>\n",
       "      <th>workclass</th>\n",
       "      <th>fnlwgt</th>\n",
       "      <th>education</th>\n",
       "      <th>education_num</th>\n",
       "      <th>marital_status</th>\n",
       "      <th>occupation</th>\n",
       "      <th>relationship</th>\n",
       "      <th>race</th>\n",
       "      <th>sex</th>\n",
       "      <th>capital_gain</th>\n",
       "      <th>capital_loss</th>\n",
       "      <th>hours_per_week</th>\n",
       "      <th>native_country</th>\n",
       "      <th>income</th>\n",
       "    </tr>\n",
       "  </thead>\n",
       "  <tbody>\n",
       "    <tr>\n",
       "      <th>3</th>\n",
       "      <td>53</td>\n",
       "      <td>Private</td>\n",
       "      <td>234721</td>\n",
       "      <td>11th</td>\n",
       "      <td>7</td>\n",
       "      <td>Married-civ-spouse</td>\n",
       "      <td>Handlers-cleaners</td>\n",
       "      <td>Husband</td>\n",
       "      <td>Black</td>\n",
       "      <td>NaN</td>\n",
       "      <td>0</td>\n",
       "      <td>0</td>\n",
       "      <td>40</td>\n",
       "      <td>United-States</td>\n",
       "      <td>&lt;=50K</td>\n",
       "    </tr>\n",
       "    <tr>\n",
       "      <th>14</th>\n",
       "      <td>40</td>\n",
       "      <td>Private</td>\n",
       "      <td>121772</td>\n",
       "      <td>Assoc-voc</td>\n",
       "      <td>11</td>\n",
       "      <td>Married-civ-spouse</td>\n",
       "      <td>Craft-repair</td>\n",
       "      <td>Husband</td>\n",
       "      <td>Asian-Pac-Islander</td>\n",
       "      <td>Male</td>\n",
       "      <td>0</td>\n",
       "      <td>0</td>\n",
       "      <td>40</td>\n",
       "      <td>NaN</td>\n",
       "      <td>&gt;50K</td>\n",
       "    </tr>\n",
       "    <tr>\n",
       "      <th>16</th>\n",
       "      <td>NaN</td>\n",
       "      <td>Self-emp-not-inc</td>\n",
       "      <td>NaN</td>\n",
       "      <td>HS-grad</td>\n",
       "      <td>9</td>\n",
       "      <td>Never-married</td>\n",
       "      <td>Farming-fishing</td>\n",
       "      <td>Own-child</td>\n",
       "      <td>White</td>\n",
       "      <td>Male</td>\n",
       "      <td>0</td>\n",
       "      <td>0</td>\n",
       "      <td>35</td>\n",
       "      <td>United-States</td>\n",
       "      <td>&lt;=50K</td>\n",
       "    </tr>\n",
       "    <tr>\n",
       "      <th>20</th>\n",
       "      <td>NaN</td>\n",
       "      <td>Private</td>\n",
       "      <td>193524</td>\n",
       "      <td>Doctorate</td>\n",
       "      <td>16</td>\n",
       "      <td>Married-civ-spouse</td>\n",
       "      <td>Prof-specialty</td>\n",
       "      <td>Husband</td>\n",
       "      <td>White</td>\n",
       "      <td>Male</td>\n",
       "      <td>0</td>\n",
       "      <td>0</td>\n",
       "      <td>60</td>\n",
       "      <td>United-States</td>\n",
       "      <td>&gt;50K</td>\n",
       "    </tr>\n",
       "    <tr>\n",
       "      <th>27</th>\n",
       "      <td>54</td>\n",
       "      <td>NaN</td>\n",
       "      <td>180211</td>\n",
       "      <td>Some-college</td>\n",
       "      <td>10</td>\n",
       "      <td>Married-civ-spouse</td>\n",
       "      <td>NaN</td>\n",
       "      <td>Husband</td>\n",
       "      <td>Asian-Pac-Islander</td>\n",
       "      <td>Male</td>\n",
       "      <td>0</td>\n",
       "      <td>0</td>\n",
       "      <td>60</td>\n",
       "      <td>South</td>\n",
       "      <td>&gt;50K</td>\n",
       "    </tr>\n",
       "    <tr>\n",
       "      <th>...</th>\n",
       "      <td>...</td>\n",
       "      <td>...</td>\n",
       "      <td>...</td>\n",
       "      <td>...</td>\n",
       "      <td>...</td>\n",
       "      <td>...</td>\n",
       "      <td>...</td>\n",
       "      <td>...</td>\n",
       "      <td>...</td>\n",
       "      <td>...</td>\n",
       "      <td>...</td>\n",
       "      <td>...</td>\n",
       "      <td>...</td>\n",
       "      <td>...</td>\n",
       "      <td>...</td>\n",
       "    </tr>\n",
       "    <tr>\n",
       "      <th>4958</th>\n",
       "      <td>20</td>\n",
       "      <td>NaN</td>\n",
       "      <td>293136</td>\n",
       "      <td>Some-college</td>\n",
       "      <td>10</td>\n",
       "      <td>Never-married</td>\n",
       "      <td>NaN</td>\n",
       "      <td>Own-child</td>\n",
       "      <td>White</td>\n",
       "      <td>Female</td>\n",
       "      <td>0</td>\n",
       "      <td>0</td>\n",
       "      <td>35</td>\n",
       "      <td>United-States</td>\n",
       "      <td>&lt;=50K</td>\n",
       "    </tr>\n",
       "    <tr>\n",
       "      <th>4970</th>\n",
       "      <td>51</td>\n",
       "      <td>NaN</td>\n",
       "      <td>203953</td>\n",
       "      <td>HS-grad</td>\n",
       "      <td>9</td>\n",
       "      <td>Married-civ-spouse</td>\n",
       "      <td>NaN</td>\n",
       "      <td>Husband</td>\n",
       "      <td>White</td>\n",
       "      <td>Male</td>\n",
       "      <td>0</td>\n",
       "      <td>0</td>\n",
       "      <td>40</td>\n",
       "      <td>United-States</td>\n",
       "      <td>&gt;50K</td>\n",
       "    </tr>\n",
       "    <tr>\n",
       "      <th>4980</th>\n",
       "      <td>45</td>\n",
       "      <td>NaN</td>\n",
       "      <td>144354</td>\n",
       "      <td>9th</td>\n",
       "      <td>5</td>\n",
       "      <td>Separated</td>\n",
       "      <td>NaN</td>\n",
       "      <td>Own-child</td>\n",
       "      <td>Black</td>\n",
       "      <td>Male</td>\n",
       "      <td>0</td>\n",
       "      <td>0</td>\n",
       "      <td>40</td>\n",
       "      <td>United-States</td>\n",
       "      <td>&lt;=50K</td>\n",
       "    </tr>\n",
       "    <tr>\n",
       "      <th>4982</th>\n",
       "      <td>22</td>\n",
       "      <td>NaN</td>\n",
       "      <td>99543</td>\n",
       "      <td>Some-college</td>\n",
       "      <td>10</td>\n",
       "      <td>Never-married</td>\n",
       "      <td>NaN</td>\n",
       "      <td>Own-child</td>\n",
       "      <td>NaN</td>\n",
       "      <td>Male</td>\n",
       "      <td>0</td>\n",
       "      <td>0</td>\n",
       "      <td>20</td>\n",
       "      <td>United-States</td>\n",
       "      <td>&lt;=50K</td>\n",
       "    </tr>\n",
       "    <tr>\n",
       "      <th>4998</th>\n",
       "      <td>NaN</td>\n",
       "      <td>Private</td>\n",
       "      <td>245880</td>\n",
       "      <td>HS-grad</td>\n",
       "      <td>9</td>\n",
       "      <td>Never-married</td>\n",
       "      <td>Adm-clerical</td>\n",
       "      <td>Not-in-family</td>\n",
       "      <td>White</td>\n",
       "      <td>Male</td>\n",
       "      <td>0</td>\n",
       "      <td>0</td>\n",
       "      <td>60</td>\n",
       "      <td>United-States</td>\n",
       "      <td>&lt;=50K</td>\n",
       "    </tr>\n",
       "  </tbody>\n",
       "</table>\n",
       "<p>874 rows × 15 columns</p>\n",
       "</div>"
      ],
      "text/plain": [
       "      age         workclass  fnlwgt     education education_num  \\\n",
       "3      53           Private  234721          11th             7   \n",
       "14     40           Private  121772     Assoc-voc            11   \n",
       "16    NaN  Self-emp-not-inc     NaN       HS-grad             9   \n",
       "20    NaN           Private  193524     Doctorate            16   \n",
       "27     54               NaN  180211  Some-college            10   \n",
       "...   ...               ...     ...           ...           ...   \n",
       "4958   20               NaN  293136  Some-college            10   \n",
       "4970   51               NaN  203953       HS-grad             9   \n",
       "4980   45               NaN  144354           9th             5   \n",
       "4982   22               NaN   99543  Some-college            10   \n",
       "4998  NaN           Private  245880       HS-grad             9   \n",
       "\n",
       "          marital_status         occupation   relationship  \\\n",
       "3     Married-civ-spouse  Handlers-cleaners        Husband   \n",
       "14    Married-civ-spouse       Craft-repair        Husband   \n",
       "16         Never-married    Farming-fishing      Own-child   \n",
       "20    Married-civ-spouse     Prof-specialty        Husband   \n",
       "27    Married-civ-spouse                NaN        Husband   \n",
       "...                  ...                ...            ...   \n",
       "4958       Never-married                NaN      Own-child   \n",
       "4970  Married-civ-spouse                NaN        Husband   \n",
       "4980           Separated                NaN      Own-child   \n",
       "4982       Never-married                NaN      Own-child   \n",
       "4998       Never-married       Adm-clerical  Not-in-family   \n",
       "\n",
       "                    race     sex  capital_gain  capital_loss  hours_per_week  \\\n",
       "3                  Black     NaN             0             0              40   \n",
       "14    Asian-Pac-Islander    Male             0             0              40   \n",
       "16                 White    Male             0             0              35   \n",
       "20                 White    Male             0             0              60   \n",
       "27    Asian-Pac-Islander    Male             0             0              60   \n",
       "...                  ...     ...           ...           ...             ...   \n",
       "4958               White  Female             0             0              35   \n",
       "4970               White    Male             0             0              40   \n",
       "4980               Black    Male             0             0              40   \n",
       "4982                 NaN    Male             0             0              20   \n",
       "4998               White    Male             0             0              60   \n",
       "\n",
       "     native_country income  \n",
       "3     United-States  <=50K  \n",
       "14              NaN   >50K  \n",
       "16    United-States  <=50K  \n",
       "20    United-States   >50K  \n",
       "27            South   >50K  \n",
       "...             ...    ...  \n",
       "4958  United-States  <=50K  \n",
       "4970  United-States   >50K  \n",
       "4980  United-States  <=50K  \n",
       "4982  United-States  <=50K  \n",
       "4998  United-States  <=50K  \n",
       "\n",
       "[874 rows x 15 columns]"
      ]
     },
     "execution_count": 206,
     "metadata": {},
     "output_type": "execute_result"
    }
   ],
   "source": [
    "census[census.isna().any(axis=1)]"
   ]
  },
  {
   "cell_type": "markdown",
   "metadata": {},
   "source": [
    "Filling mean age"
   ]
  },
  {
   "cell_type": "code",
   "execution_count": 274,
   "metadata": {},
   "outputs": [],
   "source": [
    "census['age']=census['age'].astype('float')"
   ]
  },
  {
   "cell_type": "code",
   "execution_count": 275,
   "metadata": {},
   "outputs": [],
   "source": [
    "census['age']=census['age'].fillna(census['age'].mean())\n"
   ]
  },
  {
   "cell_type": "code",
   "execution_count": 276,
   "metadata": {},
   "outputs": [],
   "source": [
    "census['fnlwgt']=census[['fnlwgt']].astype(np.float)\n",
    "census['education_num']=census[['education_num']].astype(np.float)"
   ]
  },
  {
   "cell_type": "code",
   "execution_count": 81,
   "metadata": {},
   "outputs": [],
   "source": [
    "'''\n",
    "DOES NOT WORK\n",
    "census['sex']= census['relationship'].apply(lambda x: x.fillna(fillage))\n",
    "def fillage(x):\n",
    "    if x=='Husband':\n",
    "        return 'Male'\n",
    "    if x=='Wife':\n",
    "        return 'Female''''"
   ]
  },
  {
   "cell_type": "markdown",
   "metadata": {},
   "source": [
    "Filling Sex based on relationship"
   ]
  },
  {
   "cell_type": "code",
   "execution_count": 125,
   "metadata": {},
   "outputs": [],
   "source": [
    "'''census['sex']=np.where(census['relationship']=='Husband','Male',census['sex'])\n",
    "census['sex']=np.where(census['relationship']=='Wife','Female',census['sex'])'''"
   ]
  },
  {
   "cell_type": "code",
   "execution_count": 279,
   "metadata": {},
   "outputs": [],
   "source": [
    "census['sex']=np.where(census.relationship=='Husband','Male', census.sex)\n",
    "census['sex']=np.where(census.relationship=='Wife','Female', census.sex)"
   ]
  },
  {
   "cell_type": "markdown",
   "metadata": {},
   "source": [
    "Filling mean of fnlwgt            "
   ]
  },
  {
   "cell_type": "code",
   "execution_count": 280,
   "metadata": {},
   "outputs": [],
   "source": [
    "census['fnlwgt']=census['fnlwgt'].fillna(census['fnlwgt'].mean())"
   ]
  },
  {
   "cell_type": "markdown",
   "metadata": {},
   "source": [
    "Both workclass & Occupation are NAN for same columns so let us add 'Other category'"
   ]
  },
  {
   "cell_type": "code",
   "execution_count": 281,
   "metadata": {},
   "outputs": [],
   "source": [
    "census['occupation']=census['occupation'].fillna('others')"
   ]
  },
  {
   "cell_type": "code",
   "execution_count": 282,
   "metadata": {},
   "outputs": [],
   "source": [
    "census['workclass']=census['workclass'].fillna('others')"
   ]
  },
  {
   "cell_type": "markdown",
   "metadata": {},
   "source": [
    "Filling Native Country, Race,Education, Eduction_num with the highest occurence"
   ]
  },
  {
   "cell_type": "code",
   "execution_count": 283,
   "metadata": {},
   "outputs": [
    {
     "data": {
      "text/plain": [
       "'United-States'"
      ]
     },
     "execution_count": 283,
     "metadata": {},
     "output_type": "execute_result"
    }
   ],
   "source": [
    "census['native_country'].mode()[0]"
   ]
  },
  {
   "cell_type": "code",
   "execution_count": 284,
   "metadata": {},
   "outputs": [],
   "source": [
    "census['native_country']=census['native_country'].fillna(census['native_country'].mode()[0])"
   ]
  },
  {
   "cell_type": "code",
   "execution_count": 285,
   "metadata": {},
   "outputs": [],
   "source": [
    "census['race']=census['race'].fillna(census['race'].mode()[0])"
   ]
  },
  {
   "cell_type": "code",
   "execution_count": 286,
   "metadata": {},
   "outputs": [],
   "source": [
    "census['education']=census['education'].fillna(census['education'].mode()[0])"
   ]
  },
  {
   "cell_type": "code",
   "execution_count": 287,
   "metadata": {},
   "outputs": [],
   "source": [
    "census['education_num']=census['education_num'].fillna(census['education_num'].mode()[0])"
   ]
  },
  {
   "cell_type": "code",
   "execution_count": 288,
   "metadata": {},
   "outputs": [
    {
     "data": {
      "text/plain": [
       "age                0\n",
       "workclass          0\n",
       "fnlwgt             0\n",
       "education          0\n",
       "education_num      0\n",
       "marital_status     0\n",
       "occupation         0\n",
       "relationship       0\n",
       "race               0\n",
       "sex               23\n",
       "capital_gain       0\n",
       "capital_loss       0\n",
       "hours_per_week     0\n",
       "native_country     0\n",
       "income             0\n",
       "dtype: int64"
      ]
     },
     "execution_count": 288,
     "metadata": {},
     "output_type": "execute_result"
    }
   ],
   "source": [
    "census.isna().sum()"
   ]
  },
  {
   "cell_type": "code",
   "execution_count": 289,
   "metadata": {},
   "outputs": [],
   "source": [
    "census['sex'].fillna(census['sex'].mode()[0],inplace=True)"
   ]
  },
  {
   "cell_type": "code",
   "execution_count": 290,
   "metadata": {},
   "outputs": [
    {
     "data": {
      "text/plain": [
       "age               0\n",
       "workclass         0\n",
       "fnlwgt            0\n",
       "education         0\n",
       "education_num     0\n",
       "marital_status    0\n",
       "occupation        0\n",
       "relationship      0\n",
       "race              0\n",
       "sex               0\n",
       "capital_gain      0\n",
       "capital_loss      0\n",
       "hours_per_week    0\n",
       "native_country    0\n",
       "income            0\n",
       "dtype: int64"
      ]
     },
     "execution_count": 290,
     "metadata": {},
     "output_type": "execute_result"
    }
   ],
   "source": [
    "census.isna().sum()"
   ]
  },
  {
   "cell_type": "code",
   "execution_count": 291,
   "metadata": {
    "scrolled": true
   },
   "outputs": [
    {
     "name": "stdout",
     "output_type": "stream",
     "text": [
      "<class 'pandas.core.frame.DataFrame'>\n",
      "RangeIndex: 5000 entries, 0 to 4999\n",
      "Data columns (total 15 columns):\n",
      " #   Column          Non-Null Count  Dtype  \n",
      "---  ------          --------------  -----  \n",
      " 0   age             5000 non-null   float64\n",
      " 1   workclass       5000 non-null   object \n",
      " 2   fnlwgt          5000 non-null   float64\n",
      " 3   education       5000 non-null   object \n",
      " 4   education_num   5000 non-null   float64\n",
      " 5   marital_status  5000 non-null   object \n",
      " 6   occupation      5000 non-null   object \n",
      " 7   relationship    5000 non-null   object \n",
      " 8   race            5000 non-null   object \n",
      " 9   sex             5000 non-null   object \n",
      " 10  capital_gain    5000 non-null   int64  \n",
      " 11  capital_loss    5000 non-null   int64  \n",
      " 12  hours_per_week  5000 non-null   int64  \n",
      " 13  native_country  5000 non-null   object \n",
      " 14  income          5000 non-null   object \n",
      "dtypes: float64(3), int64(3), object(9)\n",
      "memory usage: 586.1+ KB\n"
     ]
    }
   ],
   "source": [
    "census.info()"
   ]
  },
  {
   "cell_type": "markdown",
   "metadata": {},
   "source": [
    "# 2. Encoding the data"
   ]
  },
  {
   "cell_type": "code",
   "execution_count": 293,
   "metadata": {},
   "outputs": [],
   "source": [
    "from sklearn.preprocessing import LabelEncoder"
   ]
  },
  {
   "cell_type": "code",
   "execution_count": 294,
   "metadata": {},
   "outputs": [],
   "source": [
    "labelencoder=LabelEncoder()"
   ]
  },
  {
   "cell_type": "code",
   "execution_count": 295,
   "metadata": {},
   "outputs": [],
   "source": [
    "census['workclass']=labelencoder.fit_transform(census['workclass'])"
   ]
  },
  {
   "cell_type": "code",
   "execution_count": 296,
   "metadata": {},
   "outputs": [],
   "source": [
    "census['education']=labelencoder.fit_transform(census['education'])\n",
    "census['marital_status']=labelencoder.fit_transform(census['marital_status'])\n",
    "census['occupation']=labelencoder.fit_transform(census['occupation'])\n",
    "census['relationship']=labelencoder.fit_transform(census['relationship'])\n",
    "census['race']=labelencoder.fit_transform(census['race'])\n",
    "census['sex']=labelencoder.fit_transform(census['sex'])\n",
    "census['native_country']=labelencoder.fit_transform(census['native_country'])\n"
   ]
  },
  {
   "cell_type": "code",
   "execution_count": 297,
   "metadata": {},
   "outputs": [
    {
     "data": {
      "text/html": [
       "<div>\n",
       "<style scoped>\n",
       "    .dataframe tbody tr th:only-of-type {\n",
       "        vertical-align: middle;\n",
       "    }\n",
       "\n",
       "    .dataframe tbody tr th {\n",
       "        vertical-align: top;\n",
       "    }\n",
       "\n",
       "    .dataframe thead th {\n",
       "        text-align: right;\n",
       "    }\n",
       "</style>\n",
       "<table border=\"1\" class=\"dataframe\">\n",
       "  <thead>\n",
       "    <tr style=\"text-align: right;\">\n",
       "      <th></th>\n",
       "      <th>age</th>\n",
       "      <th>workclass</th>\n",
       "      <th>fnlwgt</th>\n",
       "      <th>education</th>\n",
       "      <th>education_num</th>\n",
       "      <th>marital_status</th>\n",
       "      <th>occupation</th>\n",
       "      <th>relationship</th>\n",
       "      <th>race</th>\n",
       "      <th>sex</th>\n",
       "      <th>capital_gain</th>\n",
       "      <th>capital_loss</th>\n",
       "      <th>hours_per_week</th>\n",
       "      <th>native_country</th>\n",
       "      <th>income</th>\n",
       "    </tr>\n",
       "  </thead>\n",
       "  <tbody>\n",
       "    <tr>\n",
       "      <th>0</th>\n",
       "      <td>39.0</td>\n",
       "      <td>5</td>\n",
       "      <td>77516.0</td>\n",
       "      <td>9</td>\n",
       "      <td>13.0</td>\n",
       "      <td>4</td>\n",
       "      <td>0</td>\n",
       "      <td>1</td>\n",
       "      <td>4</td>\n",
       "      <td>1</td>\n",
       "      <td>2174</td>\n",
       "      <td>0</td>\n",
       "      <td>40</td>\n",
       "      <td>36</td>\n",
       "      <td>&lt;=50K</td>\n",
       "    </tr>\n",
       "    <tr>\n",
       "      <th>1</th>\n",
       "      <td>50.0</td>\n",
       "      <td>4</td>\n",
       "      <td>83311.0</td>\n",
       "      <td>9</td>\n",
       "      <td>13.0</td>\n",
       "      <td>2</td>\n",
       "      <td>3</td>\n",
       "      <td>0</td>\n",
       "      <td>4</td>\n",
       "      <td>1</td>\n",
       "      <td>0</td>\n",
       "      <td>0</td>\n",
       "      <td>13</td>\n",
       "      <td>36</td>\n",
       "      <td>&lt;=50K</td>\n",
       "    </tr>\n",
       "    <tr>\n",
       "      <th>2</th>\n",
       "      <td>38.0</td>\n",
       "      <td>2</td>\n",
       "      <td>215646.0</td>\n",
       "      <td>11</td>\n",
       "      <td>9.0</td>\n",
       "      <td>0</td>\n",
       "      <td>5</td>\n",
       "      <td>1</td>\n",
       "      <td>4</td>\n",
       "      <td>1</td>\n",
       "      <td>0</td>\n",
       "      <td>0</td>\n",
       "      <td>40</td>\n",
       "      <td>36</td>\n",
       "      <td>&lt;=50K</td>\n",
       "    </tr>\n",
       "    <tr>\n",
       "      <th>3</th>\n",
       "      <td>53.0</td>\n",
       "      <td>2</td>\n",
       "      <td>234721.0</td>\n",
       "      <td>1</td>\n",
       "      <td>7.0</td>\n",
       "      <td>2</td>\n",
       "      <td>5</td>\n",
       "      <td>0</td>\n",
       "      <td>2</td>\n",
       "      <td>1</td>\n",
       "      <td>0</td>\n",
       "      <td>0</td>\n",
       "      <td>40</td>\n",
       "      <td>36</td>\n",
       "      <td>&lt;=50K</td>\n",
       "    </tr>\n",
       "    <tr>\n",
       "      <th>4</th>\n",
       "      <td>28.0</td>\n",
       "      <td>2</td>\n",
       "      <td>338409.0</td>\n",
       "      <td>9</td>\n",
       "      <td>13.0</td>\n",
       "      <td>2</td>\n",
       "      <td>9</td>\n",
       "      <td>5</td>\n",
       "      <td>2</td>\n",
       "      <td>0</td>\n",
       "      <td>0</td>\n",
       "      <td>0</td>\n",
       "      <td>40</td>\n",
       "      <td>4</td>\n",
       "      <td>&lt;=50K</td>\n",
       "    </tr>\n",
       "  </tbody>\n",
       "</table>\n",
       "</div>"
      ],
      "text/plain": [
       "    age  workclass    fnlwgt  education  education_num  marital_status  \\\n",
       "0  39.0          5   77516.0          9           13.0               4   \n",
       "1  50.0          4   83311.0          9           13.0               2   \n",
       "2  38.0          2  215646.0         11            9.0               0   \n",
       "3  53.0          2  234721.0          1            7.0               2   \n",
       "4  28.0          2  338409.0          9           13.0               2   \n",
       "\n",
       "   occupation  relationship  race  sex  capital_gain  capital_loss  \\\n",
       "0           0             1     4    1          2174             0   \n",
       "1           3             0     4    1             0             0   \n",
       "2           5             1     4    1             0             0   \n",
       "3           5             0     2    1             0             0   \n",
       "4           9             5     2    0             0             0   \n",
       "\n",
       "   hours_per_week  native_country income  \n",
       "0              40              36  <=50K  \n",
       "1              13              36  <=50K  \n",
       "2              40              36  <=50K  \n",
       "3              40              36  <=50K  \n",
       "4              40               4  <=50K  "
      ]
     },
     "execution_count": 297,
     "metadata": {},
     "output_type": "execute_result"
    }
   ],
   "source": [
    "census.head()"
   ]
  },
  {
   "cell_type": "code",
   "execution_count": 298,
   "metadata": {},
   "outputs": [
    {
     "data": {
      "text/plain": [
       "array(['<=50K', '>50K'], dtype=object)"
      ]
     },
     "execution_count": 298,
     "metadata": {},
     "output_type": "execute_result"
    }
   ],
   "source": [
    "census['income'].unique()"
   ]
  },
  {
   "cell_type": "code",
   "execution_count": 299,
   "metadata": {
    "scrolled": true
   },
   "outputs": [
    {
     "data": {
      "text/html": [
       "<div>\n",
       "<style scoped>\n",
       "    .dataframe tbody tr th:only-of-type {\n",
       "        vertical-align: middle;\n",
       "    }\n",
       "\n",
       "    .dataframe tbody tr th {\n",
       "        vertical-align: top;\n",
       "    }\n",
       "\n",
       "    .dataframe thead th {\n",
       "        text-align: right;\n",
       "    }\n",
       "</style>\n",
       "<table border=\"1\" class=\"dataframe\">\n",
       "  <thead>\n",
       "    <tr style=\"text-align: right;\">\n",
       "      <th></th>\n",
       "      <th>age</th>\n",
       "      <th>workclass</th>\n",
       "      <th>fnlwgt</th>\n",
       "      <th>education</th>\n",
       "      <th>education_num</th>\n",
       "      <th>marital_status</th>\n",
       "      <th>occupation</th>\n",
       "      <th>relationship</th>\n",
       "      <th>race</th>\n",
       "      <th>sex</th>\n",
       "      <th>capital_gain</th>\n",
       "      <th>capital_loss</th>\n",
       "      <th>hours_per_week</th>\n",
       "      <th>native_country</th>\n",
       "    </tr>\n",
       "  </thead>\n",
       "  <tbody>\n",
       "    <tr>\n",
       "      <th>age</th>\n",
       "      <td>1.000000</td>\n",
       "      <td>0.052137</td>\n",
       "      <td>-0.080141</td>\n",
       "      <td>-0.034191</td>\n",
       "      <td>0.017608</td>\n",
       "      <td>-0.246211</td>\n",
       "      <td>-0.007341</td>\n",
       "      <td>-0.255283</td>\n",
       "      <td>0.028032</td>\n",
       "      <td>0.074466</td>\n",
       "      <td>0.064207</td>\n",
       "      <td>0.056739</td>\n",
       "      <td>0.040624</td>\n",
       "      <td>0.021031</td>\n",
       "    </tr>\n",
       "    <tr>\n",
       "      <th>workclass</th>\n",
       "      <td>0.052137</td>\n",
       "      <td>1.000000</td>\n",
       "      <td>-0.020230</td>\n",
       "      <td>-0.013727</td>\n",
       "      <td>-0.033709</td>\n",
       "      <td>0.053411</td>\n",
       "      <td>0.366635</td>\n",
       "      <td>0.025925</td>\n",
       "      <td>0.022484</td>\n",
       "      <td>-0.001532</td>\n",
       "      <td>0.005610</td>\n",
       "      <td>-0.033717</td>\n",
       "      <td>-0.140873</td>\n",
       "      <td>0.005447</td>\n",
       "    </tr>\n",
       "    <tr>\n",
       "      <th>fnlwgt</th>\n",
       "      <td>-0.080141</td>\n",
       "      <td>-0.020230</td>\n",
       "      <td>1.000000</td>\n",
       "      <td>-0.047598</td>\n",
       "      <td>-0.058960</td>\n",
       "      <td>0.042442</td>\n",
       "      <td>0.011975</td>\n",
       "      <td>0.015335</td>\n",
       "      <td>-0.013165</td>\n",
       "      <td>0.035024</td>\n",
       "      <td>-0.000381</td>\n",
       "      <td>-0.004216</td>\n",
       "      <td>-0.006443</td>\n",
       "      <td>-0.085710</td>\n",
       "    </tr>\n",
       "    <tr>\n",
       "      <th>education</th>\n",
       "      <td>-0.034191</td>\n",
       "      <td>-0.013727</td>\n",
       "      <td>-0.047598</td>\n",
       "      <td>1.000000</td>\n",
       "      <td>0.356414</td>\n",
       "      <td>-0.019434</td>\n",
       "      <td>-0.038238</td>\n",
       "      <td>-0.000262</td>\n",
       "      <td>0.026731</td>\n",
       "      <td>-0.030878</td>\n",
       "      <td>0.034537</td>\n",
       "      <td>0.022254</td>\n",
       "      <td>0.045411</td>\n",
       "      <td>0.076308</td>\n",
       "    </tr>\n",
       "    <tr>\n",
       "      <th>education_num</th>\n",
       "      <td>0.017608</td>\n",
       "      <td>-0.033709</td>\n",
       "      <td>-0.058960</td>\n",
       "      <td>0.356414</td>\n",
       "      <td>1.000000</td>\n",
       "      <td>-0.053710</td>\n",
       "      <td>0.044132</td>\n",
       "      <td>-0.093167</td>\n",
       "      <td>0.038714</td>\n",
       "      <td>0.019361</td>\n",
       "      <td>0.113737</td>\n",
       "      <td>0.095279</td>\n",
       "      <td>0.164671</td>\n",
       "      <td>0.054577</td>\n",
       "    </tr>\n",
       "    <tr>\n",
       "      <th>marital_status</th>\n",
       "      <td>-0.246211</td>\n",
       "      <td>0.053411</td>\n",
       "      <td>0.042442</td>\n",
       "      <td>-0.019434</td>\n",
       "      <td>-0.053710</td>\n",
       "      <td>1.000000</td>\n",
       "      <td>0.062735</td>\n",
       "      <td>0.174785</td>\n",
       "      <td>-0.070932</td>\n",
       "      <td>-0.103361</td>\n",
       "      <td>-0.049624</td>\n",
       "      <td>-0.036571</td>\n",
       "      <td>-0.205064</td>\n",
       "      <td>-0.005794</td>\n",
       "    </tr>\n",
       "    <tr>\n",
       "      <th>occupation</th>\n",
       "      <td>-0.007341</td>\n",
       "      <td>0.366635</td>\n",
       "      <td>0.011975</td>\n",
       "      <td>-0.038238</td>\n",
       "      <td>0.044132</td>\n",
       "      <td>0.062735</td>\n",
       "      <td>1.000000</td>\n",
       "      <td>-0.012617</td>\n",
       "      <td>-0.008043</td>\n",
       "      <td>0.031496</td>\n",
       "      <td>0.015979</td>\n",
       "      <td>-0.012039</td>\n",
       "      <td>-0.071576</td>\n",
       "      <td>-0.010076</td>\n",
       "    </tr>\n",
       "    <tr>\n",
       "      <th>relationship</th>\n",
       "      <td>-0.255283</td>\n",
       "      <td>0.025925</td>\n",
       "      <td>0.015335</td>\n",
       "      <td>-0.000262</td>\n",
       "      <td>-0.093167</td>\n",
       "      <td>0.174785</td>\n",
       "      <td>-0.012617</td>\n",
       "      <td>1.000000</td>\n",
       "      <td>-0.116300</td>\n",
       "      <td>-0.566560</td>\n",
       "      <td>-0.058528</td>\n",
       "      <td>-0.057623</td>\n",
       "      <td>-0.257155</td>\n",
       "      <td>-0.014331</td>\n",
       "    </tr>\n",
       "    <tr>\n",
       "      <th>race</th>\n",
       "      <td>0.028032</td>\n",
       "      <td>0.022484</td>\n",
       "      <td>-0.013165</td>\n",
       "      <td>0.026731</td>\n",
       "      <td>0.038714</td>\n",
       "      <td>-0.070932</td>\n",
       "      <td>-0.008043</td>\n",
       "      <td>-0.116300</td>\n",
       "      <td>1.000000</td>\n",
       "      <td>0.083319</td>\n",
       "      <td>0.012900</td>\n",
       "      <td>0.025700</td>\n",
       "      <td>0.045562</td>\n",
       "      <td>0.108384</td>\n",
       "    </tr>\n",
       "    <tr>\n",
       "      <th>sex</th>\n",
       "      <td>0.074466</td>\n",
       "      <td>-0.001532</td>\n",
       "      <td>0.035024</td>\n",
       "      <td>-0.030878</td>\n",
       "      <td>0.019361</td>\n",
       "      <td>-0.103361</td>\n",
       "      <td>0.031496</td>\n",
       "      <td>-0.566560</td>\n",
       "      <td>0.083319</td>\n",
       "      <td>1.000000</td>\n",
       "      <td>0.043722</td>\n",
       "      <td>0.062198</td>\n",
       "      <td>0.229354</td>\n",
       "      <td>0.002528</td>\n",
       "    </tr>\n",
       "    <tr>\n",
       "      <th>capital_gain</th>\n",
       "      <td>0.064207</td>\n",
       "      <td>0.005610</td>\n",
       "      <td>-0.000381</td>\n",
       "      <td>0.034537</td>\n",
       "      <td>0.113737</td>\n",
       "      <td>-0.049624</td>\n",
       "      <td>0.015979</td>\n",
       "      <td>-0.058528</td>\n",
       "      <td>0.012900</td>\n",
       "      <td>0.043722</td>\n",
       "      <td>1.000000</td>\n",
       "      <td>-0.033439</td>\n",
       "      <td>0.071881</td>\n",
       "      <td>-0.002985</td>\n",
       "    </tr>\n",
       "    <tr>\n",
       "      <th>capital_loss</th>\n",
       "      <td>0.056739</td>\n",
       "      <td>-0.033717</td>\n",
       "      <td>-0.004216</td>\n",
       "      <td>0.022254</td>\n",
       "      <td>0.095279</td>\n",
       "      <td>-0.036571</td>\n",
       "      <td>-0.012039</td>\n",
       "      <td>-0.057623</td>\n",
       "      <td>0.025700</td>\n",
       "      <td>0.062198</td>\n",
       "      <td>-0.033439</td>\n",
       "      <td>1.000000</td>\n",
       "      <td>0.079426</td>\n",
       "      <td>0.006921</td>\n",
       "    </tr>\n",
       "    <tr>\n",
       "      <th>hours_per_week</th>\n",
       "      <td>0.040624</td>\n",
       "      <td>-0.140873</td>\n",
       "      <td>-0.006443</td>\n",
       "      <td>0.045411</td>\n",
       "      <td>0.164671</td>\n",
       "      <td>-0.205064</td>\n",
       "      <td>-0.071576</td>\n",
       "      <td>-0.257155</td>\n",
       "      <td>0.045562</td>\n",
       "      <td>0.229354</td>\n",
       "      <td>0.071881</td>\n",
       "      <td>0.079426</td>\n",
       "      <td>1.000000</td>\n",
       "      <td>-0.002501</td>\n",
       "    </tr>\n",
       "    <tr>\n",
       "      <th>native_country</th>\n",
       "      <td>0.021031</td>\n",
       "      <td>0.005447</td>\n",
       "      <td>-0.085710</td>\n",
       "      <td>0.076308</td>\n",
       "      <td>0.054577</td>\n",
       "      <td>-0.005794</td>\n",
       "      <td>-0.010076</td>\n",
       "      <td>-0.014331</td>\n",
       "      <td>0.108384</td>\n",
       "      <td>0.002528</td>\n",
       "      <td>-0.002985</td>\n",
       "      <td>0.006921</td>\n",
       "      <td>-0.002501</td>\n",
       "      <td>1.000000</td>\n",
       "    </tr>\n",
       "  </tbody>\n",
       "</table>\n",
       "</div>"
      ],
      "text/plain": [
       "                     age  workclass    fnlwgt  education  education_num  \\\n",
       "age             1.000000   0.052137 -0.080141  -0.034191       0.017608   \n",
       "workclass       0.052137   1.000000 -0.020230  -0.013727      -0.033709   \n",
       "fnlwgt         -0.080141  -0.020230  1.000000  -0.047598      -0.058960   \n",
       "education      -0.034191  -0.013727 -0.047598   1.000000       0.356414   \n",
       "education_num   0.017608  -0.033709 -0.058960   0.356414       1.000000   \n",
       "marital_status -0.246211   0.053411  0.042442  -0.019434      -0.053710   \n",
       "occupation     -0.007341   0.366635  0.011975  -0.038238       0.044132   \n",
       "relationship   -0.255283   0.025925  0.015335  -0.000262      -0.093167   \n",
       "race            0.028032   0.022484 -0.013165   0.026731       0.038714   \n",
       "sex             0.074466  -0.001532  0.035024  -0.030878       0.019361   \n",
       "capital_gain    0.064207   0.005610 -0.000381   0.034537       0.113737   \n",
       "capital_loss    0.056739  -0.033717 -0.004216   0.022254       0.095279   \n",
       "hours_per_week  0.040624  -0.140873 -0.006443   0.045411       0.164671   \n",
       "native_country  0.021031   0.005447 -0.085710   0.076308       0.054577   \n",
       "\n",
       "                marital_status  occupation  relationship      race       sex  \\\n",
       "age                  -0.246211   -0.007341     -0.255283  0.028032  0.074466   \n",
       "workclass             0.053411    0.366635      0.025925  0.022484 -0.001532   \n",
       "fnlwgt                0.042442    0.011975      0.015335 -0.013165  0.035024   \n",
       "education            -0.019434   -0.038238     -0.000262  0.026731 -0.030878   \n",
       "education_num        -0.053710    0.044132     -0.093167  0.038714  0.019361   \n",
       "marital_status        1.000000    0.062735      0.174785 -0.070932 -0.103361   \n",
       "occupation            0.062735    1.000000     -0.012617 -0.008043  0.031496   \n",
       "relationship          0.174785   -0.012617      1.000000 -0.116300 -0.566560   \n",
       "race                 -0.070932   -0.008043     -0.116300  1.000000  0.083319   \n",
       "sex                  -0.103361    0.031496     -0.566560  0.083319  1.000000   \n",
       "capital_gain         -0.049624    0.015979     -0.058528  0.012900  0.043722   \n",
       "capital_loss         -0.036571   -0.012039     -0.057623  0.025700  0.062198   \n",
       "hours_per_week       -0.205064   -0.071576     -0.257155  0.045562  0.229354   \n",
       "native_country       -0.005794   -0.010076     -0.014331  0.108384  0.002528   \n",
       "\n",
       "                capital_gain  capital_loss  hours_per_week  native_country  \n",
       "age                 0.064207      0.056739        0.040624        0.021031  \n",
       "workclass           0.005610     -0.033717       -0.140873        0.005447  \n",
       "fnlwgt             -0.000381     -0.004216       -0.006443       -0.085710  \n",
       "education           0.034537      0.022254        0.045411        0.076308  \n",
       "education_num       0.113737      0.095279        0.164671        0.054577  \n",
       "marital_status     -0.049624     -0.036571       -0.205064       -0.005794  \n",
       "occupation          0.015979     -0.012039       -0.071576       -0.010076  \n",
       "relationship       -0.058528     -0.057623       -0.257155       -0.014331  \n",
       "race                0.012900      0.025700        0.045562        0.108384  \n",
       "sex                 0.043722      0.062198        0.229354        0.002528  \n",
       "capital_gain        1.000000     -0.033439        0.071881       -0.002985  \n",
       "capital_loss       -0.033439      1.000000        0.079426        0.006921  \n",
       "hours_per_week      0.071881      0.079426        1.000000       -0.002501  \n",
       "native_country     -0.002985      0.006921       -0.002501        1.000000  "
      ]
     },
     "execution_count": 299,
     "metadata": {},
     "output_type": "execute_result"
    }
   ],
   "source": [
    "census.corr()"
   ]
  },
  {
   "cell_type": "code",
   "execution_count": 309,
   "metadata": {},
   "outputs": [],
   "source": [
    "census_encode=census"
   ]
  },
  {
   "cell_type": "code",
   "execution_count": 337,
   "metadata": {},
   "outputs": [],
   "source": [
    "census_one_hot=pd.get_dummies(census[['workclass','education','marital_status','occupation','relationship','race','sex','native_country']])"
   ]
  },
  {
   "cell_type": "code",
   "execution_count": 338,
   "metadata": {},
   "outputs": [],
   "source": [
    "census_one_hot_final=pd.concat([census_one_hot,census[['age','fnlwgt','education_num','capital_gain','capital_loss',\n",
    "                                                      'hours_per_week','income']]],axis=1)"
   ]
  },
  {
   "cell_type": "markdown",
   "metadata": {},
   "source": [
    "# 3.Standardizing the Data"
   ]
  },
  {
   "cell_type": "code",
   "execution_count": 340,
   "metadata": {},
   "outputs": [],
   "source": [
    "from sklearn.preprocessing import StandardScaler"
   ]
  },
  {
   "cell_type": "code",
   "execution_count": 341,
   "metadata": {},
   "outputs": [],
   "source": [
    "scale=StandardScaler()"
   ]
  },
  {
   "cell_type": "code",
   "execution_count": 317,
   "metadata": {},
   "outputs": [],
   "source": [
    "census_encode_scale=scale.fit_transform(census_encode.drop(\"income\",axis=1))"
   ]
  },
  {
   "cell_type": "markdown",
   "metadata": {},
   "source": [
    "One hot"
   ]
  },
  {
   "cell_type": "code",
   "execution_count": 344,
   "metadata": {},
   "outputs": [],
   "source": [
    "onehotscaled=scale.fit_transform(census_one_hot_final.drop('income',axis=1))"
   ]
  },
  {
   "cell_type": "markdown",
   "metadata": {},
   "source": [
    "# 4. Model Building"
   ]
  },
  {
   "cell_type": "markdown",
   "metadata": {},
   "source": [
    "## a) Train Test Split"
   ]
  },
  {
   "cell_type": "code",
   "execution_count": 318,
   "metadata": {},
   "outputs": [],
   "source": [
    "X=census_encode_scale"
   ]
  },
  {
   "cell_type": "code",
   "execution_count": 319,
   "metadata": {},
   "outputs": [
    {
     "data": {
      "text/plain": [
       "array([[ 0.03059961,  1.65146906, -1.07628445, ..., -0.22810576,\n",
       "        -0.04286428,  0.2679564 ],\n",
       "       [ 0.84447761,  0.98742842, -1.02131253, ..., -0.22810576,\n",
       "        -2.27279814,  0.2679564 ],\n",
       "       [-0.0433893 , -0.34065285,  0.2340299 , ..., -0.22810576,\n",
       "        -0.04286428,  0.2679564 ],\n",
       "       ...,\n",
       "       [ 0.62251088,  0.32338779,  0.20058193, ..., -0.22810576,\n",
       "        -0.04286428,  0.2679564 ],\n",
       "       [ 0.        , -0.34065285,  0.52083251, ..., -0.22810576,\n",
       "         1.60893857,  0.2679564 ],\n",
       "       [ 1.43638888, -1.00469348, -1.29037614, ..., -0.22810576,\n",
       "         1.19598786,  0.2679564 ]])"
      ]
     },
     "execution_count": 319,
     "metadata": {},
     "output_type": "execute_result"
    }
   ],
   "source": [
    "X"
   ]
  },
  {
   "cell_type": "code",
   "execution_count": 321,
   "metadata": {},
   "outputs": [],
   "source": [
    "from sklearn.model_selection import train_test_split"
   ]
  },
  {
   "cell_type": "code",
   "execution_count": 322,
   "metadata": {},
   "outputs": [],
   "source": [
    "X_train_LR, X_test_LR, y_train_LR, y_test_LR = train_test_split(X, census_encode['income'], test_size=0.2, random_state=101)"
   ]
  },
  {
   "cell_type": "markdown",
   "metadata": {},
   "source": [
    "## b) Logistic Regression "
   ]
  },
  {
   "cell_type": "code",
   "execution_count": 323,
   "metadata": {},
   "outputs": [],
   "source": [
    "from sklearn.linear_model import LogisticRegression"
   ]
  },
  {
   "cell_type": "code",
   "execution_count": 324,
   "metadata": {},
   "outputs": [],
   "source": [
    "logistic= LogisticRegression()"
   ]
  },
  {
   "cell_type": "code",
   "execution_count": 325,
   "metadata": {},
   "outputs": [
    {
     "data": {
      "text/plain": [
       "LogisticRegression(C=1.0, class_weight=None, dual=False, fit_intercept=True,\n",
       "                   intercept_scaling=1, l1_ratio=None, max_iter=100,\n",
       "                   multi_class='auto', n_jobs=None, penalty='l2',\n",
       "                   random_state=None, solver='lbfgs', tol=0.0001, verbose=0,\n",
       "                   warm_start=False)"
      ]
     },
     "execution_count": 325,
     "metadata": {},
     "output_type": "execute_result"
    }
   ],
   "source": [
    "logistic.fit(X_train_LR,y_train_LR)"
   ]
  },
  {
   "cell_type": "code",
   "execution_count": 326,
   "metadata": {},
   "outputs": [
    {
     "data": {
      "text/plain": [
       "array([[ 0.56759524, -0.1660569 ,  0.00621786, -0.00950065,  0.79618005,\n",
       "        -0.35393918, -0.01333529, -0.08316113,  0.06284303,  0.37247483,\n",
       "         1.88318717,  0.25814943,  0.44374354,  0.04563544]])"
      ]
     },
     "execution_count": 326,
     "metadata": {},
     "output_type": "execute_result"
    }
   ],
   "source": [
    "logistic.coef_"
   ]
  },
  {
   "cell_type": "code",
   "execution_count": 327,
   "metadata": {},
   "outputs": [
    {
     "data": {
      "text/plain": [
       "array([-1.509809])"
      ]
     },
     "execution_count": 327,
     "metadata": {},
     "output_type": "execute_result"
    }
   ],
   "source": [
    "logistic.intercept_"
   ]
  },
  {
   "cell_type": "code",
   "execution_count": 328,
   "metadata": {},
   "outputs": [],
   "source": [
    "predict_LR=logistic.predict(X_test_LR)"
   ]
  },
  {
   "cell_type": "code",
   "execution_count": 334,
   "metadata": {},
   "outputs": [],
   "source": [
    "from sklearn.metrics import accuracy_score,confusion_matrix,classification_report"
   ]
  },
  {
   "cell_type": "code",
   "execution_count": 331,
   "metadata": {},
   "outputs": [
    {
     "name": "stdout",
     "output_type": "stream",
     "text": [
      "0.805\n"
     ]
    }
   ],
   "source": [
    "print(accuracy_score(y_test_LR,predict_LR))"
   ]
  },
  {
   "cell_type": "code",
   "execution_count": 332,
   "metadata": {},
   "outputs": [
    {
     "name": "stdout",
     "output_type": "stream",
     "text": [
      "[[710  45]\n",
      " [150  95]]\n"
     ]
    }
   ],
   "source": [
    "print(confusion_matrix(y_test_LR,predict_LR))"
   ]
  },
  {
   "cell_type": "code",
   "execution_count": 335,
   "metadata": {},
   "outputs": [
    {
     "name": "stdout",
     "output_type": "stream",
     "text": [
      "              precision    recall  f1-score   support\n",
      "\n",
      "       <=50K       0.83      0.94      0.88       755\n",
      "        >50K       0.68      0.39      0.49       245\n",
      "\n",
      "    accuracy                           0.81      1000\n",
      "   macro avg       0.75      0.66      0.69      1000\n",
      "weighted avg       0.79      0.81      0.78      1000\n",
      "\n"
     ]
    }
   ],
   "source": [
    "print(classification_report(y_test_LR,predict_LR))\n"
   ]
  },
  {
   "cell_type": "markdown",
   "metadata": {},
   "source": [
    "## c) One hot Logistic Regression"
   ]
  },
  {
   "cell_type": "code",
   "execution_count": 347,
   "metadata": {},
   "outputs": [],
   "source": [
    "X_train_LRO, X_test_LRO, y_train_LRO, y_test_LRO = train_test_split(X, census['income'], test_size=0.2, random_state=101)"
   ]
  },
  {
   "cell_type": "code",
   "execution_count": 349,
   "metadata": {},
   "outputs": [],
   "source": [
    "logistic1=LogisticRegression()"
   ]
  },
  {
   "cell_type": "code",
   "execution_count": 350,
   "metadata": {},
   "outputs": [
    {
     "data": {
      "text/plain": [
       "LogisticRegression(C=1.0, class_weight=None, dual=False, fit_intercept=True,\n",
       "                   intercept_scaling=1, l1_ratio=None, max_iter=100,\n",
       "                   multi_class='auto', n_jobs=None, penalty='l2',\n",
       "                   random_state=None, solver='lbfgs', tol=0.0001, verbose=0,\n",
       "                   warm_start=False)"
      ]
     },
     "execution_count": 350,
     "metadata": {},
     "output_type": "execute_result"
    }
   ],
   "source": [
    "logistic1.fit(X_train_LRO,y_train_LRO)"
   ]
  },
  {
   "cell_type": "code",
   "execution_count": 351,
   "metadata": {},
   "outputs": [
    {
     "data": {
      "text/plain": [
       "array([[ 0.56759524, -0.1660569 ,  0.00621786, -0.00950065,  0.79618005,\n",
       "        -0.35393918, -0.01333529, -0.08316113,  0.06284303,  0.37247483,\n",
       "         1.88318717,  0.25814943,  0.44374354,  0.04563544]])"
      ]
     },
     "execution_count": 351,
     "metadata": {},
     "output_type": "execute_result"
    }
   ],
   "source": [
    "logistic1.coef_"
   ]
  },
  {
   "cell_type": "code",
   "execution_count": 352,
   "metadata": {},
   "outputs": [
    {
     "data": {
      "text/plain": [
       "array([-1.509809])"
      ]
     },
     "execution_count": 352,
     "metadata": {},
     "output_type": "execute_result"
    }
   ],
   "source": [
    "logistic1.intercept_"
   ]
  },
  {
   "cell_type": "code",
   "execution_count": 354,
   "metadata": {},
   "outputs": [],
   "source": [
    "predict_LRO=logistic.predict(X_test_LRO)"
   ]
  },
  {
   "cell_type": "code",
   "execution_count": 355,
   "metadata": {},
   "outputs": [
    {
     "name": "stdout",
     "output_type": "stream",
     "text": [
      "0.805\n"
     ]
    }
   ],
   "source": [
    "print(accuracy_score(y_test_LRO,predict_LRO))"
   ]
  },
  {
   "cell_type": "code",
   "execution_count": 357,
   "metadata": {},
   "outputs": [
    {
     "name": "stdout",
     "output_type": "stream",
     "text": [
      "[[710  45]\n",
      " [150  95]]\n"
     ]
    }
   ],
   "source": [
    "print(confusion_matrix(y_test_LRO,predict_LRO))"
   ]
  },
  {
   "cell_type": "markdown",
   "metadata": {},
   "source": [
    "## d) Decision Tree"
   ]
  },
  {
   "cell_type": "code",
   "execution_count": 358,
   "metadata": {},
   "outputs": [],
   "source": [
    "from sklearn.tree import DecisionTreeClassifier"
   ]
  },
  {
   "cell_type": "code",
   "execution_count": 359,
   "metadata": {},
   "outputs": [],
   "source": [
    "dt=DecisionTreeClassifier()"
   ]
  },
  {
   "cell_type": "code",
   "execution_count": 360,
   "metadata": {
    "scrolled": true
   },
   "outputs": [
    {
     "data": {
      "text/plain": [
       "DecisionTreeClassifier(ccp_alpha=0.0, class_weight=None, criterion='gini',\n",
       "                       max_depth=None, max_features=None, max_leaf_nodes=None,\n",
       "                       min_impurity_decrease=0.0, min_impurity_split=None,\n",
       "                       min_samples_leaf=1, min_samples_split=2,\n",
       "                       min_weight_fraction_leaf=0.0, presort='deprecated',\n",
       "                       random_state=None, splitter='best')"
      ]
     },
     "execution_count": 360,
     "metadata": {},
     "output_type": "execute_result"
    }
   ],
   "source": [
    "dt.fit(X_train_LRO,y_train_LRO)"
   ]
  },
  {
   "cell_type": "code",
   "execution_count": 361,
   "metadata": {},
   "outputs": [],
   "source": [
    "y_pred_dt=dt.predict(X_test_LRO)"
   ]
  },
  {
   "cell_type": "code",
   "execution_count": 362,
   "metadata": {},
   "outputs": [
    {
     "name": "stdout",
     "output_type": "stream",
     "text": [
      "0.774\n"
     ]
    }
   ],
   "source": [
    "print(accuracy_score(y_test_LRO,y_pred_dt))"
   ]
  },
  {
   "cell_type": "code",
   "execution_count": 363,
   "metadata": {},
   "outputs": [
    {
     "name": "stdout",
     "output_type": "stream",
     "text": [
      "[[639 116]\n",
      " [110 135]]\n"
     ]
    }
   ],
   "source": [
    "print(confusion_matrix(y_test_LRO,y_pred_dt))"
   ]
  },
  {
   "cell_type": "code",
   "execution_count": 364,
   "metadata": {},
   "outputs": [
    {
     "name": "stdout",
     "output_type": "stream",
     "text": [
      "              precision    recall  f1-score   support\n",
      "\n",
      "       <=50K       0.85      0.85      0.85       755\n",
      "        >50K       0.54      0.55      0.54       245\n",
      "\n",
      "    accuracy                           0.77      1000\n",
      "   macro avg       0.70      0.70      0.70      1000\n",
      "weighted avg       0.78      0.77      0.77      1000\n",
      "\n"
     ]
    }
   ],
   "source": [
    "print(classification_report(y_test_LRO,y_pred_dt))"
   ]
  },
  {
   "cell_type": "markdown",
   "metadata": {},
   "source": [
    "## e) Random Forest"
   ]
  },
  {
   "cell_type": "code",
   "execution_count": 365,
   "metadata": {},
   "outputs": [],
   "source": [
    "from sklearn.ensemble import RandomForestClassifier"
   ]
  },
  {
   "cell_type": "code",
   "execution_count": 366,
   "metadata": {},
   "outputs": [],
   "source": [
    "rf=RandomForestClassifier()"
   ]
  },
  {
   "cell_type": "code",
   "execution_count": 367,
   "metadata": {},
   "outputs": [
    {
     "data": {
      "text/plain": [
       "RandomForestClassifier(bootstrap=True, ccp_alpha=0.0, class_weight=None,\n",
       "                       criterion='gini', max_depth=None, max_features='auto',\n",
       "                       max_leaf_nodes=None, max_samples=None,\n",
       "                       min_impurity_decrease=0.0, min_impurity_split=None,\n",
       "                       min_samples_leaf=1, min_samples_split=2,\n",
       "                       min_weight_fraction_leaf=0.0, n_estimators=100,\n",
       "                       n_jobs=None, oob_score=False, random_state=None,\n",
       "                       verbose=0, warm_start=False)"
      ]
     },
     "execution_count": 367,
     "metadata": {},
     "output_type": "execute_result"
    }
   ],
   "source": [
    "rf.fit(X_train_LRO,y_train_LRO)"
   ]
  },
  {
   "cell_type": "code",
   "execution_count": 368,
   "metadata": {},
   "outputs": [],
   "source": [
    "pred_rf=rf.predict(X_test_LRO)"
   ]
  },
  {
   "cell_type": "code",
   "execution_count": 370,
   "metadata": {},
   "outputs": [
    {
     "name": "stdout",
     "output_type": "stream",
     "text": [
      "0.828\n"
     ]
    }
   ],
   "source": [
    "print(accuracy_score(y_test_LRO,pred_rf))"
   ]
  },
  {
   "cell_type": "code",
   "execution_count": 372,
   "metadata": {},
   "outputs": [
    {
     "name": "stdout",
     "output_type": "stream",
     "text": [
      "[[693  62]\n",
      " [110 135]]\n"
     ]
    }
   ],
   "source": [
    "print(confusion_matrix(y_test_LRO,pred_rf))"
   ]
  },
  {
   "cell_type": "code",
   "execution_count": 373,
   "metadata": {},
   "outputs": [
    {
     "name": "stdout",
     "output_type": "stream",
     "text": [
      "              precision    recall  f1-score   support\n",
      "\n",
      "       <=50K       0.86      0.92      0.89       755\n",
      "        >50K       0.69      0.55      0.61       245\n",
      "\n",
      "    accuracy                           0.83      1000\n",
      "   macro avg       0.77      0.73      0.75      1000\n",
      "weighted avg       0.82      0.83      0.82      1000\n",
      "\n"
     ]
    }
   ],
   "source": [
    "print(classification_report(y_test_LRO,pred_rf))"
   ]
  },
  {
   "cell_type": "markdown",
   "metadata": {},
   "source": [
    "## f) Using Grid Search in Random Forest"
   ]
  },
  {
   "cell_type": "code",
   "execution_count": 374,
   "metadata": {},
   "outputs": [],
   "source": [
    "from sklearn.model_selection import GridSearchCV"
   ]
  },
  {
   "cell_type": "code",
   "execution_count": 375,
   "metadata": {},
   "outputs": [],
   "source": [
    "params={'n_estimators':[150,200,250,300],'max_depth':[5,10,15,20,25,30],'min_samples_leaf':[2,3,4,5]}"
   ]
  },
  {
   "cell_type": "code",
   "execution_count": 376,
   "metadata": {},
   "outputs": [],
   "source": [
    "gs=GridSearchCV(rf,params,verbose=3)"
   ]
  },
  {
   "cell_type": "code",
   "execution_count": 377,
   "metadata": {},
   "outputs": [
    {
     "name": "stdout",
     "output_type": "stream",
     "text": [
      "Fitting 5 folds for each of 96 candidates, totalling 480 fits\n",
      "[CV] max_depth=5, min_samples_leaf=2, n_estimators=150 ...............\n"
     ]
    },
    {
     "name": "stderr",
     "output_type": "stream",
     "text": [
      "[Parallel(n_jobs=1)]: Using backend SequentialBackend with 1 concurrent workers.\n"
     ]
    },
    {
     "name": "stdout",
     "output_type": "stream",
     "text": [
      "[CV]  max_depth=5, min_samples_leaf=2, n_estimators=150, score=0.854, total=   0.7s\n",
      "[CV] max_depth=5, min_samples_leaf=2, n_estimators=150 ...............\n"
     ]
    },
    {
     "name": "stderr",
     "output_type": "stream",
     "text": [
      "[Parallel(n_jobs=1)]: Done   1 out of   1 | elapsed:    0.6s remaining:    0.0s\n"
     ]
    },
    {
     "name": "stdout",
     "output_type": "stream",
     "text": [
      "[CV]  max_depth=5, min_samples_leaf=2, n_estimators=150, score=0.853, total=   0.9s\n",
      "[CV] max_depth=5, min_samples_leaf=2, n_estimators=150 ...............\n"
     ]
    },
    {
     "name": "stderr",
     "output_type": "stream",
     "text": [
      "[Parallel(n_jobs=1)]: Done   2 out of   2 | elapsed:    1.4s remaining:    0.0s\n"
     ]
    },
    {
     "name": "stdout",
     "output_type": "stream",
     "text": [
      "[CV]  max_depth=5, min_samples_leaf=2, n_estimators=150, score=0.831, total=   0.7s\n",
      "[CV] max_depth=5, min_samples_leaf=2, n_estimators=150 ...............\n",
      "[CV]  max_depth=5, min_samples_leaf=2, n_estimators=150, score=0.833, total=   0.7s\n",
      "[CV] max_depth=5, min_samples_leaf=2, n_estimators=150 ...............\n",
      "[CV]  max_depth=5, min_samples_leaf=2, n_estimators=150, score=0.833, total=   0.8s\n",
      "[CV] max_depth=5, min_samples_leaf=2, n_estimators=200 ...............\n",
      "[CV]  max_depth=5, min_samples_leaf=2, n_estimators=200, score=0.853, total=   1.0s\n",
      "[CV] max_depth=5, min_samples_leaf=2, n_estimators=200 ...............\n",
      "[CV]  max_depth=5, min_samples_leaf=2, n_estimators=200, score=0.860, total=   1.1s\n",
      "[CV] max_depth=5, min_samples_leaf=2, n_estimators=200 ...............\n",
      "[CV]  max_depth=5, min_samples_leaf=2, n_estimators=200, score=0.835, total=   1.0s\n",
      "[CV] max_depth=5, min_samples_leaf=2, n_estimators=200 ...............\n",
      "[CV]  max_depth=5, min_samples_leaf=2, n_estimators=200, score=0.839, total=   0.9s\n",
      "[CV] max_depth=5, min_samples_leaf=2, n_estimators=200 ...............\n",
      "[CV]  max_depth=5, min_samples_leaf=2, n_estimators=200, score=0.838, total=   1.0s\n",
      "[CV] max_depth=5, min_samples_leaf=2, n_estimators=250 ...............\n",
      "[CV]  max_depth=5, min_samples_leaf=2, n_estimators=250, score=0.850, total=   1.3s\n",
      "[CV] max_depth=5, min_samples_leaf=2, n_estimators=250 ...............\n",
      "[CV]  max_depth=5, min_samples_leaf=2, n_estimators=250, score=0.860, total=   1.3s\n",
      "[CV] max_depth=5, min_samples_leaf=2, n_estimators=250 ...............\n",
      "[CV]  max_depth=5, min_samples_leaf=2, n_estimators=250, score=0.834, total=   1.2s\n",
      "[CV] max_depth=5, min_samples_leaf=2, n_estimators=250 ...............\n",
      "[CV]  max_depth=5, min_samples_leaf=2, n_estimators=250, score=0.836, total=   1.2s\n",
      "[CV] max_depth=5, min_samples_leaf=2, n_estimators=250 ...............\n",
      "[CV]  max_depth=5, min_samples_leaf=2, n_estimators=250, score=0.838, total=   1.3s\n",
      "[CV] max_depth=5, min_samples_leaf=2, n_estimators=300 ...............\n",
      "[CV]  max_depth=5, min_samples_leaf=2, n_estimators=300, score=0.848, total=   1.5s\n",
      "[CV] max_depth=5, min_samples_leaf=2, n_estimators=300 ...............\n",
      "[CV]  max_depth=5, min_samples_leaf=2, n_estimators=300, score=0.855, total=   1.5s\n",
      "[CV] max_depth=5, min_samples_leaf=2, n_estimators=300 ...............\n",
      "[CV]  max_depth=5, min_samples_leaf=2, n_estimators=300, score=0.836, total=   1.4s\n",
      "[CV] max_depth=5, min_samples_leaf=2, n_estimators=300 ...............\n",
      "[CV]  max_depth=5, min_samples_leaf=2, n_estimators=300, score=0.838, total=   1.5s\n",
      "[CV] max_depth=5, min_samples_leaf=2, n_estimators=300 ...............\n",
      "[CV]  max_depth=5, min_samples_leaf=2, n_estimators=300, score=0.835, total=   1.5s\n",
      "[CV] max_depth=5, min_samples_leaf=3, n_estimators=150 ...............\n",
      "[CV]  max_depth=5, min_samples_leaf=3, n_estimators=150, score=0.856, total=   0.7s\n",
      "[CV] max_depth=5, min_samples_leaf=3, n_estimators=150 ...............\n",
      "[CV]  max_depth=5, min_samples_leaf=3, n_estimators=150, score=0.849, total=   0.8s\n",
      "[CV] max_depth=5, min_samples_leaf=3, n_estimators=150 ...............\n",
      "[CV]  max_depth=5, min_samples_leaf=3, n_estimators=150, score=0.834, total=   0.8s\n",
      "[CV] max_depth=5, min_samples_leaf=3, n_estimators=150 ...............\n",
      "[CV]  max_depth=5, min_samples_leaf=3, n_estimators=150, score=0.833, total=   0.7s\n",
      "[CV] max_depth=5, min_samples_leaf=3, n_estimators=150 ...............\n",
      "[CV]  max_depth=5, min_samples_leaf=3, n_estimators=150, score=0.834, total=   0.7s\n",
      "[CV] max_depth=5, min_samples_leaf=3, n_estimators=200 ...............\n",
      "[CV]  max_depth=5, min_samples_leaf=3, n_estimators=200, score=0.848, total=   1.1s\n",
      "[CV] max_depth=5, min_samples_leaf=3, n_estimators=200 ...............\n",
      "[CV]  max_depth=5, min_samples_leaf=3, n_estimators=200, score=0.855, total=   1.0s\n",
      "[CV] max_depth=5, min_samples_leaf=3, n_estimators=200 ...............\n",
      "[CV]  max_depth=5, min_samples_leaf=3, n_estimators=200, score=0.836, total=   1.1s\n",
      "[CV] max_depth=5, min_samples_leaf=3, n_estimators=200 ...............\n",
      "[CV]  max_depth=5, min_samples_leaf=3, n_estimators=200, score=0.834, total=   0.9s\n",
      "[CV] max_depth=5, min_samples_leaf=3, n_estimators=200 ...............\n",
      "[CV]  max_depth=5, min_samples_leaf=3, n_estimators=200, score=0.835, total=   1.0s\n",
      "[CV] max_depth=5, min_samples_leaf=3, n_estimators=250 ...............\n",
      "[CV]  max_depth=5, min_samples_leaf=3, n_estimators=250, score=0.853, total=   1.2s\n",
      "[CV] max_depth=5, min_samples_leaf=3, n_estimators=250 ...............\n",
      "[CV]  max_depth=5, min_samples_leaf=3, n_estimators=250, score=0.856, total=   1.3s\n",
      "[CV] max_depth=5, min_samples_leaf=3, n_estimators=250 ...............\n",
      "[CV]  max_depth=5, min_samples_leaf=3, n_estimators=250, score=0.836, total=   1.3s\n",
      "[CV] max_depth=5, min_samples_leaf=3, n_estimators=250 ...............\n",
      "[CV]  max_depth=5, min_samples_leaf=3, n_estimators=250, score=0.838, total=   1.3s\n",
      "[CV] max_depth=5, min_samples_leaf=3, n_estimators=250 ...............\n",
      "[CV]  max_depth=5, min_samples_leaf=3, n_estimators=250, score=0.834, total=   1.3s\n",
      "[CV] max_depth=5, min_samples_leaf=3, n_estimators=300 ...............\n",
      "[CV]  max_depth=5, min_samples_leaf=3, n_estimators=300, score=0.851, total=   1.5s\n",
      "[CV] max_depth=5, min_samples_leaf=3, n_estimators=300 ...............\n",
      "[CV]  max_depth=5, min_samples_leaf=3, n_estimators=300, score=0.854, total=   1.5s\n",
      "[CV] max_depth=5, min_samples_leaf=3, n_estimators=300 ...............\n",
      "[CV]  max_depth=5, min_samples_leaf=3, n_estimators=300, score=0.835, total=   1.6s\n",
      "[CV] max_depth=5, min_samples_leaf=3, n_estimators=300 ...............\n",
      "[CV]  max_depth=5, min_samples_leaf=3, n_estimators=300, score=0.838, total=   1.5s\n",
      "[CV] max_depth=5, min_samples_leaf=3, n_estimators=300 ...............\n",
      "[CV]  max_depth=5, min_samples_leaf=3, n_estimators=300, score=0.838, total=   1.6s\n",
      "[CV] max_depth=5, min_samples_leaf=4, n_estimators=150 ...............\n",
      "[CV]  max_depth=5, min_samples_leaf=4, n_estimators=150, score=0.849, total=   0.9s\n",
      "[CV] max_depth=5, min_samples_leaf=4, n_estimators=150 ...............\n",
      "[CV]  max_depth=5, min_samples_leaf=4, n_estimators=150, score=0.854, total=   0.9s\n",
      "[CV] max_depth=5, min_samples_leaf=4, n_estimators=150 ...............\n",
      "[CV]  max_depth=5, min_samples_leaf=4, n_estimators=150, score=0.834, total=   0.8s\n",
      "[CV] max_depth=5, min_samples_leaf=4, n_estimators=150 ...............\n",
      "[CV]  max_depth=5, min_samples_leaf=4, n_estimators=150, score=0.829, total=   0.8s\n",
      "[CV] max_depth=5, min_samples_leaf=4, n_estimators=150 ...............\n",
      "[CV]  max_depth=5, min_samples_leaf=4, n_estimators=150, score=0.833, total=   0.9s\n",
      "[CV] max_depth=5, min_samples_leaf=4, n_estimators=200 ...............\n",
      "[CV]  max_depth=5, min_samples_leaf=4, n_estimators=200, score=0.851, total=   1.1s\n",
      "[CV] max_depth=5, min_samples_leaf=4, n_estimators=200 ...............\n",
      "[CV]  max_depth=5, min_samples_leaf=4, n_estimators=200, score=0.855, total=   1.1s\n",
      "[CV] max_depth=5, min_samples_leaf=4, n_estimators=200 ...............\n",
      "[CV]  max_depth=5, min_samples_leaf=4, n_estimators=200, score=0.836, total=   1.0s\n",
      "[CV] max_depth=5, min_samples_leaf=4, n_estimators=200 ...............\n",
      "[CV]  max_depth=5, min_samples_leaf=4, n_estimators=200, score=0.836, total=   0.9s\n",
      "[CV] max_depth=5, min_samples_leaf=4, n_estimators=200 ...............\n",
      "[CV]  max_depth=5, min_samples_leaf=4, n_estimators=200, score=0.833, total=   1.0s\n",
      "[CV] max_depth=5, min_samples_leaf=4, n_estimators=250 ...............\n",
      "[CV]  max_depth=5, min_samples_leaf=4, n_estimators=250, score=0.851, total=   1.3s\n",
      "[CV] max_depth=5, min_samples_leaf=4, n_estimators=250 ...............\n",
      "[CV]  max_depth=5, min_samples_leaf=4, n_estimators=250, score=0.856, total=   1.4s\n",
      "[CV] max_depth=5, min_samples_leaf=4, n_estimators=250 ...............\n",
      "[CV]  max_depth=5, min_samples_leaf=4, n_estimators=250, score=0.836, total=   1.3s\n",
      "[CV] max_depth=5, min_samples_leaf=4, n_estimators=250 ...............\n",
      "[CV]  max_depth=5, min_samples_leaf=4, n_estimators=250, score=0.838, total=   1.4s\n",
      "[CV] max_depth=5, min_samples_leaf=4, n_estimators=250 ...............\n",
      "[CV]  max_depth=5, min_samples_leaf=4, n_estimators=250, score=0.833, total=   1.4s\n",
      "[CV] max_depth=5, min_samples_leaf=4, n_estimators=300 ...............\n"
     ]
    },
    {
     "name": "stdout",
     "output_type": "stream",
     "text": [
      "[CV]  max_depth=5, min_samples_leaf=4, n_estimators=300, score=0.849, total=   1.7s\n",
      "[CV] max_depth=5, min_samples_leaf=4, n_estimators=300 ...............\n",
      "[CV]  max_depth=5, min_samples_leaf=4, n_estimators=300, score=0.851, total=   1.7s\n",
      "[CV] max_depth=5, min_samples_leaf=4, n_estimators=300 ...............\n",
      "[CV]  max_depth=5, min_samples_leaf=4, n_estimators=300, score=0.835, total=   1.8s\n",
      "[CV] max_depth=5, min_samples_leaf=4, n_estimators=300 ...............\n",
      "[CV]  max_depth=5, min_samples_leaf=4, n_estimators=300, score=0.838, total=   1.7s\n",
      "[CV] max_depth=5, min_samples_leaf=4, n_estimators=300 ...............\n",
      "[CV]  max_depth=5, min_samples_leaf=4, n_estimators=300, score=0.835, total=   1.7s\n",
      "[CV] max_depth=5, min_samples_leaf=5, n_estimators=150 ...............\n",
      "[CV]  max_depth=5, min_samples_leaf=5, n_estimators=150, score=0.850, total=   0.8s\n",
      "[CV] max_depth=5, min_samples_leaf=5, n_estimators=150 ...............\n",
      "[CV]  max_depth=5, min_samples_leaf=5, n_estimators=150, score=0.856, total=   0.8s\n",
      "[CV] max_depth=5, min_samples_leaf=5, n_estimators=150 ...............\n",
      "[CV]  max_depth=5, min_samples_leaf=5, n_estimators=150, score=0.836, total=   0.8s\n",
      "[CV] max_depth=5, min_samples_leaf=5, n_estimators=150 ...............\n",
      "[CV]  max_depth=5, min_samples_leaf=5, n_estimators=150, score=0.836, total=   0.9s\n",
      "[CV] max_depth=5, min_samples_leaf=5, n_estimators=150 ...............\n",
      "[CV]  max_depth=5, min_samples_leaf=5, n_estimators=150, score=0.836, total=   0.8s\n",
      "[CV] max_depth=5, min_samples_leaf=5, n_estimators=200 ...............\n",
      "[CV]  max_depth=5, min_samples_leaf=5, n_estimators=200, score=0.853, total=   1.1s\n",
      "[CV] max_depth=5, min_samples_leaf=5, n_estimators=200 ...............\n",
      "[CV]  max_depth=5, min_samples_leaf=5, n_estimators=200, score=0.853, total=   1.2s\n",
      "[CV] max_depth=5, min_samples_leaf=5, n_estimators=200 ...............\n",
      "[CV]  max_depth=5, min_samples_leaf=5, n_estimators=200, score=0.835, total=   1.1s\n",
      "[CV] max_depth=5, min_samples_leaf=5, n_estimators=200 ...............\n",
      "[CV]  max_depth=5, min_samples_leaf=5, n_estimators=200, score=0.834, total=   1.1s\n",
      "[CV] max_depth=5, min_samples_leaf=5, n_estimators=200 ...............\n",
      "[CV]  max_depth=5, min_samples_leaf=5, n_estimators=200, score=0.834, total=   1.0s\n",
      "[CV] max_depth=5, min_samples_leaf=5, n_estimators=250 ...............\n",
      "[CV]  max_depth=5, min_samples_leaf=5, n_estimators=250, score=0.850, total=   1.2s\n",
      "[CV] max_depth=5, min_samples_leaf=5, n_estimators=250 ...............\n",
      "[CV]  max_depth=5, min_samples_leaf=5, n_estimators=250, score=0.859, total=   1.2s\n",
      "[CV] max_depth=5, min_samples_leaf=5, n_estimators=250 ...............\n",
      "[CV]  max_depth=5, min_samples_leaf=5, n_estimators=250, score=0.834, total=   1.2s\n",
      "[CV] max_depth=5, min_samples_leaf=5, n_estimators=250 ...............\n",
      "[CV]  max_depth=5, min_samples_leaf=5, n_estimators=250, score=0.833, total=   1.2s\n",
      "[CV] max_depth=5, min_samples_leaf=5, n_estimators=250 ...............\n",
      "[CV]  max_depth=5, min_samples_leaf=5, n_estimators=250, score=0.834, total=   1.3s\n",
      "[CV] max_depth=5, min_samples_leaf=5, n_estimators=300 ...............\n",
      "[CV]  max_depth=5, min_samples_leaf=5, n_estimators=300, score=0.850, total=   1.5s\n",
      "[CV] max_depth=5, min_samples_leaf=5, n_estimators=300 ...............\n",
      "[CV]  max_depth=5, min_samples_leaf=5, n_estimators=300, score=0.851, total=   1.5s\n",
      "[CV] max_depth=5, min_samples_leaf=5, n_estimators=300 ...............\n",
      "[CV]  max_depth=5, min_samples_leaf=5, n_estimators=300, score=0.836, total=   1.5s\n",
      "[CV] max_depth=5, min_samples_leaf=5, n_estimators=300 ...............\n",
      "[CV]  max_depth=5, min_samples_leaf=5, n_estimators=300, score=0.835, total=   1.6s\n",
      "[CV] max_depth=5, min_samples_leaf=5, n_estimators=300 ...............\n",
      "[CV]  max_depth=5, min_samples_leaf=5, n_estimators=300, score=0.831, total=   1.5s\n",
      "[CV] max_depth=10, min_samples_leaf=2, n_estimators=150 ..............\n",
      "[CV]  max_depth=10, min_samples_leaf=2, n_estimators=150, score=0.861, total=   0.9s\n",
      "[CV] max_depth=10, min_samples_leaf=2, n_estimators=150 ..............\n",
      "[CV]  max_depth=10, min_samples_leaf=2, n_estimators=150, score=0.856, total=   0.9s\n",
      "[CV] max_depth=10, min_samples_leaf=2, n_estimators=150 ..............\n",
      "[CV]  max_depth=10, min_samples_leaf=2, n_estimators=150, score=0.854, total=   0.9s\n",
      "[CV] max_depth=10, min_samples_leaf=2, n_estimators=150 ..............\n",
      "[CV]  max_depth=10, min_samples_leaf=2, n_estimators=150, score=0.836, total=   0.9s\n",
      "[CV] max_depth=10, min_samples_leaf=2, n_estimators=150 ..............\n",
      "[CV]  max_depth=10, min_samples_leaf=2, n_estimators=150, score=0.850, total=   0.9s\n",
      "[CV] max_depth=10, min_samples_leaf=2, n_estimators=200 ..............\n",
      "[CV]  max_depth=10, min_samples_leaf=2, n_estimators=200, score=0.860, total=   1.3s\n",
      "[CV] max_depth=10, min_samples_leaf=2, n_estimators=200 ..............\n",
      "[CV]  max_depth=10, min_samples_leaf=2, n_estimators=200, score=0.860, total=   1.3s\n",
      "[CV] max_depth=10, min_samples_leaf=2, n_estimators=200 ..............\n",
      "[CV]  max_depth=10, min_samples_leaf=2, n_estimators=200, score=0.849, total=   1.3s\n",
      "[CV] max_depth=10, min_samples_leaf=2, n_estimators=200 ..............\n",
      "[CV]  max_depth=10, min_samples_leaf=2, n_estimators=200, score=0.833, total=   1.2s\n",
      "[CV] max_depth=10, min_samples_leaf=2, n_estimators=200 ..............\n",
      "[CV]  max_depth=10, min_samples_leaf=2, n_estimators=200, score=0.849, total=   1.2s\n",
      "[CV] max_depth=10, min_samples_leaf=2, n_estimators=250 ..............\n",
      "[CV]  max_depth=10, min_samples_leaf=2, n_estimators=250, score=0.863, total=   1.5s\n",
      "[CV] max_depth=10, min_samples_leaf=2, n_estimators=250 ..............\n",
      "[CV]  max_depth=10, min_samples_leaf=2, n_estimators=250, score=0.856, total=   1.5s\n",
      "[CV] max_depth=10, min_samples_leaf=2, n_estimators=250 ..............\n",
      "[CV]  max_depth=10, min_samples_leaf=2, n_estimators=250, score=0.853, total=   1.6s\n",
      "[CV] max_depth=10, min_samples_leaf=2, n_estimators=250 ..............\n",
      "[CV]  max_depth=10, min_samples_leaf=2, n_estimators=250, score=0.836, total=   1.6s\n",
      "[CV] max_depth=10, min_samples_leaf=2, n_estimators=250 ..............\n",
      "[CV]  max_depth=10, min_samples_leaf=2, n_estimators=250, score=0.844, total=   1.5s\n",
      "[CV] max_depth=10, min_samples_leaf=2, n_estimators=300 ..............\n",
      "[CV]  max_depth=10, min_samples_leaf=2, n_estimators=300, score=0.865, total=   1.8s\n",
      "[CV] max_depth=10, min_samples_leaf=2, n_estimators=300 ..............\n",
      "[CV]  max_depth=10, min_samples_leaf=2, n_estimators=300, score=0.854, total=   1.9s\n",
      "[CV] max_depth=10, min_samples_leaf=2, n_estimators=300 ..............\n",
      "[CV]  max_depth=10, min_samples_leaf=2, n_estimators=300, score=0.854, total=   1.8s\n",
      "[CV] max_depth=10, min_samples_leaf=2, n_estimators=300 ..............\n",
      "[CV]  max_depth=10, min_samples_leaf=2, n_estimators=300, score=0.838, total=   1.9s\n",
      "[CV] max_depth=10, min_samples_leaf=2, n_estimators=300 ..............\n",
      "[CV]  max_depth=10, min_samples_leaf=2, n_estimators=300, score=0.851, total=   1.9s\n",
      "[CV] max_depth=10, min_samples_leaf=3, n_estimators=150 ..............\n",
      "[CV]  max_depth=10, min_samples_leaf=3, n_estimators=150, score=0.859, total=   0.9s\n",
      "[CV] max_depth=10, min_samples_leaf=3, n_estimators=150 ..............\n",
      "[CV]  max_depth=10, min_samples_leaf=3, n_estimators=150, score=0.851, total=   0.9s\n",
      "[CV] max_depth=10, min_samples_leaf=3, n_estimators=150 ..............\n",
      "[CV]  max_depth=10, min_samples_leaf=3, n_estimators=150, score=0.853, total=   0.9s\n",
      "[CV] max_depth=10, min_samples_leaf=3, n_estimators=150 ..............\n",
      "[CV]  max_depth=10, min_samples_leaf=3, n_estimators=150, score=0.834, total=   0.9s\n",
      "[CV] max_depth=10, min_samples_leaf=3, n_estimators=150 ..............\n",
      "[CV]  max_depth=10, min_samples_leaf=3, n_estimators=150, score=0.845, total=   0.9s\n",
      "[CV] max_depth=10, min_samples_leaf=3, n_estimators=200 ..............\n",
      "[CV]  max_depth=10, min_samples_leaf=3, n_estimators=200, score=0.868, total=   1.3s\n",
      "[CV] max_depth=10, min_samples_leaf=3, n_estimators=200 ..............\n",
      "[CV]  max_depth=10, min_samples_leaf=3, n_estimators=200, score=0.858, total=   1.2s\n",
      "[CV] max_depth=10, min_samples_leaf=3, n_estimators=200 ..............\n",
      "[CV]  max_depth=10, min_samples_leaf=3, n_estimators=200, score=0.850, total=   1.2s\n",
      "[CV] max_depth=10, min_samples_leaf=3, n_estimators=200 ..............\n"
     ]
    },
    {
     "name": "stdout",
     "output_type": "stream",
     "text": [
      "[CV]  max_depth=10, min_samples_leaf=3, n_estimators=200, score=0.836, total=   1.2s\n",
      "[CV] max_depth=10, min_samples_leaf=3, n_estimators=200 ..............\n",
      "[CV]  max_depth=10, min_samples_leaf=3, n_estimators=200, score=0.844, total=   1.2s\n",
      "[CV] max_depth=10, min_samples_leaf=3, n_estimators=250 ..............\n",
      "[CV]  max_depth=10, min_samples_leaf=3, n_estimators=250, score=0.870, total=   1.5s\n",
      "[CV] max_depth=10, min_samples_leaf=3, n_estimators=250 ..............\n",
      "[CV]  max_depth=10, min_samples_leaf=3, n_estimators=250, score=0.854, total=   1.6s\n",
      "[CV] max_depth=10, min_samples_leaf=3, n_estimators=250 ..............\n",
      "[CV]  max_depth=10, min_samples_leaf=3, n_estimators=250, score=0.851, total=   1.8s\n",
      "[CV] max_depth=10, min_samples_leaf=3, n_estimators=250 ..............\n",
      "[CV]  max_depth=10, min_samples_leaf=3, n_estimators=250, score=0.831, total=   1.5s\n",
      "[CV] max_depth=10, min_samples_leaf=3, n_estimators=250 ..............\n",
      "[CV]  max_depth=10, min_samples_leaf=3, n_estimators=250, score=0.846, total=   1.6s\n",
      "[CV] max_depth=10, min_samples_leaf=3, n_estimators=300 ..............\n",
      "[CV]  max_depth=10, min_samples_leaf=3, n_estimators=300, score=0.866, total=   2.0s\n",
      "[CV] max_depth=10, min_samples_leaf=3, n_estimators=300 ..............\n",
      "[CV]  max_depth=10, min_samples_leaf=3, n_estimators=300, score=0.861, total=   1.9s\n",
      "[CV] max_depth=10, min_samples_leaf=3, n_estimators=300 ..............\n",
      "[CV]  max_depth=10, min_samples_leaf=3, n_estimators=300, score=0.853, total=   1.8s\n",
      "[CV] max_depth=10, min_samples_leaf=3, n_estimators=300 ..............\n",
      "[CV]  max_depth=10, min_samples_leaf=3, n_estimators=300, score=0.833, total=   1.9s\n",
      "[CV] max_depth=10, min_samples_leaf=3, n_estimators=300 ..............\n",
      "[CV]  max_depth=10, min_samples_leaf=3, n_estimators=300, score=0.850, total=   1.8s\n",
      "[CV] max_depth=10, min_samples_leaf=4, n_estimators=150 ..............\n",
      "[CV]  max_depth=10, min_samples_leaf=4, n_estimators=150, score=0.869, total=   1.0s\n",
      "[CV] max_depth=10, min_samples_leaf=4, n_estimators=150 ..............\n",
      "[CV]  max_depth=10, min_samples_leaf=4, n_estimators=150, score=0.856, total=   1.1s\n",
      "[CV] max_depth=10, min_samples_leaf=4, n_estimators=150 ..............\n",
      "[CV]  max_depth=10, min_samples_leaf=4, n_estimators=150, score=0.849, total=   0.9s\n",
      "[CV] max_depth=10, min_samples_leaf=4, n_estimators=150 ..............\n",
      "[CV]  max_depth=10, min_samples_leaf=4, n_estimators=150, score=0.829, total=   0.9s\n",
      "[CV] max_depth=10, min_samples_leaf=4, n_estimators=150 ..............\n",
      "[CV]  max_depth=10, min_samples_leaf=4, n_estimators=150, score=0.846, total=   1.1s\n",
      "[CV] max_depth=10, min_samples_leaf=4, n_estimators=200 ..............\n",
      "[CV]  max_depth=10, min_samples_leaf=4, n_estimators=200, score=0.866, total=   1.3s\n",
      "[CV] max_depth=10, min_samples_leaf=4, n_estimators=200 ..............\n",
      "[CV]  max_depth=10, min_samples_leaf=4, n_estimators=200, score=0.856, total=   1.2s\n",
      "[CV] max_depth=10, min_samples_leaf=4, n_estimators=200 ..............\n",
      "[CV]  max_depth=10, min_samples_leaf=4, n_estimators=200, score=0.854, total=   1.2s\n",
      "[CV] max_depth=10, min_samples_leaf=4, n_estimators=200 ..............\n",
      "[CV]  max_depth=10, min_samples_leaf=4, n_estimators=200, score=0.835, total=   1.2s\n",
      "[CV] max_depth=10, min_samples_leaf=4, n_estimators=200 ..............\n",
      "[CV]  max_depth=10, min_samples_leaf=4, n_estimators=200, score=0.844, total=   1.3s\n",
      "[CV] max_depth=10, min_samples_leaf=4, n_estimators=250 ..............\n",
      "[CV]  max_depth=10, min_samples_leaf=4, n_estimators=250, score=0.865, total=   1.5s\n",
      "[CV] max_depth=10, min_samples_leaf=4, n_estimators=250 ..............\n",
      "[CV]  max_depth=10, min_samples_leaf=4, n_estimators=250, score=0.856, total=   1.5s\n",
      "[CV] max_depth=10, min_samples_leaf=4, n_estimators=250 ..............\n",
      "[CV]  max_depth=10, min_samples_leaf=4, n_estimators=250, score=0.849, total=   1.5s\n",
      "[CV] max_depth=10, min_samples_leaf=4, n_estimators=250 ..............\n",
      "[CV]  max_depth=10, min_samples_leaf=4, n_estimators=250, score=0.836, total=   1.5s\n",
      "[CV] max_depth=10, min_samples_leaf=4, n_estimators=250 ..............\n",
      "[CV]  max_depth=10, min_samples_leaf=4, n_estimators=250, score=0.846, total=   1.6s\n",
      "[CV] max_depth=10, min_samples_leaf=4, n_estimators=300 ..............\n",
      "[CV]  max_depth=10, min_samples_leaf=4, n_estimators=300, score=0.865, total=   1.9s\n",
      "[CV] max_depth=10, min_samples_leaf=4, n_estimators=300 ..............\n",
      "[CV]  max_depth=10, min_samples_leaf=4, n_estimators=300, score=0.856, total=   1.8s\n",
      "[CV] max_depth=10, min_samples_leaf=4, n_estimators=300 ..............\n",
      "[CV]  max_depth=10, min_samples_leaf=4, n_estimators=300, score=0.851, total=   1.9s\n",
      "[CV] max_depth=10, min_samples_leaf=4, n_estimators=300 ..............\n",
      "[CV]  max_depth=10, min_samples_leaf=4, n_estimators=300, score=0.835, total=   1.9s\n",
      "[CV] max_depth=10, min_samples_leaf=4, n_estimators=300 ..............\n",
      "[CV]  max_depth=10, min_samples_leaf=4, n_estimators=300, score=0.849, total=   1.8s\n",
      "[CV] max_depth=10, min_samples_leaf=5, n_estimators=150 ..............\n",
      "[CV]  max_depth=10, min_samples_leaf=5, n_estimators=150, score=0.863, total=   0.9s\n",
      "[CV] max_depth=10, min_samples_leaf=5, n_estimators=150 ..............\n",
      "[CV]  max_depth=10, min_samples_leaf=5, n_estimators=150, score=0.859, total=   1.0s\n",
      "[CV] max_depth=10, min_samples_leaf=5, n_estimators=150 ..............\n",
      "[CV]  max_depth=10, min_samples_leaf=5, n_estimators=150, score=0.850, total=   1.0s\n",
      "[CV] max_depth=10, min_samples_leaf=5, n_estimators=150 ..............\n",
      "[CV]  max_depth=10, min_samples_leaf=5, n_estimators=150, score=0.834, total=   0.9s\n",
      "[CV] max_depth=10, min_samples_leaf=5, n_estimators=150 ..............\n",
      "[CV]  max_depth=10, min_samples_leaf=5, n_estimators=150, score=0.841, total=   0.9s\n",
      "[CV] max_depth=10, min_samples_leaf=5, n_estimators=200 ..............\n",
      "[CV]  max_depth=10, min_samples_leaf=5, n_estimators=200, score=0.865, total=   1.2s\n",
      "[CV] max_depth=10, min_samples_leaf=5, n_estimators=200 ..............\n",
      "[CV]  max_depth=10, min_samples_leaf=5, n_estimators=200, score=0.855, total=   1.2s\n",
      "[CV] max_depth=10, min_samples_leaf=5, n_estimators=200 ..............\n",
      "[CV]  max_depth=10, min_samples_leaf=5, n_estimators=200, score=0.849, total=   1.2s\n",
      "[CV] max_depth=10, min_samples_leaf=5, n_estimators=200 ..............\n",
      "[CV]  max_depth=10, min_samples_leaf=5, n_estimators=200, score=0.836, total=   1.3s\n",
      "[CV] max_depth=10, min_samples_leaf=5, n_estimators=200 ..............\n",
      "[CV]  max_depth=10, min_samples_leaf=5, n_estimators=200, score=0.850, total=   1.3s\n",
      "[CV] max_depth=10, min_samples_leaf=5, n_estimators=250 ..............\n",
      "[CV]  max_depth=10, min_samples_leaf=5, n_estimators=250, score=0.864, total=   1.5s\n",
      "[CV] max_depth=10, min_samples_leaf=5, n_estimators=250 ..............\n",
      "[CV]  max_depth=10, min_samples_leaf=5, n_estimators=250, score=0.858, total=   1.5s\n",
      "[CV] max_depth=10, min_samples_leaf=5, n_estimators=250 ..............\n",
      "[CV]  max_depth=10, min_samples_leaf=5, n_estimators=250, score=0.846, total=   1.5s\n",
      "[CV] max_depth=10, min_samples_leaf=5, n_estimators=250 ..............\n",
      "[CV]  max_depth=10, min_samples_leaf=5, n_estimators=250, score=0.835, total=   1.5s\n",
      "[CV] max_depth=10, min_samples_leaf=5, n_estimators=250 ..............\n",
      "[CV]  max_depth=10, min_samples_leaf=5, n_estimators=250, score=0.848, total=   1.6s\n",
      "[CV] max_depth=10, min_samples_leaf=5, n_estimators=300 ..............\n",
      "[CV]  max_depth=10, min_samples_leaf=5, n_estimators=300, score=0.866, total=   1.8s\n",
      "[CV] max_depth=10, min_samples_leaf=5, n_estimators=300 ..............\n",
      "[CV]  max_depth=10, min_samples_leaf=5, n_estimators=300, score=0.856, total=   1.9s\n",
      "[CV] max_depth=10, min_samples_leaf=5, n_estimators=300 ..............\n",
      "[CV]  max_depth=10, min_samples_leaf=5, n_estimators=300, score=0.849, total=   1.8s\n",
      "[CV] max_depth=10, min_samples_leaf=5, n_estimators=300 ..............\n",
      "[CV]  max_depth=10, min_samples_leaf=5, n_estimators=300, score=0.831, total=   1.8s\n",
      "[CV] max_depth=10, min_samples_leaf=5, n_estimators=300 ..............\n",
      "[CV]  max_depth=10, min_samples_leaf=5, n_estimators=300, score=0.845, total=   1.8s\n",
      "[CV] max_depth=15, min_samples_leaf=2, n_estimators=150 ..............\n",
      "[CV]  max_depth=15, min_samples_leaf=2, n_estimators=150, score=0.851, total=   1.0s\n",
      "[CV] max_depth=15, min_samples_leaf=2, n_estimators=150 ..............\n"
     ]
    },
    {
     "name": "stdout",
     "output_type": "stream",
     "text": [
      "[CV]  max_depth=15, min_samples_leaf=2, n_estimators=150, score=0.858, total=   1.0s\n",
      "[CV] max_depth=15, min_samples_leaf=2, n_estimators=150 ..............\n",
      "[CV]  max_depth=15, min_samples_leaf=2, n_estimators=150, score=0.859, total=   1.1s\n",
      "[CV] max_depth=15, min_samples_leaf=2, n_estimators=150 ..............\n",
      "[CV]  max_depth=15, min_samples_leaf=2, n_estimators=150, score=0.830, total=   1.0s\n",
      "[CV] max_depth=15, min_samples_leaf=2, n_estimators=150 ..............\n",
      "[CV]  max_depth=15, min_samples_leaf=2, n_estimators=150, score=0.850, total=   1.0s\n",
      "[CV] max_depth=15, min_samples_leaf=2, n_estimators=200 ..............\n",
      "[CV]  max_depth=15, min_samples_leaf=2, n_estimators=200, score=0.853, total=   1.4s\n",
      "[CV] max_depth=15, min_samples_leaf=2, n_estimators=200 ..............\n",
      "[CV]  max_depth=15, min_samples_leaf=2, n_estimators=200, score=0.863, total=   1.3s\n",
      "[CV] max_depth=15, min_samples_leaf=2, n_estimators=200 ..............\n",
      "[CV]  max_depth=15, min_samples_leaf=2, n_estimators=200, score=0.860, total=   1.3s\n",
      "[CV] max_depth=15, min_samples_leaf=2, n_estimators=200 ..............\n",
      "[CV]  max_depth=15, min_samples_leaf=2, n_estimators=200, score=0.833, total=   1.3s\n",
      "[CV] max_depth=15, min_samples_leaf=2, n_estimators=200 ..............\n",
      "[CV]  max_depth=15, min_samples_leaf=2, n_estimators=200, score=0.851, total=   1.3s\n",
      "[CV] max_depth=15, min_samples_leaf=2, n_estimators=250 ..............\n",
      "[CV]  max_depth=15, min_samples_leaf=2, n_estimators=250, score=0.850, total=   1.8s\n",
      "[CV] max_depth=15, min_samples_leaf=2, n_estimators=250 ..............\n",
      "[CV]  max_depth=15, min_samples_leaf=2, n_estimators=250, score=0.850, total=   1.8s\n",
      "[CV] max_depth=15, min_samples_leaf=2, n_estimators=250 ..............\n",
      "[CV]  max_depth=15, min_samples_leaf=2, n_estimators=250, score=0.860, total=   1.8s\n",
      "[CV] max_depth=15, min_samples_leaf=2, n_estimators=250 ..............\n",
      "[CV]  max_depth=15, min_samples_leaf=2, n_estimators=250, score=0.833, total=   1.7s\n",
      "[CV] max_depth=15, min_samples_leaf=2, n_estimators=250 ..............\n",
      "[CV]  max_depth=15, min_samples_leaf=2, n_estimators=250, score=0.850, total=   1.7s\n",
      "[CV] max_depth=15, min_samples_leaf=2, n_estimators=300 ..............\n",
      "[CV]  max_depth=15, min_samples_leaf=2, n_estimators=300, score=0.851, total=   2.0s\n",
      "[CV] max_depth=15, min_samples_leaf=2, n_estimators=300 ..............\n",
      "[CV]  max_depth=15, min_samples_leaf=2, n_estimators=300, score=0.861, total=   2.0s\n",
      "[CV] max_depth=15, min_samples_leaf=2, n_estimators=300 ..............\n",
      "[CV]  max_depth=15, min_samples_leaf=2, n_estimators=300, score=0.858, total=   2.0s\n",
      "[CV] max_depth=15, min_samples_leaf=2, n_estimators=300 ..............\n",
      "[CV]  max_depth=15, min_samples_leaf=2, n_estimators=300, score=0.833, total=   2.0s\n",
      "[CV] max_depth=15, min_samples_leaf=2, n_estimators=300 ..............\n",
      "[CV]  max_depth=15, min_samples_leaf=2, n_estimators=300, score=0.850, total=   2.0s\n",
      "[CV] max_depth=15, min_samples_leaf=3, n_estimators=150 ..............\n",
      "[CV]  max_depth=15, min_samples_leaf=3, n_estimators=150, score=0.855, total=   1.0s\n",
      "[CV] max_depth=15, min_samples_leaf=3, n_estimators=150 ..............\n",
      "[CV]  max_depth=15, min_samples_leaf=3, n_estimators=150, score=0.858, total=   1.0s\n",
      "[CV] max_depth=15, min_samples_leaf=3, n_estimators=150 ..............\n",
      "[CV]  max_depth=15, min_samples_leaf=3, n_estimators=150, score=0.849, total=   1.0s\n",
      "[CV] max_depth=15, min_samples_leaf=3, n_estimators=150 ..............\n",
      "[CV]  max_depth=15, min_samples_leaf=3, n_estimators=150, score=0.840, total=   1.0s\n",
      "[CV] max_depth=15, min_samples_leaf=3, n_estimators=150 ..............\n",
      "[CV]  max_depth=15, min_samples_leaf=3, n_estimators=150, score=0.851, total=   1.0s\n",
      "[CV] max_depth=15, min_samples_leaf=3, n_estimators=200 ..............\n",
      "[CV]  max_depth=15, min_samples_leaf=3, n_estimators=200, score=0.851, total=   1.4s\n",
      "[CV] max_depth=15, min_samples_leaf=3, n_estimators=200 ..............\n",
      "[CV]  max_depth=15, min_samples_leaf=3, n_estimators=200, score=0.859, total=   1.4s\n",
      "[CV] max_depth=15, min_samples_leaf=3, n_estimators=200 ..............\n",
      "[CV]  max_depth=15, min_samples_leaf=3, n_estimators=200, score=0.855, total=   1.3s\n",
      "[CV] max_depth=15, min_samples_leaf=3, n_estimators=200 ..............\n",
      "[CV]  max_depth=15, min_samples_leaf=3, n_estimators=200, score=0.831, total=   1.3s\n",
      "[CV] max_depth=15, min_samples_leaf=3, n_estimators=200 ..............\n",
      "[CV]  max_depth=15, min_samples_leaf=3, n_estimators=200, score=0.854, total=   1.3s\n",
      "[CV] max_depth=15, min_samples_leaf=3, n_estimators=250 ..............\n",
      "[CV]  max_depth=15, min_samples_leaf=3, n_estimators=250, score=0.854, total=   1.7s\n",
      "[CV] max_depth=15, min_samples_leaf=3, n_estimators=250 ..............\n",
      "[CV]  max_depth=15, min_samples_leaf=3, n_estimators=250, score=0.854, total=   1.7s\n",
      "[CV] max_depth=15, min_samples_leaf=3, n_estimators=250 ..............\n",
      "[CV]  max_depth=15, min_samples_leaf=3, n_estimators=250, score=0.854, total=   1.6s\n",
      "[CV] max_depth=15, min_samples_leaf=3, n_estimators=250 ..............\n",
      "[CV]  max_depth=15, min_samples_leaf=3, n_estimators=250, score=0.831, total=   1.6s\n",
      "[CV] max_depth=15, min_samples_leaf=3, n_estimators=250 ..............\n",
      "[CV]  max_depth=15, min_samples_leaf=3, n_estimators=250, score=0.848, total=   1.7s\n",
      "[CV] max_depth=15, min_samples_leaf=3, n_estimators=300 ..............\n",
      "[CV]  max_depth=15, min_samples_leaf=3, n_estimators=300, score=0.859, total=   2.0s\n",
      "[CV] max_depth=15, min_samples_leaf=3, n_estimators=300 ..............\n",
      "[CV]  max_depth=15, min_samples_leaf=3, n_estimators=300, score=0.855, total=   2.0s\n",
      "[CV] max_depth=15, min_samples_leaf=3, n_estimators=300 ..............\n",
      "[CV]  max_depth=15, min_samples_leaf=3, n_estimators=300, score=0.853, total=   2.0s\n",
      "[CV] max_depth=15, min_samples_leaf=3, n_estimators=300 ..............\n",
      "[CV]  max_depth=15, min_samples_leaf=3, n_estimators=300, score=0.831, total=   2.0s\n",
      "[CV] max_depth=15, min_samples_leaf=3, n_estimators=300 ..............\n",
      "[CV]  max_depth=15, min_samples_leaf=3, n_estimators=300, score=0.850, total=   2.0s\n",
      "[CV] max_depth=15, min_samples_leaf=4, n_estimators=150 ..............\n",
      "[CV]  max_depth=15, min_samples_leaf=4, n_estimators=150, score=0.855, total=   1.0s\n",
      "[CV] max_depth=15, min_samples_leaf=4, n_estimators=150 ..............\n",
      "[CV]  max_depth=15, min_samples_leaf=4, n_estimators=150, score=0.856, total=   1.0s\n",
      "[CV] max_depth=15, min_samples_leaf=4, n_estimators=150 ..............\n",
      "[CV]  max_depth=15, min_samples_leaf=4, n_estimators=150, score=0.851, total=   0.9s\n",
      "[CV] max_depth=15, min_samples_leaf=4, n_estimators=150 ..............\n",
      "[CV]  max_depth=15, min_samples_leaf=4, n_estimators=150, score=0.838, total=   0.9s\n",
      "[CV] max_depth=15, min_samples_leaf=4, n_estimators=150 ..............\n",
      "[CV]  max_depth=15, min_samples_leaf=4, n_estimators=150, score=0.849, total=   1.0s\n",
      "[CV] max_depth=15, min_samples_leaf=4, n_estimators=200 ..............\n",
      "[CV]  max_depth=15, min_samples_leaf=4, n_estimators=200, score=0.858, total=   1.3s\n",
      "[CV] max_depth=15, min_samples_leaf=4, n_estimators=200 ..............\n",
      "[CV]  max_depth=15, min_samples_leaf=4, n_estimators=200, score=0.855, total=   1.3s\n",
      "[CV] max_depth=15, min_samples_leaf=4, n_estimators=200 ..............\n",
      "[CV]  max_depth=15, min_samples_leaf=4, n_estimators=200, score=0.850, total=   1.3s\n",
      "[CV] max_depth=15, min_samples_leaf=4, n_estimators=200 ..............\n",
      "[CV]  max_depth=15, min_samples_leaf=4, n_estimators=200, score=0.839, total=   1.3s\n",
      "[CV] max_depth=15, min_samples_leaf=4, n_estimators=200 ..............\n",
      "[CV]  max_depth=15, min_samples_leaf=4, n_estimators=200, score=0.850, total=   1.3s\n",
      "[CV] max_depth=15, min_samples_leaf=4, n_estimators=250 ..............\n",
      "[CV]  max_depth=15, min_samples_leaf=4, n_estimators=250, score=0.853, total=   1.6s\n",
      "[CV] max_depth=15, min_samples_leaf=4, n_estimators=250 ..............\n",
      "[CV]  max_depth=15, min_samples_leaf=4, n_estimators=250, score=0.856, total=   1.6s\n",
      "[CV] max_depth=15, min_samples_leaf=4, n_estimators=250 ..............\n",
      "[CV]  max_depth=15, min_samples_leaf=4, n_estimators=250, score=0.851, total=   1.6s\n",
      "[CV] max_depth=15, min_samples_leaf=4, n_estimators=250 ..............\n",
      "[CV]  max_depth=15, min_samples_leaf=4, n_estimators=250, score=0.836, total=   1.8s\n",
      "[CV] max_depth=15, min_samples_leaf=4, n_estimators=250 ..............\n"
     ]
    },
    {
     "name": "stdout",
     "output_type": "stream",
     "text": [
      "[CV]  max_depth=15, min_samples_leaf=4, n_estimators=250, score=0.850, total=   1.6s\n",
      "[CV] max_depth=15, min_samples_leaf=4, n_estimators=300 ..............\n",
      "[CV]  max_depth=15, min_samples_leaf=4, n_estimators=300, score=0.855, total=   2.0s\n",
      "[CV] max_depth=15, min_samples_leaf=4, n_estimators=300 ..............\n",
      "[CV]  max_depth=15, min_samples_leaf=4, n_estimators=300, score=0.856, total=   1.9s\n",
      "[CV] max_depth=15, min_samples_leaf=4, n_estimators=300 ..............\n",
      "[CV]  max_depth=15, min_samples_leaf=4, n_estimators=300, score=0.849, total=   1.9s\n",
      "[CV] max_depth=15, min_samples_leaf=4, n_estimators=300 ..............\n",
      "[CV]  max_depth=15, min_samples_leaf=4, n_estimators=300, score=0.834, total=   2.1s\n",
      "[CV] max_depth=15, min_samples_leaf=4, n_estimators=300 ..............\n",
      "[CV]  max_depth=15, min_samples_leaf=4, n_estimators=300, score=0.848, total=   1.9s\n",
      "[CV] max_depth=15, min_samples_leaf=5, n_estimators=150 ..............\n",
      "[CV]  max_depth=15, min_samples_leaf=5, n_estimators=150, score=0.864, total=   1.0s\n",
      "[CV] max_depth=15, min_samples_leaf=5, n_estimators=150 ..............\n",
      "[CV]  max_depth=15, min_samples_leaf=5, n_estimators=150, score=0.854, total=   1.0s\n",
      "[CV] max_depth=15, min_samples_leaf=5, n_estimators=150 ..............\n",
      "[CV]  max_depth=15, min_samples_leaf=5, n_estimators=150, score=0.851, total=   1.0s\n",
      "[CV] max_depth=15, min_samples_leaf=5, n_estimators=150 ..............\n",
      "[CV]  max_depth=15, min_samples_leaf=5, n_estimators=150, score=0.831, total=   0.9s\n",
      "[CV] max_depth=15, min_samples_leaf=5, n_estimators=150 ..............\n",
      "[CV]  max_depth=15, min_samples_leaf=5, n_estimators=150, score=0.853, total=   0.9s\n",
      "[CV] max_depth=15, min_samples_leaf=5, n_estimators=200 ..............\n",
      "[CV]  max_depth=15, min_samples_leaf=5, n_estimators=200, score=0.855, total=   1.3s\n",
      "[CV] max_depth=15, min_samples_leaf=5, n_estimators=200 ..............\n",
      "[CV]  max_depth=15, min_samples_leaf=5, n_estimators=200, score=0.858, total=   1.3s\n",
      "[CV] max_depth=15, min_samples_leaf=5, n_estimators=200 ..............\n",
      "[CV]  max_depth=15, min_samples_leaf=5, n_estimators=200, score=0.851, total=   1.3s\n",
      "[CV] max_depth=15, min_samples_leaf=5, n_estimators=200 ..............\n",
      "[CV]  max_depth=15, min_samples_leaf=5, n_estimators=200, score=0.831, total=   1.3s\n",
      "[CV] max_depth=15, min_samples_leaf=5, n_estimators=200 ..............\n",
      "[CV]  max_depth=15, min_samples_leaf=5, n_estimators=200, score=0.849, total=   1.3s\n",
      "[CV] max_depth=15, min_samples_leaf=5, n_estimators=250 ..............\n",
      "[CV]  max_depth=15, min_samples_leaf=5, n_estimators=250, score=0.859, total=   1.6s\n",
      "[CV] max_depth=15, min_samples_leaf=5, n_estimators=250 ..............\n",
      "[CV]  max_depth=15, min_samples_leaf=5, n_estimators=250, score=0.861, total=   1.7s\n",
      "[CV] max_depth=15, min_samples_leaf=5, n_estimators=250 ..............\n",
      "[CV]  max_depth=15, min_samples_leaf=5, n_estimators=250, score=0.850, total=   1.6s\n",
      "[CV] max_depth=15, min_samples_leaf=5, n_estimators=250 ..............\n",
      "[CV]  max_depth=15, min_samples_leaf=5, n_estimators=250, score=0.835, total=   1.6s\n",
      "[CV] max_depth=15, min_samples_leaf=5, n_estimators=250 ..............\n",
      "[CV]  max_depth=15, min_samples_leaf=5, n_estimators=250, score=0.849, total=   1.6s\n",
      "[CV] max_depth=15, min_samples_leaf=5, n_estimators=300 ..............\n",
      "[CV]  max_depth=15, min_samples_leaf=5, n_estimators=300, score=0.856, total=   2.0s\n",
      "[CV] max_depth=15, min_samples_leaf=5, n_estimators=300 ..............\n",
      "[CV]  max_depth=15, min_samples_leaf=5, n_estimators=300, score=0.850, total=   1.9s\n",
      "[CV] max_depth=15, min_samples_leaf=5, n_estimators=300 ..............\n",
      "[CV]  max_depth=15, min_samples_leaf=5, n_estimators=300, score=0.849, total=   2.0s\n",
      "[CV] max_depth=15, min_samples_leaf=5, n_estimators=300 ..............\n",
      "[CV]  max_depth=15, min_samples_leaf=5, n_estimators=300, score=0.831, total=   1.9s\n",
      "[CV] max_depth=15, min_samples_leaf=5, n_estimators=300 ..............\n",
      "[CV]  max_depth=15, min_samples_leaf=5, n_estimators=300, score=0.853, total=   2.0s\n",
      "[CV] max_depth=20, min_samples_leaf=2, n_estimators=150 ..............\n",
      "[CV]  max_depth=20, min_samples_leaf=2, n_estimators=150, score=0.849, total=   1.1s\n",
      "[CV] max_depth=20, min_samples_leaf=2, n_estimators=150 ..............\n",
      "[CV]  max_depth=20, min_samples_leaf=2, n_estimators=150, score=0.856, total=   1.1s\n",
      "[CV] max_depth=20, min_samples_leaf=2, n_estimators=150 ..............\n",
      "[CV]  max_depth=20, min_samples_leaf=2, n_estimators=150, score=0.853, total=   1.1s\n",
      "[CV] max_depth=20, min_samples_leaf=2, n_estimators=150 ..............\n",
      "[CV]  max_depth=20, min_samples_leaf=2, n_estimators=150, score=0.836, total=   1.1s\n",
      "[CV] max_depth=20, min_samples_leaf=2, n_estimators=150 ..............\n",
      "[CV]  max_depth=20, min_samples_leaf=2, n_estimators=150, score=0.851, total=   1.1s\n",
      "[CV] max_depth=20, min_samples_leaf=2, n_estimators=200 ..............\n",
      "[CV]  max_depth=20, min_samples_leaf=2, n_estimators=200, score=0.851, total=   1.4s\n",
      "[CV] max_depth=20, min_samples_leaf=2, n_estimators=200 ..............\n",
      "[CV]  max_depth=20, min_samples_leaf=2, n_estimators=200, score=0.864, total=   1.4s\n",
      "[CV] max_depth=20, min_samples_leaf=2, n_estimators=200 ..............\n",
      "[CV]  max_depth=20, min_samples_leaf=2, n_estimators=200, score=0.854, total=   1.4s\n",
      "[CV] max_depth=20, min_samples_leaf=2, n_estimators=200 ..............\n",
      "[CV]  max_depth=20, min_samples_leaf=2, n_estimators=200, score=0.835, total=   1.4s\n",
      "[CV] max_depth=20, min_samples_leaf=2, n_estimators=200 ..............\n",
      "[CV]  max_depth=20, min_samples_leaf=2, n_estimators=200, score=0.853, total=   1.4s\n",
      "[CV] max_depth=20, min_samples_leaf=2, n_estimators=250 ..............\n",
      "[CV]  max_depth=20, min_samples_leaf=2, n_estimators=250, score=0.851, total=   1.8s\n",
      "[CV] max_depth=20, min_samples_leaf=2, n_estimators=250 ..............\n",
      "[CV]  max_depth=20, min_samples_leaf=2, n_estimators=250, score=0.861, total=   1.7s\n",
      "[CV] max_depth=20, min_samples_leaf=2, n_estimators=250 ..............\n",
      "[CV]  max_depth=20, min_samples_leaf=2, n_estimators=250, score=0.858, total=   1.7s\n",
      "[CV] max_depth=20, min_samples_leaf=2, n_estimators=250 ..............\n",
      "[CV]  max_depth=20, min_samples_leaf=2, n_estimators=250, score=0.838, total=   1.7s\n",
      "[CV] max_depth=20, min_samples_leaf=2, n_estimators=250 ..............\n",
      "[CV]  max_depth=20, min_samples_leaf=2, n_estimators=250, score=0.853, total=   1.7s\n",
      "[CV] max_depth=20, min_samples_leaf=2, n_estimators=300 ..............\n",
      "[CV]  max_depth=20, min_samples_leaf=2, n_estimators=300, score=0.851, total=   2.1s\n",
      "[CV] max_depth=20, min_samples_leaf=2, n_estimators=300 ..............\n",
      "[CV]  max_depth=20, min_samples_leaf=2, n_estimators=300, score=0.860, total=   2.2s\n",
      "[CV] max_depth=20, min_samples_leaf=2, n_estimators=300 ..............\n",
      "[CV]  max_depth=20, min_samples_leaf=2, n_estimators=300, score=0.856, total=   2.0s\n",
      "[CV] max_depth=20, min_samples_leaf=2, n_estimators=300 ..............\n",
      "[CV]  max_depth=20, min_samples_leaf=2, n_estimators=300, score=0.833, total=   2.0s\n",
      "[CV] max_depth=20, min_samples_leaf=2, n_estimators=300 ..............\n",
      "[CV]  max_depth=20, min_samples_leaf=2, n_estimators=300, score=0.854, total=   2.0s\n",
      "[CV] max_depth=20, min_samples_leaf=3, n_estimators=150 ..............\n",
      "[CV]  max_depth=20, min_samples_leaf=3, n_estimators=150, score=0.851, total=   1.0s\n",
      "[CV] max_depth=20, min_samples_leaf=3, n_estimators=150 ..............\n",
      "[CV]  max_depth=20, min_samples_leaf=3, n_estimators=150, score=0.853, total=   1.0s\n",
      "[CV] max_depth=20, min_samples_leaf=3, n_estimators=150 ..............\n",
      "[CV]  max_depth=20, min_samples_leaf=3, n_estimators=150, score=0.856, total=   1.0s\n",
      "[CV] max_depth=20, min_samples_leaf=3, n_estimators=150 ..............\n",
      "[CV]  max_depth=20, min_samples_leaf=3, n_estimators=150, score=0.831, total=   1.0s\n",
      "[CV] max_depth=20, min_samples_leaf=3, n_estimators=150 ..............\n",
      "[CV]  max_depth=20, min_samples_leaf=3, n_estimators=150, score=0.851, total=   1.0s\n",
      "[CV] max_depth=20, min_samples_leaf=3, n_estimators=200 ..............\n",
      "[CV]  max_depth=20, min_samples_leaf=3, n_estimators=200, score=0.850, total=   1.3s\n",
      "[CV] max_depth=20, min_samples_leaf=3, n_estimators=200 ..............\n",
      "[CV]  max_depth=20, min_samples_leaf=3, n_estimators=200, score=0.853, total=   1.4s\n",
      "[CV] max_depth=20, min_samples_leaf=3, n_estimators=200 ..............\n"
     ]
    },
    {
     "name": "stdout",
     "output_type": "stream",
     "text": [
      "[CV]  max_depth=20, min_samples_leaf=3, n_estimators=200, score=0.850, total=   1.3s\n",
      "[CV] max_depth=20, min_samples_leaf=3, n_estimators=200 ..............\n",
      "[CV]  max_depth=20, min_samples_leaf=3, n_estimators=200, score=0.834, total=   1.5s\n",
      "[CV] max_depth=20, min_samples_leaf=3, n_estimators=200 ..............\n",
      "[CV]  max_depth=20, min_samples_leaf=3, n_estimators=200, score=0.854, total=   1.4s\n",
      "[CV] max_depth=20, min_samples_leaf=3, n_estimators=250 ..............\n",
      "[CV]  max_depth=20, min_samples_leaf=3, n_estimators=250, score=0.854, total=   1.7s\n",
      "[CV] max_depth=20, min_samples_leaf=3, n_estimators=250 ..............\n",
      "[CV]  max_depth=20, min_samples_leaf=3, n_estimators=250, score=0.858, total=   1.7s\n",
      "[CV] max_depth=20, min_samples_leaf=3, n_estimators=250 ..............\n",
      "[CV]  max_depth=20, min_samples_leaf=3, n_estimators=250, score=0.858, total=   1.6s\n",
      "[CV] max_depth=20, min_samples_leaf=3, n_estimators=250 ..............\n",
      "[CV]  max_depth=20, min_samples_leaf=3, n_estimators=250, score=0.834, total=   1.7s\n",
      "[CV] max_depth=20, min_samples_leaf=3, n_estimators=250 ..............\n",
      "[CV]  max_depth=20, min_samples_leaf=3, n_estimators=250, score=0.845, total=   1.7s\n",
      "[CV] max_depth=20, min_samples_leaf=3, n_estimators=300 ..............\n",
      "[CV]  max_depth=20, min_samples_leaf=3, n_estimators=300, score=0.851, total=   2.0s\n",
      "[CV] max_depth=20, min_samples_leaf=3, n_estimators=300 ..............\n",
      "[CV]  max_depth=20, min_samples_leaf=3, n_estimators=300, score=0.855, total=   2.0s\n",
      "[CV] max_depth=20, min_samples_leaf=3, n_estimators=300 ..............\n",
      "[CV]  max_depth=20, min_samples_leaf=3, n_estimators=300, score=0.861, total=   2.0s\n",
      "[CV] max_depth=20, min_samples_leaf=3, n_estimators=300 ..............\n",
      "[CV]  max_depth=20, min_samples_leaf=3, n_estimators=300, score=0.835, total=   2.0s\n",
      "[CV] max_depth=20, min_samples_leaf=3, n_estimators=300 ..............\n",
      "[CV]  max_depth=20, min_samples_leaf=3, n_estimators=300, score=0.853, total=   2.0s\n",
      "[CV] max_depth=20, min_samples_leaf=4, n_estimators=150 ..............\n",
      "[CV]  max_depth=20, min_samples_leaf=4, n_estimators=150, score=0.858, total=   1.2s\n",
      "[CV] max_depth=20, min_samples_leaf=4, n_estimators=150 ..............\n",
      "[CV]  max_depth=20, min_samples_leaf=4, n_estimators=150, score=0.856, total=   1.0s\n",
      "[CV] max_depth=20, min_samples_leaf=4, n_estimators=150 ..............\n",
      "[CV]  max_depth=20, min_samples_leaf=4, n_estimators=150, score=0.853, total=   1.0s\n",
      "[CV] max_depth=20, min_samples_leaf=4, n_estimators=150 ..............\n",
      "[CV]  max_depth=20, min_samples_leaf=4, n_estimators=150, score=0.831, total=   1.0s\n",
      "[CV] max_depth=20, min_samples_leaf=4, n_estimators=150 ..............\n",
      "[CV]  max_depth=20, min_samples_leaf=4, n_estimators=150, score=0.858, total=   1.0s\n",
      "[CV] max_depth=20, min_samples_leaf=4, n_estimators=200 ..............\n",
      "[CV]  max_depth=20, min_samples_leaf=4, n_estimators=200, score=0.854, total=   1.3s\n",
      "[CV] max_depth=20, min_samples_leaf=4, n_estimators=200 ..............\n",
      "[CV]  max_depth=20, min_samples_leaf=4, n_estimators=200, score=0.853, total=   1.6s\n",
      "[CV] max_depth=20, min_samples_leaf=4, n_estimators=200 ..............\n",
      "[CV]  max_depth=20, min_samples_leaf=4, n_estimators=200, score=0.851, total=   1.4s\n",
      "[CV] max_depth=20, min_samples_leaf=4, n_estimators=200 ..............\n",
      "[CV]  max_depth=20, min_samples_leaf=4, n_estimators=200, score=0.836, total=   1.4s\n",
      "[CV] max_depth=20, min_samples_leaf=4, n_estimators=200 ..............\n",
      "[CV]  max_depth=20, min_samples_leaf=4, n_estimators=200, score=0.854, total=   1.3s\n",
      "[CV] max_depth=20, min_samples_leaf=4, n_estimators=250 ..............\n",
      "[CV]  max_depth=20, min_samples_leaf=4, n_estimators=250, score=0.855, total=   1.6s\n",
      "[CV] max_depth=20, min_samples_leaf=4, n_estimators=250 ..............\n",
      "[CV]  max_depth=20, min_samples_leaf=4, n_estimators=250, score=0.848, total=   1.7s\n",
      "[CV] max_depth=20, min_samples_leaf=4, n_estimators=250 ..............\n",
      "[CV]  max_depth=20, min_samples_leaf=4, n_estimators=250, score=0.855, total=   1.6s\n",
      "[CV] max_depth=20, min_samples_leaf=4, n_estimators=250 ..............\n",
      "[CV]  max_depth=20, min_samples_leaf=4, n_estimators=250, score=0.831, total=   1.7s\n",
      "[CV] max_depth=20, min_samples_leaf=4, n_estimators=250 ..............\n",
      "[CV]  max_depth=20, min_samples_leaf=4, n_estimators=250, score=0.856, total=   1.6s\n",
      "[CV] max_depth=20, min_samples_leaf=4, n_estimators=300 ..............\n",
      "[CV]  max_depth=20, min_samples_leaf=4, n_estimators=300, score=0.853, total=   2.0s\n",
      "[CV] max_depth=20, min_samples_leaf=4, n_estimators=300 ..............\n",
      "[CV]  max_depth=20, min_samples_leaf=4, n_estimators=300, score=0.855, total=   2.0s\n",
      "[CV] max_depth=20, min_samples_leaf=4, n_estimators=300 ..............\n",
      "[CV]  max_depth=20, min_samples_leaf=4, n_estimators=300, score=0.851, total=   2.0s\n",
      "[CV] max_depth=20, min_samples_leaf=4, n_estimators=300 ..............\n",
      "[CV]  max_depth=20, min_samples_leaf=4, n_estimators=300, score=0.834, total=   2.0s\n",
      "[CV] max_depth=20, min_samples_leaf=4, n_estimators=300 ..............\n",
      "[CV]  max_depth=20, min_samples_leaf=4, n_estimators=300, score=0.855, total=   2.0s\n",
      "[CV] max_depth=20, min_samples_leaf=5, n_estimators=150 ..............\n",
      "[CV]  max_depth=20, min_samples_leaf=5, n_estimators=150, score=0.864, total=   1.0s\n",
      "[CV] max_depth=20, min_samples_leaf=5, n_estimators=150 ..............\n",
      "[CV]  max_depth=20, min_samples_leaf=5, n_estimators=150, score=0.860, total=   1.0s\n",
      "[CV] max_depth=20, min_samples_leaf=5, n_estimators=150 ..............\n",
      "[CV]  max_depth=20, min_samples_leaf=5, n_estimators=150, score=0.849, total=   1.0s\n",
      "[CV] max_depth=20, min_samples_leaf=5, n_estimators=150 ..............\n",
      "[CV]  max_depth=20, min_samples_leaf=5, n_estimators=150, score=0.831, total=   1.0s\n",
      "[CV] max_depth=20, min_samples_leaf=5, n_estimators=150 ..............\n",
      "[CV]  max_depth=20, min_samples_leaf=5, n_estimators=150, score=0.851, total=   0.9s\n",
      "[CV] max_depth=20, min_samples_leaf=5, n_estimators=200 ..............\n",
      "[CV]  max_depth=20, min_samples_leaf=5, n_estimators=200, score=0.851, total=   1.3s\n",
      "[CV] max_depth=20, min_samples_leaf=5, n_estimators=200 ..............\n",
      "[CV]  max_depth=20, min_samples_leaf=5, n_estimators=200, score=0.859, total=   1.2s\n",
      "[CV] max_depth=20, min_samples_leaf=5, n_estimators=200 ..............\n",
      "[CV]  max_depth=20, min_samples_leaf=5, n_estimators=200, score=0.848, total=   1.3s\n",
      "[CV] max_depth=20, min_samples_leaf=5, n_estimators=200 ..............\n",
      "[CV]  max_depth=20, min_samples_leaf=5, n_estimators=200, score=0.831, total=   1.3s\n",
      "[CV] max_depth=20, min_samples_leaf=5, n_estimators=200 ..............\n",
      "[CV]  max_depth=20, min_samples_leaf=5, n_estimators=200, score=0.846, total=   1.4s\n",
      "[CV] max_depth=20, min_samples_leaf=5, n_estimators=250 ..............\n",
      "[CV]  max_depth=20, min_samples_leaf=5, n_estimators=250, score=0.855, total=   1.6s\n",
      "[CV] max_depth=20, min_samples_leaf=5, n_estimators=250 ..............\n",
      "[CV]  max_depth=20, min_samples_leaf=5, n_estimators=250, score=0.853, total=   1.6s\n",
      "[CV] max_depth=20, min_samples_leaf=5, n_estimators=250 ..............\n",
      "[CV]  max_depth=20, min_samples_leaf=5, n_estimators=250, score=0.849, total=   1.6s\n",
      "[CV] max_depth=20, min_samples_leaf=5, n_estimators=250 ..............\n",
      "[CV]  max_depth=20, min_samples_leaf=5, n_estimators=250, score=0.833, total=   1.7s\n",
      "[CV] max_depth=20, min_samples_leaf=5, n_estimators=250 ..............\n",
      "[CV]  max_depth=20, min_samples_leaf=5, n_estimators=250, score=0.850, total=   1.6s\n",
      "[CV] max_depth=20, min_samples_leaf=5, n_estimators=300 ..............\n",
      "[CV]  max_depth=20, min_samples_leaf=5, n_estimators=300, score=0.860, total=   1.9s\n",
      "[CV] max_depth=20, min_samples_leaf=5, n_estimators=300 ..............\n",
      "[CV]  max_depth=20, min_samples_leaf=5, n_estimators=300, score=0.854, total=   1.9s\n",
      "[CV] max_depth=20, min_samples_leaf=5, n_estimators=300 ..............\n",
      "[CV]  max_depth=20, min_samples_leaf=5, n_estimators=300, score=0.848, total=   1.9s\n",
      "[CV] max_depth=20, min_samples_leaf=5, n_estimators=300 ..............\n",
      "[CV]  max_depth=20, min_samples_leaf=5, n_estimators=300, score=0.834, total=   1.9s\n",
      "[CV] max_depth=20, min_samples_leaf=5, n_estimators=300 ..............\n",
      "[CV]  max_depth=20, min_samples_leaf=5, n_estimators=300, score=0.856, total=   1.9s\n",
      "[CV] max_depth=25, min_samples_leaf=2, n_estimators=150 ..............\n"
     ]
    },
    {
     "name": "stdout",
     "output_type": "stream",
     "text": [
      "[CV]  max_depth=25, min_samples_leaf=2, n_estimators=150, score=0.851, total=   1.0s\n",
      "[CV] max_depth=25, min_samples_leaf=2, n_estimators=150 ..............\n",
      "[CV]  max_depth=25, min_samples_leaf=2, n_estimators=150, score=0.854, total=   1.0s\n",
      "[CV] max_depth=25, min_samples_leaf=2, n_estimators=150 ..............\n",
      "[CV]  max_depth=25, min_samples_leaf=2, n_estimators=150, score=0.856, total=   0.9s\n",
      "[CV] max_depth=25, min_samples_leaf=2, n_estimators=150 ..............\n",
      "[CV]  max_depth=25, min_samples_leaf=2, n_estimators=150, score=0.834, total=   1.1s\n",
      "[CV] max_depth=25, min_samples_leaf=2, n_estimators=150 ..............\n",
      "[CV]  max_depth=25, min_samples_leaf=2, n_estimators=150, score=0.858, total=   1.0s\n",
      "[CV] max_depth=25, min_samples_leaf=2, n_estimators=200 ..............\n",
      "[CV]  max_depth=25, min_samples_leaf=2, n_estimators=200, score=0.851, total=   1.4s\n",
      "[CV] max_depth=25, min_samples_leaf=2, n_estimators=200 ..............\n",
      "[CV]  max_depth=25, min_samples_leaf=2, n_estimators=200, score=0.848, total=   1.6s\n",
      "[CV] max_depth=25, min_samples_leaf=2, n_estimators=200 ..............\n",
      "[CV]  max_depth=25, min_samples_leaf=2, n_estimators=200, score=0.851, total=   1.6s\n",
      "[CV] max_depth=25, min_samples_leaf=2, n_estimators=200 ..............\n",
      "[CV]  max_depth=25, min_samples_leaf=2, n_estimators=200, score=0.843, total=   1.4s\n",
      "[CV] max_depth=25, min_samples_leaf=2, n_estimators=200 ..............\n",
      "[CV]  max_depth=25, min_samples_leaf=2, n_estimators=200, score=0.858, total=   1.4s\n",
      "[CV] max_depth=25, min_samples_leaf=2, n_estimators=250 ..............\n",
      "[CV]  max_depth=25, min_samples_leaf=2, n_estimators=250, score=0.849, total=   1.7s\n",
      "[CV] max_depth=25, min_samples_leaf=2, n_estimators=250 ..............\n",
      "[CV]  max_depth=25, min_samples_leaf=2, n_estimators=250, score=0.861, total=   1.8s\n",
      "[CV] max_depth=25, min_samples_leaf=2, n_estimators=250 ..............\n",
      "[CV]  max_depth=25, min_samples_leaf=2, n_estimators=250, score=0.851, total=   1.7s\n",
      "[CV] max_depth=25, min_samples_leaf=2, n_estimators=250 ..............\n",
      "[CV]  max_depth=25, min_samples_leaf=2, n_estimators=250, score=0.826, total=   1.7s\n",
      "[CV] max_depth=25, min_samples_leaf=2, n_estimators=250 ..............\n",
      "[CV]  max_depth=25, min_samples_leaf=2, n_estimators=250, score=0.853, total=   1.7s\n",
      "[CV] max_depth=25, min_samples_leaf=2, n_estimators=300 ..............\n",
      "[CV]  max_depth=25, min_samples_leaf=2, n_estimators=300, score=0.848, total=   2.0s\n",
      "[CV] max_depth=25, min_samples_leaf=2, n_estimators=300 ..............\n",
      "[CV]  max_depth=25, min_samples_leaf=2, n_estimators=300, score=0.858, total=   2.1s\n",
      "[CV] max_depth=25, min_samples_leaf=2, n_estimators=300 ..............\n",
      "[CV]  max_depth=25, min_samples_leaf=2, n_estimators=300, score=0.859, total=   2.1s\n",
      "[CV] max_depth=25, min_samples_leaf=2, n_estimators=300 ..............\n",
      "[CV]  max_depth=25, min_samples_leaf=2, n_estimators=300, score=0.838, total=   2.1s\n",
      "[CV] max_depth=25, min_samples_leaf=2, n_estimators=300 ..............\n",
      "[CV]  max_depth=25, min_samples_leaf=2, n_estimators=300, score=0.858, total=   2.1s\n",
      "[CV] max_depth=25, min_samples_leaf=3, n_estimators=150 ..............\n",
      "[CV]  max_depth=25, min_samples_leaf=3, n_estimators=150, score=0.850, total=   1.0s\n",
      "[CV] max_depth=25, min_samples_leaf=3, n_estimators=150 ..............\n",
      "[CV]  max_depth=25, min_samples_leaf=3, n_estimators=150, score=0.851, total=   1.0s\n",
      "[CV] max_depth=25, min_samples_leaf=3, n_estimators=150 ..............\n",
      "[CV]  max_depth=25, min_samples_leaf=3, n_estimators=150, score=0.855, total=   1.0s\n",
      "[CV] max_depth=25, min_samples_leaf=3, n_estimators=150 ..............\n",
      "[CV]  max_depth=25, min_samples_leaf=3, n_estimators=150, score=0.840, total=   1.0s\n",
      "[CV] max_depth=25, min_samples_leaf=3, n_estimators=150 ..............\n",
      "[CV]  max_depth=25, min_samples_leaf=3, n_estimators=150, score=0.858, total=   1.0s\n",
      "[CV] max_depth=25, min_samples_leaf=3, n_estimators=200 ..............\n",
      "[CV]  max_depth=25, min_samples_leaf=3, n_estimators=200, score=0.849, total=   1.3s\n",
      "[CV] max_depth=25, min_samples_leaf=3, n_estimators=200 ..............\n",
      "[CV]  max_depth=25, min_samples_leaf=3, n_estimators=200, score=0.860, total=   1.3s\n",
      "[CV] max_depth=25, min_samples_leaf=3, n_estimators=200 ..............\n",
      "[CV]  max_depth=25, min_samples_leaf=3, n_estimators=200, score=0.856, total=   1.3s\n",
      "[CV] max_depth=25, min_samples_leaf=3, n_estimators=200 ..............\n",
      "[CV]  max_depth=25, min_samples_leaf=3, n_estimators=200, score=0.833, total=   1.3s\n",
      "[CV] max_depth=25, min_samples_leaf=3, n_estimators=200 ..............\n",
      "[CV]  max_depth=25, min_samples_leaf=3, n_estimators=200, score=0.856, total=   1.4s\n",
      "[CV] max_depth=25, min_samples_leaf=3, n_estimators=250 ..............\n",
      "[CV]  max_depth=25, min_samples_leaf=3, n_estimators=250, score=0.850, total=   1.6s\n",
      "[CV] max_depth=25, min_samples_leaf=3, n_estimators=250 ..............\n",
      "[CV]  max_depth=25, min_samples_leaf=3, n_estimators=250, score=0.861, total=   1.6s\n",
      "[CV] max_depth=25, min_samples_leaf=3, n_estimators=250 ..............\n",
      "[CV]  max_depth=25, min_samples_leaf=3, n_estimators=250, score=0.854, total=   1.7s\n",
      "[CV] max_depth=25, min_samples_leaf=3, n_estimators=250 ..............\n",
      "[CV]  max_depth=25, min_samples_leaf=3, n_estimators=250, score=0.831, total=   1.7s\n",
      "[CV] max_depth=25, min_samples_leaf=3, n_estimators=250 ..............\n",
      "[CV]  max_depth=25, min_samples_leaf=3, n_estimators=250, score=0.856, total=   1.7s\n",
      "[CV] max_depth=25, min_samples_leaf=3, n_estimators=300 ..............\n",
      "[CV]  max_depth=25, min_samples_leaf=3, n_estimators=300, score=0.849, total=   2.1s\n",
      "[CV] max_depth=25, min_samples_leaf=3, n_estimators=300 ..............\n",
      "[CV]  max_depth=25, min_samples_leaf=3, n_estimators=300, score=0.854, total=   2.0s\n",
      "[CV] max_depth=25, min_samples_leaf=3, n_estimators=300 ..............\n",
      "[CV]  max_depth=25, min_samples_leaf=3, n_estimators=300, score=0.855, total=   2.0s\n",
      "[CV] max_depth=25, min_samples_leaf=3, n_estimators=300 ..............\n",
      "[CV]  max_depth=25, min_samples_leaf=3, n_estimators=300, score=0.826, total=   2.1s\n",
      "[CV] max_depth=25, min_samples_leaf=3, n_estimators=300 ..............\n",
      "[CV]  max_depth=25, min_samples_leaf=3, n_estimators=300, score=0.854, total=   2.0s\n",
      "[CV] max_depth=25, min_samples_leaf=4, n_estimators=150 ..............\n",
      "[CV]  max_depth=25, min_samples_leaf=4, n_estimators=150, score=0.850, total=   1.0s\n",
      "[CV] max_depth=25, min_samples_leaf=4, n_estimators=150 ..............\n",
      "[CV]  max_depth=25, min_samples_leaf=4, n_estimators=150, score=0.856, total=   1.0s\n",
      "[CV] max_depth=25, min_samples_leaf=4, n_estimators=150 ..............\n",
      "[CV]  max_depth=25, min_samples_leaf=4, n_estimators=150, score=0.851, total=   1.0s\n",
      "[CV] max_depth=25, min_samples_leaf=4, n_estimators=150 ..............\n",
      "[CV]  max_depth=25, min_samples_leaf=4, n_estimators=150, score=0.834, total=   1.0s\n",
      "[CV] max_depth=25, min_samples_leaf=4, n_estimators=150 ..............\n",
      "[CV]  max_depth=25, min_samples_leaf=4, n_estimators=150, score=0.858, total=   1.0s\n",
      "[CV] max_depth=25, min_samples_leaf=4, n_estimators=200 ..............\n",
      "[CV]  max_depth=25, min_samples_leaf=4, n_estimators=200, score=0.856, total=   1.3s\n",
      "[CV] max_depth=25, min_samples_leaf=4, n_estimators=200 ..............\n",
      "[CV]  max_depth=25, min_samples_leaf=4, n_estimators=200, score=0.859, total=   1.3s\n",
      "[CV] max_depth=25, min_samples_leaf=4, n_estimators=200 ..............\n",
      "[CV]  max_depth=25, min_samples_leaf=4, n_estimators=200, score=0.856, total=   1.3s\n",
      "[CV] max_depth=25, min_samples_leaf=4, n_estimators=200 ..............\n",
      "[CV]  max_depth=25, min_samples_leaf=4, n_estimators=200, score=0.833, total=   1.3s\n",
      "[CV] max_depth=25, min_samples_leaf=4, n_estimators=200 ..............\n",
      "[CV]  max_depth=25, min_samples_leaf=4, n_estimators=200, score=0.855, total=   1.3s\n",
      "[CV] max_depth=25, min_samples_leaf=4, n_estimators=250 ..............\n",
      "[CV]  max_depth=25, min_samples_leaf=4, n_estimators=250, score=0.856, total=   1.6s\n",
      "[CV] max_depth=25, min_samples_leaf=4, n_estimators=250 ..............\n",
      "[CV]  max_depth=25, min_samples_leaf=4, n_estimators=250, score=0.858, total=   1.7s\n",
      "[CV] max_depth=25, min_samples_leaf=4, n_estimators=250 ..............\n",
      "[CV]  max_depth=25, min_samples_leaf=4, n_estimators=250, score=0.854, total=   1.7s\n",
      "[CV] max_depth=25, min_samples_leaf=4, n_estimators=250 ..............\n"
     ]
    },
    {
     "name": "stdout",
     "output_type": "stream",
     "text": [
      "[CV]  max_depth=25, min_samples_leaf=4, n_estimators=250, score=0.839, total=   1.6s\n",
      "[CV] max_depth=25, min_samples_leaf=4, n_estimators=250 ..............\n",
      "[CV]  max_depth=25, min_samples_leaf=4, n_estimators=250, score=0.850, total=   1.6s\n",
      "[CV] max_depth=25, min_samples_leaf=4, n_estimators=300 ..............\n",
      "[CV]  max_depth=25, min_samples_leaf=4, n_estimators=300, score=0.855, total=   2.0s\n",
      "[CV] max_depth=25, min_samples_leaf=4, n_estimators=300 ..............\n",
      "[CV]  max_depth=25, min_samples_leaf=4, n_estimators=300, score=0.861, total=   2.0s\n",
      "[CV] max_depth=25, min_samples_leaf=4, n_estimators=300 ..............\n",
      "[CV]  max_depth=25, min_samples_leaf=4, n_estimators=300, score=0.855, total=   2.0s\n",
      "[CV] max_depth=25, min_samples_leaf=4, n_estimators=300 ..............\n",
      "[CV]  max_depth=25, min_samples_leaf=4, n_estimators=300, score=0.835, total=   2.0s\n",
      "[CV] max_depth=25, min_samples_leaf=4, n_estimators=300 ..............\n",
      "[CV]  max_depth=25, min_samples_leaf=4, n_estimators=300, score=0.855, total=   1.9s\n",
      "[CV] max_depth=25, min_samples_leaf=5, n_estimators=150 ..............\n",
      "[CV]  max_depth=25, min_samples_leaf=5, n_estimators=150, score=0.854, total=   1.0s\n",
      "[CV] max_depth=25, min_samples_leaf=5, n_estimators=150 ..............\n",
      "[CV]  max_depth=25, min_samples_leaf=5, n_estimators=150, score=0.856, total=   1.0s\n",
      "[CV] max_depth=25, min_samples_leaf=5, n_estimators=150 ..............\n",
      "[CV]  max_depth=25, min_samples_leaf=5, n_estimators=150, score=0.849, total=   1.0s\n",
      "[CV] max_depth=25, min_samples_leaf=5, n_estimators=150 ..............\n",
      "[CV]  max_depth=25, min_samples_leaf=5, n_estimators=150, score=0.833, total=   0.9s\n",
      "[CV] max_depth=25, min_samples_leaf=5, n_estimators=150 ..............\n",
      "[CV]  max_depth=25, min_samples_leaf=5, n_estimators=150, score=0.854, total=   1.0s\n",
      "[CV] max_depth=25, min_samples_leaf=5, n_estimators=200 ..............\n",
      "[CV]  max_depth=25, min_samples_leaf=5, n_estimators=200, score=0.860, total=   1.3s\n",
      "[CV] max_depth=25, min_samples_leaf=5, n_estimators=200 ..............\n",
      "[CV]  max_depth=25, min_samples_leaf=5, n_estimators=200, score=0.855, total=   1.4s\n",
      "[CV] max_depth=25, min_samples_leaf=5, n_estimators=200 ..............\n",
      "[CV]  max_depth=25, min_samples_leaf=5, n_estimators=200, score=0.853, total=   1.3s\n",
      "[CV] max_depth=25, min_samples_leaf=5, n_estimators=200 ..............\n",
      "[CV]  max_depth=25, min_samples_leaf=5, n_estimators=200, score=0.836, total=   1.3s\n",
      "[CV] max_depth=25, min_samples_leaf=5, n_estimators=200 ..............\n",
      "[CV]  max_depth=25, min_samples_leaf=5, n_estimators=200, score=0.854, total=   1.3s\n",
      "[CV] max_depth=25, min_samples_leaf=5, n_estimators=250 ..............\n",
      "[CV]  max_depth=25, min_samples_leaf=5, n_estimators=250, score=0.854, total=   1.6s\n",
      "[CV] max_depth=25, min_samples_leaf=5, n_estimators=250 ..............\n",
      "[CV]  max_depth=25, min_samples_leaf=5, n_estimators=250, score=0.853, total=   1.6s\n",
      "[CV] max_depth=25, min_samples_leaf=5, n_estimators=250 ..............\n",
      "[CV]  max_depth=25, min_samples_leaf=5, n_estimators=250, score=0.854, total=   1.6s\n",
      "[CV] max_depth=25, min_samples_leaf=5, n_estimators=250 ..............\n",
      "[CV]  max_depth=25, min_samples_leaf=5, n_estimators=250, score=0.836, total=   1.6s\n",
      "[CV] max_depth=25, min_samples_leaf=5, n_estimators=250 ..............\n",
      "[CV]  max_depth=25, min_samples_leaf=5, n_estimators=250, score=0.851, total=   1.6s\n",
      "[CV] max_depth=25, min_samples_leaf=5, n_estimators=300 ..............\n",
      "[CV]  max_depth=25, min_samples_leaf=5, n_estimators=300, score=0.855, total=   1.9s\n",
      "[CV] max_depth=25, min_samples_leaf=5, n_estimators=300 ..............\n",
      "[CV]  max_depth=25, min_samples_leaf=5, n_estimators=300, score=0.854, total=   2.0s\n",
      "[CV] max_depth=25, min_samples_leaf=5, n_estimators=300 ..............\n",
      "[CV]  max_depth=25, min_samples_leaf=5, n_estimators=300, score=0.858, total=   1.9s\n",
      "[CV] max_depth=25, min_samples_leaf=5, n_estimators=300 ..............\n",
      "[CV]  max_depth=25, min_samples_leaf=5, n_estimators=300, score=0.831, total=   2.0s\n",
      "[CV] max_depth=25, min_samples_leaf=5, n_estimators=300 ..............\n",
      "[CV]  max_depth=25, min_samples_leaf=5, n_estimators=300, score=0.851, total=   1.9s\n",
      "[CV] max_depth=30, min_samples_leaf=2, n_estimators=150 ..............\n",
      "[CV]  max_depth=30, min_samples_leaf=2, n_estimators=150, score=0.856, total=   1.0s\n",
      "[CV] max_depth=30, min_samples_leaf=2, n_estimators=150 ..............\n",
      "[CV]  max_depth=30, min_samples_leaf=2, n_estimators=150, score=0.853, total=   1.1s\n",
      "[CV] max_depth=30, min_samples_leaf=2, n_estimators=150 ..............\n",
      "[CV]  max_depth=30, min_samples_leaf=2, n_estimators=150, score=0.850, total=   1.1s\n",
      "[CV] max_depth=30, min_samples_leaf=2, n_estimators=150 ..............\n",
      "[CV]  max_depth=30, min_samples_leaf=2, n_estimators=150, score=0.836, total=   1.0s\n",
      "[CV] max_depth=30, min_samples_leaf=2, n_estimators=150 ..............\n",
      "[CV]  max_depth=30, min_samples_leaf=2, n_estimators=150, score=0.855, total=   1.0s\n",
      "[CV] max_depth=30, min_samples_leaf=2, n_estimators=200 ..............\n",
      "[CV]  max_depth=30, min_samples_leaf=2, n_estimators=200, score=0.845, total=   1.4s\n",
      "[CV] max_depth=30, min_samples_leaf=2, n_estimators=200 ..............\n",
      "[CV]  max_depth=30, min_samples_leaf=2, n_estimators=200, score=0.853, total=   1.4s\n",
      "[CV] max_depth=30, min_samples_leaf=2, n_estimators=200 ..............\n",
      "[CV]  max_depth=30, min_samples_leaf=2, n_estimators=200, score=0.856, total=   1.4s\n",
      "[CV] max_depth=30, min_samples_leaf=2, n_estimators=200 ..............\n",
      "[CV]  max_depth=30, min_samples_leaf=2, n_estimators=200, score=0.829, total=   1.4s\n",
      "[CV] max_depth=30, min_samples_leaf=2, n_estimators=200 ..............\n",
      "[CV]  max_depth=30, min_samples_leaf=2, n_estimators=200, score=0.855, total=   1.4s\n",
      "[CV] max_depth=30, min_samples_leaf=2, n_estimators=250 ..............\n",
      "[CV]  max_depth=30, min_samples_leaf=2, n_estimators=250, score=0.853, total=   1.8s\n",
      "[CV] max_depth=30, min_samples_leaf=2, n_estimators=250 ..............\n",
      "[CV]  max_depth=30, min_samples_leaf=2, n_estimators=250, score=0.854, total=   1.8s\n",
      "[CV] max_depth=30, min_samples_leaf=2, n_estimators=250 ..............\n",
      "[CV]  max_depth=30, min_samples_leaf=2, n_estimators=250, score=0.856, total=   1.8s\n",
      "[CV] max_depth=30, min_samples_leaf=2, n_estimators=250 ..............\n",
      "[CV]  max_depth=30, min_samples_leaf=2, n_estimators=250, score=0.829, total=   1.7s\n",
      "[CV] max_depth=30, min_samples_leaf=2, n_estimators=250 ..............\n",
      "[CV]  max_depth=30, min_samples_leaf=2, n_estimators=250, score=0.859, total=   1.7s\n",
      "[CV] max_depth=30, min_samples_leaf=2, n_estimators=300 ..............\n",
      "[CV]  max_depth=30, min_samples_leaf=2, n_estimators=300, score=0.851, total=   2.0s\n",
      "[CV] max_depth=30, min_samples_leaf=2, n_estimators=300 ..............\n",
      "[CV]  max_depth=30, min_samples_leaf=2, n_estimators=300, score=0.858, total=   2.0s\n",
      "[CV] max_depth=30, min_samples_leaf=2, n_estimators=300 ..............\n",
      "[CV]  max_depth=30, min_samples_leaf=2, n_estimators=300, score=0.858, total=   2.0s\n",
      "[CV] max_depth=30, min_samples_leaf=2, n_estimators=300 ..............\n",
      "[CV]  max_depth=30, min_samples_leaf=2, n_estimators=300, score=0.839, total=   2.0s\n",
      "[CV] max_depth=30, min_samples_leaf=2, n_estimators=300 ..............\n",
      "[CV]  max_depth=30, min_samples_leaf=2, n_estimators=300, score=0.854, total=   2.1s\n",
      "[CV] max_depth=30, min_samples_leaf=3, n_estimators=150 ..............\n",
      "[CV]  max_depth=30, min_samples_leaf=3, n_estimators=150, score=0.854, total=   1.0s\n",
      "[CV] max_depth=30, min_samples_leaf=3, n_estimators=150 ..............\n",
      "[CV]  max_depth=30, min_samples_leaf=3, n_estimators=150, score=0.855, total=   1.0s\n",
      "[CV] max_depth=30, min_samples_leaf=3, n_estimators=150 ..............\n",
      "[CV]  max_depth=30, min_samples_leaf=3, n_estimators=150, score=0.853, total=   1.0s\n",
      "[CV] max_depth=30, min_samples_leaf=3, n_estimators=150 ..............\n",
      "[CV]  max_depth=30, min_samples_leaf=3, n_estimators=150, score=0.835, total=   1.0s\n",
      "[CV] max_depth=30, min_samples_leaf=3, n_estimators=150 ..............\n",
      "[CV]  max_depth=30, min_samples_leaf=3, n_estimators=150, score=0.851, total=   1.0s\n",
      "[CV] max_depth=30, min_samples_leaf=3, n_estimators=200 ..............\n",
      "[CV]  max_depth=30, min_samples_leaf=3, n_estimators=200, score=0.848, total=   1.4s\n",
      "[CV] max_depth=30, min_samples_leaf=3, n_estimators=200 ..............\n"
     ]
    },
    {
     "name": "stdout",
     "output_type": "stream",
     "text": [
      "[CV]  max_depth=30, min_samples_leaf=3, n_estimators=200, score=0.855, total=   1.3s\n",
      "[CV] max_depth=30, min_samples_leaf=3, n_estimators=200 ..............\n",
      "[CV]  max_depth=30, min_samples_leaf=3, n_estimators=200, score=0.855, total=   1.3s\n",
      "[CV] max_depth=30, min_samples_leaf=3, n_estimators=200 ..............\n",
      "[CV]  max_depth=30, min_samples_leaf=3, n_estimators=200, score=0.836, total=   1.4s\n",
      "[CV] max_depth=30, min_samples_leaf=3, n_estimators=200 ..............\n",
      "[CV]  max_depth=30, min_samples_leaf=3, n_estimators=200, score=0.855, total=   1.3s\n",
      "[CV] max_depth=30, min_samples_leaf=3, n_estimators=250 ..............\n",
      "[CV]  max_depth=30, min_samples_leaf=3, n_estimators=250, score=0.851, total=   1.7s\n",
      "[CV] max_depth=30, min_samples_leaf=3, n_estimators=250 ..............\n",
      "[CV]  max_depth=30, min_samples_leaf=3, n_estimators=250, score=0.851, total=   1.6s\n",
      "[CV] max_depth=30, min_samples_leaf=3, n_estimators=250 ..............\n",
      "[CV]  max_depth=30, min_samples_leaf=3, n_estimators=250, score=0.854, total=   1.7s\n",
      "[CV] max_depth=30, min_samples_leaf=3, n_estimators=250 ..............\n",
      "[CV]  max_depth=30, min_samples_leaf=3, n_estimators=250, score=0.836, total=   1.7s\n",
      "[CV] max_depth=30, min_samples_leaf=3, n_estimators=250 ..............\n",
      "[CV]  max_depth=30, min_samples_leaf=3, n_estimators=250, score=0.853, total=   1.7s\n",
      "[CV] max_depth=30, min_samples_leaf=3, n_estimators=300 ..............\n",
      "[CV]  max_depth=30, min_samples_leaf=3, n_estimators=300, score=0.851, total=   7.5s\n",
      "[CV] max_depth=30, min_samples_leaf=3, n_estimators=300 ..............\n",
      "[CV]  max_depth=30, min_samples_leaf=3, n_estimators=300, score=0.854, total=   2.0s\n",
      "[CV] max_depth=30, min_samples_leaf=3, n_estimators=300 ..............\n",
      "[CV]  max_depth=30, min_samples_leaf=3, n_estimators=300, score=0.853, total=   2.0s\n",
      "[CV] max_depth=30, min_samples_leaf=3, n_estimators=300 ..............\n",
      "[CV]  max_depth=30, min_samples_leaf=3, n_estimators=300, score=0.836, total=   2.1s\n",
      "[CV] max_depth=30, min_samples_leaf=3, n_estimators=300 ..............\n",
      "[CV]  max_depth=30, min_samples_leaf=3, n_estimators=300, score=0.855, total=   2.0s\n",
      "[CV] max_depth=30, min_samples_leaf=4, n_estimators=150 ..............\n",
      "[CV]  max_depth=30, min_samples_leaf=4, n_estimators=150, score=0.851, total=   1.1s\n",
      "[CV] max_depth=30, min_samples_leaf=4, n_estimators=150 ..............\n",
      "[CV]  max_depth=30, min_samples_leaf=4, n_estimators=150, score=0.850, total=   1.0s\n",
      "[CV] max_depth=30, min_samples_leaf=4, n_estimators=150 ..............\n",
      "[CV]  max_depth=30, min_samples_leaf=4, n_estimators=150, score=0.851, total=   1.0s\n",
      "[CV] max_depth=30, min_samples_leaf=4, n_estimators=150 ..............\n",
      "[CV]  max_depth=30, min_samples_leaf=4, n_estimators=150, score=0.835, total=   1.0s\n",
      "[CV] max_depth=30, min_samples_leaf=4, n_estimators=150 ..............\n",
      "[CV]  max_depth=30, min_samples_leaf=4, n_estimators=150, score=0.849, total=   1.0s\n",
      "[CV] max_depth=30, min_samples_leaf=4, n_estimators=200 ..............\n",
      "[CV]  max_depth=30, min_samples_leaf=4, n_estimators=200, score=0.853, total=   1.3s\n",
      "[CV] max_depth=30, min_samples_leaf=4, n_estimators=200 ..............\n",
      "[CV]  max_depth=30, min_samples_leaf=4, n_estimators=200, score=0.854, total=   1.4s\n",
      "[CV] max_depth=30, min_samples_leaf=4, n_estimators=200 ..............\n",
      "[CV]  max_depth=30, min_samples_leaf=4, n_estimators=200, score=0.855, total=   1.3s\n",
      "[CV] max_depth=30, min_samples_leaf=4, n_estimators=200 ..............\n",
      "[CV]  max_depth=30, min_samples_leaf=4, n_estimators=200, score=0.831, total=   1.3s\n",
      "[CV] max_depth=30, min_samples_leaf=4, n_estimators=200 ..............\n",
      "[CV]  max_depth=30, min_samples_leaf=4, n_estimators=200, score=0.853, total=   1.4s\n",
      "[CV] max_depth=30, min_samples_leaf=4, n_estimators=250 ..............\n",
      "[CV]  max_depth=30, min_samples_leaf=4, n_estimators=250, score=0.853, total=   1.6s\n",
      "[CV] max_depth=30, min_samples_leaf=4, n_estimators=250 ..............\n",
      "[CV]  max_depth=30, min_samples_leaf=4, n_estimators=250, score=0.855, total=   1.7s\n",
      "[CV] max_depth=30, min_samples_leaf=4, n_estimators=250 ..............\n",
      "[CV]  max_depth=30, min_samples_leaf=4, n_estimators=250, score=0.854, total=   1.6s\n",
      "[CV] max_depth=30, min_samples_leaf=4, n_estimators=250 ..............\n",
      "[CV]  max_depth=30, min_samples_leaf=4, n_estimators=250, score=0.838, total=   1.6s\n",
      "[CV] max_depth=30, min_samples_leaf=4, n_estimators=250 ..............\n",
      "[CV]  max_depth=30, min_samples_leaf=4, n_estimators=250, score=0.849, total=   1.6s\n",
      "[CV] max_depth=30, min_samples_leaf=4, n_estimators=300 ..............\n",
      "[CV]  max_depth=30, min_samples_leaf=4, n_estimators=300, score=0.849, total=   2.0s\n",
      "[CV] max_depth=30, min_samples_leaf=4, n_estimators=300 ..............\n",
      "[CV]  max_depth=30, min_samples_leaf=4, n_estimators=300, score=0.858, total=   2.0s\n",
      "[CV] max_depth=30, min_samples_leaf=4, n_estimators=300 ..............\n",
      "[CV]  max_depth=30, min_samples_leaf=4, n_estimators=300, score=0.848, total=   2.0s\n",
      "[CV] max_depth=30, min_samples_leaf=4, n_estimators=300 ..............\n",
      "[CV]  max_depth=30, min_samples_leaf=4, n_estimators=300, score=0.828, total=   2.0s\n",
      "[CV] max_depth=30, min_samples_leaf=4, n_estimators=300 ..............\n",
      "[CV]  max_depth=30, min_samples_leaf=4, n_estimators=300, score=0.854, total=   1.9s\n",
      "[CV] max_depth=30, min_samples_leaf=5, n_estimators=150 ..............\n",
      "[CV]  max_depth=30, min_samples_leaf=5, n_estimators=150, score=0.853, total=   1.0s\n",
      "[CV] max_depth=30, min_samples_leaf=5, n_estimators=150 ..............\n",
      "[CV]  max_depth=30, min_samples_leaf=5, n_estimators=150, score=0.856, total=   1.0s\n",
      "[CV] max_depth=30, min_samples_leaf=5, n_estimators=150 ..............\n",
      "[CV]  max_depth=30, min_samples_leaf=5, n_estimators=150, score=0.848, total=   0.9s\n",
      "[CV] max_depth=30, min_samples_leaf=5, n_estimators=150 ..............\n",
      "[CV]  max_depth=30, min_samples_leaf=5, n_estimators=150, score=0.835, total=   0.9s\n",
      "[CV] max_depth=30, min_samples_leaf=5, n_estimators=150 ..............\n",
      "[CV]  max_depth=30, min_samples_leaf=5, n_estimators=150, score=0.854, total=   0.9s\n",
      "[CV] max_depth=30, min_samples_leaf=5, n_estimators=200 ..............\n",
      "[CV]  max_depth=30, min_samples_leaf=5, n_estimators=200, score=0.851, total=   1.3s\n",
      "[CV] max_depth=30, min_samples_leaf=5, n_estimators=200 ..............\n",
      "[CV]  max_depth=30, min_samples_leaf=5, n_estimators=200, score=0.859, total=   1.2s\n",
      "[CV] max_depth=30, min_samples_leaf=5, n_estimators=200 ..............\n",
      "[CV]  max_depth=30, min_samples_leaf=5, n_estimators=200, score=0.849, total=   1.3s\n",
      "[CV] max_depth=30, min_samples_leaf=5, n_estimators=200 ..............\n",
      "[CV]  max_depth=30, min_samples_leaf=5, n_estimators=200, score=0.835, total=   1.3s\n",
      "[CV] max_depth=30, min_samples_leaf=5, n_estimators=200 ..............\n",
      "[CV]  max_depth=30, min_samples_leaf=5, n_estimators=200, score=0.851, total=   1.3s\n",
      "[CV] max_depth=30, min_samples_leaf=5, n_estimators=250 ..............\n",
      "[CV]  max_depth=30, min_samples_leaf=5, n_estimators=250, score=0.850, total=   1.6s\n",
      "[CV] max_depth=30, min_samples_leaf=5, n_estimators=250 ..............\n",
      "[CV]  max_depth=30, min_samples_leaf=5, n_estimators=250, score=0.858, total=   1.6s\n",
      "[CV] max_depth=30, min_samples_leaf=5, n_estimators=250 ..............\n",
      "[CV]  max_depth=30, min_samples_leaf=5, n_estimators=250, score=0.853, total=   1.6s\n",
      "[CV] max_depth=30, min_samples_leaf=5, n_estimators=250 ..............\n",
      "[CV]  max_depth=30, min_samples_leaf=5, n_estimators=250, score=0.836, total=   1.7s\n",
      "[CV] max_depth=30, min_samples_leaf=5, n_estimators=250 ..............\n",
      "[CV]  max_depth=30, min_samples_leaf=5, n_estimators=250, score=0.855, total=   1.6s\n",
      "[CV] max_depth=30, min_samples_leaf=5, n_estimators=300 ..............\n",
      "[CV]  max_depth=30, min_samples_leaf=5, n_estimators=300, score=0.861, total=   2.0s\n",
      "[CV] max_depth=30, min_samples_leaf=5, n_estimators=300 ..............\n",
      "[CV]  max_depth=30, min_samples_leaf=5, n_estimators=300, score=0.851, total=   1.9s\n",
      "[CV] max_depth=30, min_samples_leaf=5, n_estimators=300 ..............\n",
      "[CV]  max_depth=30, min_samples_leaf=5, n_estimators=300, score=0.850, total=   2.0s\n",
      "[CV] max_depth=30, min_samples_leaf=5, n_estimators=300 ..............\n",
      "[CV]  max_depth=30, min_samples_leaf=5, n_estimators=300, score=0.834, total=   1.9s\n",
      "[CV] max_depth=30, min_samples_leaf=5, n_estimators=300 ..............\n"
     ]
    },
    {
     "name": "stdout",
     "output_type": "stream",
     "text": [
      "[CV]  max_depth=30, min_samples_leaf=5, n_estimators=300, score=0.853, total=   1.9s\n"
     ]
    },
    {
     "name": "stderr",
     "output_type": "stream",
     "text": [
      "[Parallel(n_jobs=1)]: Done 480 out of 480 | elapsed: 11.5min finished\n"
     ]
    },
    {
     "data": {
      "text/plain": [
       "GridSearchCV(cv=None, error_score=nan,\n",
       "             estimator=RandomForestClassifier(bootstrap=True, ccp_alpha=0.0,\n",
       "                                              class_weight=None,\n",
       "                                              criterion='gini', max_depth=None,\n",
       "                                              max_features='auto',\n",
       "                                              max_leaf_nodes=None,\n",
       "                                              max_samples=None,\n",
       "                                              min_impurity_decrease=0.0,\n",
       "                                              min_impurity_split=None,\n",
       "                                              min_samples_leaf=1,\n",
       "                                              min_samples_split=2,\n",
       "                                              min_weight_fraction_leaf=0.0,\n",
       "                                              n_estimators=100, n_jobs=None,\n",
       "                                              oob_score=False,\n",
       "                                              random_state=None, verbose=0,\n",
       "                                              warm_start=False),\n",
       "             iid='deprecated', n_jobs=None,\n",
       "             param_grid={'max_depth': [5, 10, 15, 20, 25, 30],\n",
       "                         'min_samples_leaf': [2, 3, 4, 5],\n",
       "                         'n_estimators': [150, 200, 250, 300]},\n",
       "             pre_dispatch='2*n_jobs', refit=True, return_train_score=False,\n",
       "             scoring=None, verbose=3)"
      ]
     },
     "execution_count": 377,
     "metadata": {},
     "output_type": "execute_result"
    }
   ],
   "source": [
    "gs.fit(X_train_LRO,y_train_LRO)"
   ]
  },
  {
   "cell_type": "code",
   "execution_count": 378,
   "metadata": {},
   "outputs": [
    {
     "data": {
      "text/plain": [
       "{'max_depth': 10, 'min_samples_leaf': 3, 'n_estimators': 300}"
      ]
     },
     "execution_count": 378,
     "metadata": {},
     "output_type": "execute_result"
    }
   ],
   "source": [
    "gs.best_params_"
   ]
  },
  {
   "cell_type": "code",
   "execution_count": 379,
   "metadata": {},
   "outputs": [],
   "source": [
    "rf1= RandomForestClassifier(bootstrap=True,class_weight=None, criterion='gini',max_depth=10,max_features='auto',\n",
    "                          max_leaf_nodes=None,min_impurity_decrease=0.0, min_impurity_split=None,min_samples_leaf=3,\n",
    "                          min_samples_split=2,min_weight_fraction_leaf=0.0, n_estimators=300,n_jobs=None,\n",
    "                          oob_score=True, random_state=101,verbose=0,warm_start=False)"
   ]
  },
  {
   "cell_type": "code",
   "execution_count": 380,
   "metadata": {},
   "outputs": [
    {
     "data": {
      "text/plain": [
       "RandomForestClassifier(bootstrap=True, ccp_alpha=0.0, class_weight=None,\n",
       "                       criterion='gini', max_depth=10, max_features='auto',\n",
       "                       max_leaf_nodes=None, max_samples=None,\n",
       "                       min_impurity_decrease=0.0, min_impurity_split=None,\n",
       "                       min_samples_leaf=3, min_samples_split=2,\n",
       "                       min_weight_fraction_leaf=0.0, n_estimators=300,\n",
       "                       n_jobs=None, oob_score=True, random_state=101, verbose=0,\n",
       "                       warm_start=False)"
      ]
     },
     "execution_count": 380,
     "metadata": {},
     "output_type": "execute_result"
    }
   ],
   "source": [
    "rf1.fit(X_train_LRO,y_train_LRO)"
   ]
  },
  {
   "cell_type": "code",
   "execution_count": 382,
   "metadata": {},
   "outputs": [
    {
     "data": {
      "text/plain": [
       "0.849"
      ]
     },
     "execution_count": 382,
     "metadata": {},
     "output_type": "execute_result"
    }
   ],
   "source": [
    "rf1.oob_score_"
   ]
  },
  {
   "cell_type": "code",
   "execution_count": 383,
   "metadata": {},
   "outputs": [],
   "source": [
    "pred_rf1=rf1.predict(X_test_LRO)"
   ]
  },
  {
   "cell_type": "code",
   "execution_count": 384,
   "metadata": {},
   "outputs": [
    {
     "name": "stdout",
     "output_type": "stream",
     "text": [
      "0.844\n"
     ]
    }
   ],
   "source": [
    "print(accuracy_score(y_test_LRO,pred_rf1))"
   ]
  },
  {
   "cell_type": "code",
   "execution_count": 385,
   "metadata": {},
   "outputs": [
    {
     "name": "stdout",
     "output_type": "stream",
     "text": [
      "[[719  36]\n",
      " [120 125]]\n"
     ]
    }
   ],
   "source": [
    "print(confusion_matrix(y_test_LRO,pred_rf1))"
   ]
  },
  {
   "cell_type": "code",
   "execution_count": 386,
   "metadata": {},
   "outputs": [
    {
     "name": "stdout",
     "output_type": "stream",
     "text": [
      "              precision    recall  f1-score   support\n",
      "\n",
      "       <=50K       0.86      0.95      0.90       755\n",
      "        >50K       0.78      0.51      0.62       245\n",
      "\n",
      "    accuracy                           0.84      1000\n",
      "   macro avg       0.82      0.73      0.76      1000\n",
      "weighted avg       0.84      0.84      0.83      1000\n",
      "\n"
     ]
    }
   ],
   "source": [
    "print(classification_report(y_test_LRO,pred_rf1))"
   ]
  },
  {
   "cell_type": "markdown",
   "metadata": {},
   "source": [
    "## g) KNN Algorithm"
   ]
  },
  {
   "cell_type": "code",
   "execution_count": 387,
   "metadata": {},
   "outputs": [],
   "source": [
    "from sklearn.neighbors import KNeighborsClassifier"
   ]
  },
  {
   "cell_type": "code",
   "execution_count": 388,
   "metadata": {},
   "outputs": [],
   "source": [
    "kn=KNeighborsClassifier()"
   ]
  },
  {
   "cell_type": "code",
   "execution_count": 389,
   "metadata": {},
   "outputs": [
    {
     "data": {
      "text/plain": [
       "KNeighborsClassifier(algorithm='auto', leaf_size=30, metric='minkowski',\n",
       "                     metric_params=None, n_jobs=None, n_neighbors=5, p=2,\n",
       "                     weights='uniform')"
      ]
     },
     "execution_count": 389,
     "metadata": {},
     "output_type": "execute_result"
    }
   ],
   "source": [
    "kn.fit(X_train_LRO,y_train_LRO)"
   ]
  },
  {
   "cell_type": "code",
   "execution_count": 390,
   "metadata": {},
   "outputs": [],
   "source": [
    "pred_kn=kn.predict(X_test_LRO)"
   ]
  },
  {
   "cell_type": "code",
   "execution_count": 391,
   "metadata": {},
   "outputs": [
    {
     "name": "stdout",
     "output_type": "stream",
     "text": [
      "0.791\n"
     ]
    }
   ],
   "source": [
    "print(accuracy_score(y_test_LRO,pred_kn))"
   ]
  },
  {
   "cell_type": "code",
   "execution_count": 392,
   "metadata": {},
   "outputs": [
    {
     "name": "stdout",
     "output_type": "stream",
     "text": [
      "[[668  87]\n",
      " [122 123]]\n"
     ]
    }
   ],
   "source": [
    "print(confusion_matrix(y_test_LRO,pred_kn))"
   ]
  },
  {
   "cell_type": "code",
   "execution_count": 393,
   "metadata": {},
   "outputs": [
    {
     "name": "stdout",
     "output_type": "stream",
     "text": [
      "              precision    recall  f1-score   support\n",
      "\n",
      "       <=50K       0.85      0.88      0.86       755\n",
      "        >50K       0.59      0.50      0.54       245\n",
      "\n",
      "    accuracy                           0.79      1000\n",
      "   macro avg       0.72      0.69      0.70      1000\n",
      "weighted avg       0.78      0.79      0.79      1000\n",
      "\n"
     ]
    }
   ],
   "source": [
    "print(classification_report(y_test_LRO,pred_kn))"
   ]
  },
  {
   "cell_type": "code",
   "execution_count": 401,
   "metadata": {},
   "outputs": [
    {
     "name": "stdout",
     "output_type": "stream",
     "text": [
      "[0.234, 0.205, 0.201, 0.201, 0.209, 0.194, 0.198, 0.182, 0.197, 0.187, 0.187, 0.175, 0.187, 0.18, 0.184, 0.178, 0.181, 0.171, 0.175, 0.176, 0.178, 0.17, 0.178, 0.178, 0.174, 0.174, 0.175, 0.172, 0.172, 0.169, 0.174, 0.173, 0.171, 0.17, 0.177, 0.174, 0.177, 0.178, 0.173]\n"
     ]
    }
   ],
   "source": [
    "error_rate=[]\n",
    "\n",
    "for i in range(1,40):\n",
    "    knn=KNeighborsClassifier(n_neighbors=i)\n",
    "    knn.fit(X_train_LRO,y_train_LRO)\n",
    "    pred_knn=knn.predict(X_test_LRO)\n",
    "    error_rate.append(np.mean(pred_knn !=y_test_LRO))\n",
    "\n",
    "print(error_rate)"
   ]
  },
  {
   "cell_type": "code",
   "execution_count": 399,
   "metadata": {},
   "outputs": [],
   "source": [
    "import matplotlib.pyplot as plt"
   ]
  },
  {
   "cell_type": "code",
   "execution_count": 400,
   "metadata": {},
   "outputs": [
    {
     "data": {
      "text/plain": [
       "Text(0, 0.5, 'Error Rate')"
      ]
     },
     "execution_count": 400,
     "metadata": {},
     "output_type": "execute_result"
    },
    {
     "data": {
      "image/png": "[encoded data removed]",
      "text/plain": [
       "<Figure size 720x432 with 1 Axes>"
      ]
     },
     "metadata": {
      "needs_background": "light"
     },
     "output_type": "display_data"
    }
   ],
   "source": [
    "plt.figure(figsize=(10,6))\n",
    "plt.plot(range(1,40),error_rate,color='blue', linestyle='dashed', marker='o',\n",
    "         markerfacecolor='red', markersize=10)\n",
    "plt.title('Error Rate vs. K Value')\n",
    "plt.xlabel('K')\n",
    "plt.ylabel('Error Rate')"
   ]
  },
  {
   "cell_type": "markdown",
   "metadata": {},
   "source": [
    "# 5. Conclusion"
   ]
  },
  {
   "cell_type": "markdown",
   "metadata": {},
   "source": [
    "Accuracy of \n",
    "Logistic Regression with Label Encoding=0.805\n",
    "Logistic Regression with One Hot Encoding=0.805\n",
    "Decision Tree=0.774\n",
    "Random Forest=0.828\n",
    "Random Forest With Grid Search=0.844\n",
    "KNN=0.791\n",
    "\n",
    "Random Forest Only gives highest Accuracy comparing to all others"
   ]
  }
 ],
 "metadata": {
  "kernelspec": {
   "display_name": "Python 3",
   "language": "python",
   "name": "python3"
  },
  "language_info": {
   "codemirror_mode": {
    "name": "ipython",
    "version": 3
   },
   "file_extension": ".py",
   "mimetype": "text/x-python",
   "name": "python",
   "nbconvert_exporter": "python",
   "pygments_lexer": "ipython3",
   "version": "3.7.6"
  }
 },
 "nbformat": 4,
 "nbformat_minor": 4
}
